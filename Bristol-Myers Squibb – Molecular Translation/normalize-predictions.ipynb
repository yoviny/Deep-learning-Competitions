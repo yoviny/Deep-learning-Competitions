{
 "cells": [
  {
   "cell_type": "markdown",
   "metadata": {
    "papermill": {
     "duration": 0.005708,
     "end_time": "2021-06-03T16:24:31.824487",
     "exception": false,
     "start_time": "2021-06-03T16:24:31.818779",
     "status": "completed"
    },
    "tags": []
   },
   "source": [
    "#credit to https://www.kaggle.com/nofreewill"
   ]
  },
  {
   "cell_type": "code",
   "execution_count": 1,
   "metadata": {
    "_cell_guid": "b1076dfc-b9ad-4769-8c92-a6c4dae69d19",
    "_uuid": "8f2839f25d086af736a60e9eeb907d3b93b6e0e5",
    "execution": {
     "iopub.execute_input": "2021-06-03T16:24:31.838862Z",
     "iopub.status.busy": "2021-06-03T16:24:31.838293Z",
     "iopub.status.idle": "2021-06-03T16:25:41.141450Z",
     "shell.execute_reply": "2021-06-03T16:25:41.140792Z",
     "shell.execute_reply.started": "2021-06-03T15:52:30.221744Z"
    },
    "papermill": {
     "duration": 69.312445,
     "end_time": "2021-06-03T16:25:41.141661",
     "exception": false,
     "start_time": "2021-06-03T16:24:31.829216",
     "status": "completed"
    },
    "tags": []
   },
   "outputs": [
    {
     "name": "stdout",
     "output_type": "stream",
     "text": [
      "Collecting package metadata (current_repodata.json): done\n",
      "Solving environment: done\n",
      "\n",
      "## Package Plan ##\n",
      "\n",
      "  environment location: /opt/conda\n",
      "\n",
      "  added / updated specs:\n",
      "    - rdkit\n",
      "\n",
      "\n",
      "The following packages will be downloaded:\n",
      "\n",
      "    package                    |            build\n",
      "    ---------------------------|-----------------\n",
      "    boost-1.74.0               |   py37h6dcda5c_3         342 KB  conda-forge\n",
      "    ca-certificates-2021.5.30  |       ha878542_0         136 KB  conda-forge\n",
      "    certifi-2021.5.30          |   py37h89c1867_0         141 KB  conda-forge\n",
      "    conda-4.10.1               |   py37h89c1867_0         3.1 MB  conda-forge\n",
      "    openssl-1.1.1k             |       h7f98852_0         2.1 MB  conda-forge\n",
      "    rdkit-2021.03.2            |   py37haf5a968_0        38.3 MB  conda-forge\n",
      "    reportlab-3.5.67           |   py37h69800bb_0         2.4 MB  conda-forge\n",
      "    ------------------------------------------------------------\n",
      "                                           Total:        46.5 MB\n",
      "\n",
      "The following NEW packages will be INSTALLED:\n",
      "\n",
      "  boost              conda-forge/linux-64::boost-1.74.0-py37h6dcda5c_3\n",
      "  rdkit              conda-forge/linux-64::rdkit-2021.03.2-py37haf5a968_0\n",
      "  reportlab          conda-forge/linux-64::reportlab-3.5.67-py37h69800bb_0\n",
      "\n",
      "The following packages will be UPDATED:\n",
      "\n",
      "  ca-certificates                      2020.12.5-ha878542_0 --> 2021.5.30-ha878542_0\n",
      "  certifi                          2020.12.5-py37h89c1867_1 --> 2021.5.30-py37h89c1867_0\n",
      "  conda                                4.9.2-py37h89c1867_0 --> 4.10.1-py37h89c1867_0\n",
      "  openssl                                 1.1.1j-h7f98852_0 --> 1.1.1k-h7f98852_0\n",
      "\n",
      "\n",
      "\n",
      "Downloading and Extracting Packages\n",
      "conda-4.10.1         | 3.1 MB    | ##################################### | 100% \n",
      "boost-1.74.0         | 342 KB    | ##################################### | 100% \n",
      "openssl-1.1.1k       | 2.1 MB    | ##################################### | 100% \n",
      "rdkit-2021.03.2      | 38.3 MB   | ##################################### | 100% \n",
      "ca-certificates-2021 | 136 KB    | ##################################### | 100% \n",
      "certifi-2021.5.30    | 141 KB    | ##################################### | 100% \n",
      "reportlab-3.5.67     | 2.4 MB    | ##################################### | 100% \n",
      "Preparing transaction: done\n",
      "Verifying transaction: done\n",
      "Executing transaction: done\n"
     ]
    }
   ],
   "source": [
    "!conda install -y -c rdkit rdkit"
   ]
  },
  {
   "cell_type": "code",
   "execution_count": 2,
   "metadata": {
    "execution": {
     "iopub.execute_input": "2021-06-03T16:25:41.276302Z",
     "iopub.status.busy": "2021-06-03T16:25:41.275277Z",
     "iopub.status.idle": "2021-06-03T16:25:41.279085Z",
     "shell.execute_reply": "2021-06-03T16:25:41.279565Z",
     "shell.execute_reply.started": "2021-06-03T15:53:59.905634Z"
    },
    "papermill": {
     "duration": 0.072843,
     "end_time": "2021-06-03T16:25:41.279736",
     "exception": false,
     "start_time": "2021-06-03T16:25:41.206893",
     "status": "completed"
    },
    "tags": []
   },
   "outputs": [
    {
     "name": "stdout",
     "output_type": "stream",
     "text": [
      "Writing normalize_inchis.py\n"
     ]
    }
   ],
   "source": [
    "%%writefile normalize_inchis.py\n",
    "\n",
    "from tqdm import tqdm\n",
    "from rdkit import Chem\n",
    "from rdkit import RDLogger\n",
    "RDLogger.DisableLog('rdApp.*')\n",
    "from pathlib import Path\n",
    "\n",
    "def normalize_inchi(inchi):\n",
    "    try:\n",
    "        mol = Chem.MolFromInchi(inchi)\n",
    "        return inchi if (mol is None) else Chem.MolToInchi(mol)\n",
    "    except: return inchi\n",
    "        \n",
    "submission_name = '../input/bms-efficientnetv2-tpu-ensemble/submission.csv'\n",
    "norm_path = Path('submission_norm.csv')\n",
    "\n",
    "N = norm_path.read_text().count('\\n') if norm_path.exists() else 0\n",
    "print(N, 'number of predictions already normalized')\n",
    "\n",
    "r = open(submission_name, 'r')\n",
    "write_mode = 'w' if N == 0 else 'a'\n",
    "w = open(str(norm_path), write_mode, buffering=1)\n",
    "\n",
    "for _ in range(N):\n",
    "    r.readline()\n",
    "line = r.readline()  # this line is the header or is where it died last time\n",
    "w.write(line)\n",
    "\n",
    "pbar = tqdm()\n",
    "while True:\n",
    "    line = r.readline()\n",
    "    if not line:\n",
    "        break  # done\n",
    "    image_id = line.split(',')[0]\n",
    "    inchi = ','.join(line[:-1].split(',')[1:]).replace('\"','')\n",
    "    inchi_norm = normalize_inchi(inchi)\n",
    "    w.write(f'{image_id},\"{inchi_norm}\"\\n')\n",
    "    pbar.update(1)\n",
    "\n",
    "r.close()\n",
    "w.close()"
   ]
  },
  {
   "cell_type": "code",
   "execution_count": 3,
   "metadata": {
    "execution": {
     "iopub.execute_input": "2021-06-03T16:25:41.414647Z",
     "iopub.status.busy": "2021-06-03T16:25:41.410838Z",
     "iopub.status.idle": "2021-06-03T16:25:42.148133Z",
     "shell.execute_reply": "2021-06-03T16:25:42.147600Z",
     "shell.execute_reply.started": "2021-06-03T15:53:59.915879Z"
    },
    "papermill": {
     "duration": 0.805995,
     "end_time": "2021-06-03T16:25:42.148287",
     "exception": false,
     "start_time": "2021-06-03T16:25:41.342292",
     "status": "completed"
    },
    "tags": []
   },
   "outputs": [
    {
     "name": "stdout",
     "output_type": "stream",
     "text": [
      "__notebook__.ipynb  normalize_inchis.py\n"
     ]
    }
   ],
   "source": [
    "!ls"
   ]
  },
  {
   "cell_type": "code",
   "execution_count": 4,
   "metadata": {
    "execution": {
     "iopub.execute_input": "2021-06-03T16:25:42.282527Z",
     "iopub.status.busy": "2021-06-03T16:25:42.281919Z",
     "iopub.status.idle": "2021-06-03T16:48:31.501441Z",
     "shell.execute_reply": "2021-06-03T16:48:31.500954Z",
     "shell.execute_reply.started": "2021-06-03T15:54:01.184812Z"
    },
    "papermill": {
     "duration": 1369.290753,
     "end_time": "2021-06-03T16:48:31.501596",
     "exception": false,
     "start_time": "2021-06-03T16:25:42.210843",
     "status": "completed"
    },
    "tags": []
   },
   "outputs": [
    {
     "name": "stdout",
     "output_type": "stream",
     "text": [
      "0 number of predictions already normalized\n",
      "97164it [01:21, 1213.50it/s]/bin/bash: line 1:  9530 Segmentation fault      (core dumped) python normalize_inchis.py\n",
      "97285 number of predictions already normalized\n",
      "56726it [00:46, 1197.67it/s]/bin/bash: line 1:  9532 Segmentation fault      (core dumped) python normalize_inchis.py\n",
      "154096 number of predictions already normalized\n",
      "92693it [01:17, 1222.40it/s]/bin/bash: line 1:  9534 Segmentation fault      (core dumped) python normalize_inchis.py\n",
      "246895 number of predictions already normalized\n",
      "31562it [00:26, 1235.78it/s]/bin/bash: line 1:  9536 Segmentation fault      (core dumped) python normalize_inchis.py\n",
      "278526 number of predictions already normalized\n",
      "27432it [00:22, 1206.65it/s]/bin/bash: line 1:  9538 Segmentation fault      (core dumped) python normalize_inchis.py\n",
      "306079 number of predictions already normalized\n",
      "33003it [00:27, 1245.54it/s]/bin/bash: line 1:  9540 Segmentation fault      (core dumped) python normalize_inchis.py\n",
      "339182 number of predictions already normalized\n",
      "1875it [00:01, 1239.74it/s]/bin/bash: line 1:  9542 Segmentation fault      (core dumped) python normalize_inchis.py\n",
      "341091 number of predictions already normalized\n",
      "4456it [00:03, 1225.76it/s]/bin/bash: line 1:  9544 Segmentation fault      (core dumped) python normalize_inchis.py\n",
      "345563 number of predictions already normalized\n",
      "34050it [00:28, 1164.48it/s]/bin/bash: line 1:  9546 Segmentation fault      (core dumped) python normalize_inchis.py\n",
      "379683 number of predictions already normalized\n",
      "40178it [00:33, 1195.47it/s]/bin/bash: line 1:  9548 Segmentation fault      (core dumped) python normalize_inchis.py\n",
      "419871 number of predictions already normalized\n",
      "150086it [02:04, 1235.30it/s]/bin/bash: line 1:  9550 Segmentation fault      (core dumped) python normalize_inchis.py\n",
      "570069 number of predictions already normalized\n",
      "25346it [00:21, 1233.05it/s]/bin/bash: line 1:  9552 Segmentation fault      (core dumped) python normalize_inchis.py\n",
      "595453 number of predictions already normalized\n",
      "39761it [00:32, 1205.70it/s]/bin/bash: line 1:  9554 Segmentation fault      (core dumped) python normalize_inchis.py\n",
      "635265 number of predictions already normalized\n",
      "133939it [01:50, 1212.78it/s]/bin/bash: line 1:  9556 Segmentation fault      (core dumped) python normalize_inchis.py\n",
      "769222 number of predictions already normalized\n",
      "48632it [00:40, 1192.29it/s]/bin/bash: line 1:  9558 Segmentation fault      (core dumped) python normalize_inchis.py\n",
      "817960 number of predictions already normalized\n",
      "60899it [00:50, 1231.39it/s]/bin/bash: line 1:  9560 Segmentation fault      (core dumped) python normalize_inchis.py\n",
      "878928 number of predictions already normalized\n",
      "26707it [00:22, 1197.03it/s]/bin/bash: line 1:  9562 Segmentation fault      (core dumped) python normalize_inchis.py\n",
      "905719 number of predictions already normalized\n",
      "34193it [00:28, 1239.13it/s]/bin/bash: line 1:  9564 Segmentation fault      (core dumped) python normalize_inchis.py\n",
      "939988 number of predictions already normalized\n",
      "55066it [00:45, 1168.93it/s]/bin/bash: line 1:  9566 Segmentation fault      (core dumped) python normalize_inchis.py\n",
      "995155 number of predictions already normalized\n",
      "31189it [00:26, 1185.95it/s]/bin/bash: line 1:  9568 Segmentation fault      (core dumped) python normalize_inchis.py\n",
      "1026363 number of predictions already normalized\n",
      "40767it [00:33, 1193.21it/s]/bin/bash: line 1:  9570 Segmentation fault      (core dumped) python normalize_inchis.py\n",
      "1067209 number of predictions already normalized\n",
      "14606it [00:12, 1225.27it/s]/bin/bash: line 1:  9572 Segmentation fault      (core dumped) python normalize_inchis.py\n",
      "1081884 number of predictions already normalized\n",
      "14361it [00:12, 1207.67it/s]/bin/bash: line 1:  9574 Segmentation fault      (core dumped) python normalize_inchis.py\n",
      "1096294 number of predictions already normalized\n",
      "96542it [01:21, 1180.72it/s]/bin/bash: line 1:  9576 Segmentation fault      (core dumped) python normalize_inchis.py\n",
      "1192918 number of predictions already normalized\n",
      "45509it [00:38, 1219.21it/s]/bin/bash: line 1:  9578 Segmentation fault      (core dumped) python normalize_inchis.py\n",
      "1238487 number of predictions already normalized\n",
      "18163it [00:15, 1213.93it/s]/bin/bash: line 1:  9580 Segmentation fault      (core dumped) python normalize_inchis.py\n",
      "1256760 number of predictions already normalized\n",
      "39867it [00:33, 1195.63it/s]/bin/bash: line 1:  9582 Segmentation fault      (core dumped) python normalize_inchis.py\n",
      "1296707 number of predictions already normalized\n",
      "17197it [00:14, 1216.97it/s]/bin/bash: line 1:  9584 Segmentation fault      (core dumped) python normalize_inchis.py\n",
      "1313932 number of predictions already normalized\n",
      "26440it [00:21, 1203.68it/s]/bin/bash: line 1:  9586 Segmentation fault      (core dumped) python normalize_inchis.py\n",
      "1340410 number of predictions already normalized\n",
      "68994it [00:57, 1200.56it/s]/bin/bash: line 1:  9588 Segmentation fault      (core dumped) python normalize_inchis.py\n",
      "1409503 number of predictions already normalized\n",
      "46499it [00:38, 1199.29it/s]/bin/bash: line 1:  9590 Segmentation fault      (core dumped) python normalize_inchis.py\n",
      "1456123 number of predictions already normalized\n",
      "3920it [00:03, 1222.79it/s]/bin/bash: line 1:  9592 Segmentation fault      (core dumped) python normalize_inchis.py\n",
      "1460055 number of predictions already normalized\n",
      "49468it [00:41, 1214.63it/s]/bin/bash: line 1:  9594 Segmentation fault      (core dumped) python normalize_inchis.py\n",
      "1509551 number of predictions already normalized\n",
      "21811it [00:18, 1206.55it/s]/bin/bash: line 1:  9596 Segmentation fault      (core dumped) python normalize_inchis.py\n",
      "1531364 number of predictions already normalized\n",
      "84743it [01:10, 1206.71it/s]\n"
     ]
    }
   ],
   "source": [
    "!while [ 1 ]; do python normalize_inchis.py && break; done"
   ]
  },
  {
   "cell_type": "code",
   "execution_count": null,
   "metadata": {
    "papermill": {
     "duration": 2.870157,
     "end_time": "2021-06-03T16:48:37.169351",
     "exception": false,
     "start_time": "2021-06-03T16:48:34.299194",
     "status": "completed"
    },
    "tags": []
   },
   "outputs": [],
   "source": [
    "import pandas as pd\n",
    "import Levenshtein\n",
    "from pathlib import Path\n",
    "from tqdm import tqdm\n",
    "\n",
    "submission_name = '../input/bms-efficientnetv2-tpu-ensemble/submission.csvv'\n",
    "norm_path = Path('submission_norm.csv')\n",
    "\n",
    "sub_df = pd.read_csv(submission_name)\n",
    "sub_norm_df = pd.read_csv(norm_path)\n",
    "\n",
    "lev = 0\n",
    "N = len(sub_df)\n",
    "for i in tqdm(range(N)):\n",
    "    inchi, inchi_norm = sub_df.iloc[i,1], sub_norm_df.iloc[i,1]\n",
    "    lev += Levenshtein.distance(inchi, inchi_norm)\n",
    "\n",
    "print(lev/N)"
   ]
  }
 ],
 "metadata": {
  "kernelspec": {
   "display_name": "Python 3",
   "language": "python",
   "name": "python3"
  },
  "language_info": {
   "codemirror_mode": {
    "name": "ipython",
    "version": 3
   },
   "file_extension": ".py",
   "mimetype": "text/x-python",
   "name": "python",
   "nbconvert_exporter": "python",
   "pygments_lexer": "ipython3",
   "version": "3.6.5"
  },
  "papermill": {
   "default_parameters": {},
   "duration": 1459.526754,
   "end_time": "2021-06-03T16:48:46.488991",
   "environment_variables": {},
   "exception": null,
   "input_path": "__notebook__.ipynb",
   "output_path": "__notebook__.ipynb",
   "parameters": {},
   "start_time": "2021-06-03T16:24:26.962237",
   "version": "2.2.2"
  }
 },
 "nbformat": 4,
 "nbformat_minor": 4
}
