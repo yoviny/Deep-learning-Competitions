{
 "cells": [
  {
   "cell_type": "code",
   "execution_count": 1,
   "metadata": {
    "execution": {
     "iopub.execute_input": "2021-01-10T14:29:23.613104Z",
     "iopub.status.busy": "2021-01-10T14:29:23.612145Z",
     "iopub.status.idle": "2021-01-10T14:30:54.992502Z",
     "shell.execute_reply": "2021-01-10T14:30:54.993359Z"
    },
    "papermill": {
     "duration": 91.414773,
     "end_time": "2021-01-10T14:30:54.993618",
     "exception": false,
     "start_time": "2021-01-10T14:29:23.578845",
     "status": "completed"
    },
    "tags": []
   },
   "outputs": [
    {
     "name": "stdout",
     "output_type": "stream",
     "text": [
      "CPU times: user 1.86 s, sys: 450 ms, total: 2.31 s\n",
      "Wall time: 1min 31s\n"
     ]
    }
   ],
   "source": [
    "%%time\n",
    "!pip install --quiet ../input/pretrainedmodels/pretrainedmodels-0.7.4/\n",
    "!pip install --quiet ../input/timm031/timm-0.3.1-py3-none-any.whl\n",
    "!pip install --quiet ../input/pytorchcv/pytorchcv-0.0.58-py2.py3-none-any.whl"
   ]
  },
  {
   "cell_type": "markdown",
   "metadata": {
    "papermill": {
     "duration": 0.03502,
     "end_time": "2021-01-10T14:30:55.063877",
     "exception": false,
     "start_time": "2021-01-10T14:30:55.028857",
     "status": "completed"
    },
    "tags": []
   },
   "source": [
    "# Directory settings"
   ]
  },
  {
   "cell_type": "code",
   "execution_count": 2,
   "metadata": {
    "execution": {
     "iopub.execute_input": "2021-01-10T14:30:55.152350Z",
     "iopub.status.busy": "2021-01-10T14:30:55.150479Z",
     "iopub.status.idle": "2021-01-10T14:30:55.159128Z",
     "shell.execute_reply": "2021-01-10T14:30:55.159901Z"
    },
    "papermill": {
     "duration": 0.060621,
     "end_time": "2021-01-10T14:30:55.160108",
     "exception": false,
     "start_time": "2021-01-10T14:30:55.099487",
     "status": "completed"
    },
    "tags": []
   },
   "outputs": [],
   "source": [
    "# ====================================================\n",
    "# Directory settings\n",
    "# ====================================================\n",
    "import os\n",
    "\n",
    "OUTPUT_DIR = './'\n",
    "MODEL_DIR = '../input/cassava-models/'\n",
    "if not os.path.exists(OUTPUT_DIR):\n",
    "    os.makedirs(OUTPUT_DIR)\n",
    "\n",
    "TRAIN_PATH = '../input/cassava-leaf-disease-classification/train_images'\n",
    "TEST_PATH = '../input/cassava-leaf-disease-classification/test_images'"
   ]
  },
  {
   "cell_type": "markdown",
   "metadata": {
    "papermill": {
     "duration": 0.032766,
     "end_time": "2021-01-10T14:30:55.227038",
     "exception": false,
     "start_time": "2021-01-10T14:30:55.194272",
     "status": "completed"
    },
    "tags": []
   },
   "source": [
    "# CFG"
   ]
  },
  {
   "cell_type": "code",
   "execution_count": 3,
   "metadata": {
    "execution": {
     "iopub.execute_input": "2021-01-10T14:30:55.304543Z",
     "iopub.status.busy": "2021-01-10T14:30:55.303583Z",
     "iopub.status.idle": "2021-01-10T14:30:55.308813Z",
     "shell.execute_reply": "2021-01-10T14:30:55.309523Z"
    },
    "papermill": {
     "duration": 0.048784,
     "end_time": "2021-01-10T14:30:55.309718",
     "exception": false,
     "start_time": "2021-01-10T14:30:55.260934",
     "status": "completed"
    },
    "tags": []
   },
   "outputs": [],
   "source": [
    "# ====================================================\n",
    "# CFG\n",
    "# ====================================================\n",
    "class CFG:\n",
    "    debug=False\n",
    "    num_workers=4\n",
    "    model_name='se_resnext101_32x4d'\n",
    "    size=448\n",
    "    batch_size=32\n",
    "    seed=42\n",
    "    target_size=5\n",
    "    target_col='label'\n",
    "    n_fold=3\n",
    "    trn_fold=[0, 1, 2]\n",
    "    train=False\n",
    "    inference=True\n",
    "    \n",
    "tta=True"
   ]
  },
  {
   "cell_type": "markdown",
   "metadata": {
    "papermill": {
     "duration": 0.033443,
     "end_time": "2021-01-10T14:30:55.375896",
     "exception": false,
     "start_time": "2021-01-10T14:30:55.342453",
     "status": "completed"
    },
    "tags": []
   },
   "source": [
    "# Library"
   ]
  },
  {
   "cell_type": "code",
   "execution_count": 4,
   "metadata": {
    "execution": {
     "iopub.execute_input": "2021-01-10T14:30:55.454626Z",
     "iopub.status.busy": "2021-01-10T14:30:55.453384Z",
     "iopub.status.idle": "2021-01-10T14:31:01.718334Z",
     "shell.execute_reply": "2021-01-10T14:31:01.717721Z"
    },
    "papermill": {
     "duration": 6.309408,
     "end_time": "2021-01-10T14:31:01.718471",
     "exception": false,
     "start_time": "2021-01-10T14:30:55.409063",
     "status": "completed"
    },
    "tags": []
   },
   "outputs": [],
   "source": [
    "# ====================================================\n",
    "# Library\n",
    "# ====================================================\n",
    "import sys\n",
    "#sys.path.append('../input/pytorch-image-models/pytorch-image-models-master')\n",
    "\n",
    "import os\n",
    "import math\n",
    "import time\n",
    "import random\n",
    "import shutil\n",
    "from typing import List\n",
    "from pathlib import Path\n",
    "from contextlib import contextmanager\n",
    "from collections import defaultdict, Counter\n",
    "\n",
    "import scipy as sp\n",
    "import numpy as np\n",
    "import pandas as pd\n",
    "\n",
    "from sklearn import preprocessing\n",
    "from sklearn.metrics import accuracy_score\n",
    "from sklearn.model_selection import StratifiedKFold\n",
    "\n",
    "from tqdm.auto import tqdm\n",
    "from functools import partial\n",
    "\n",
    "import cv2\n",
    "from PIL import Image\n",
    "\n",
    "import torch\n",
    "import torch.nn as nn\n",
    "import torch.nn.functional as F\n",
    "from torch.optim import Adam, SGD\n",
    "import torchvision.models as models\n",
    "from torch.nn.parameter import Parameter\n",
    "from torch.utils.data import DataLoader, Dataset\n",
    "from torch.optim.lr_scheduler import CosineAnnealingWarmRestarts, CosineAnnealingLR, ReduceLROnPlateau\n",
    "\n",
    "from albumentations import (\n",
    "    Compose, OneOf, Normalize, Resize, RandomResizedCrop, RandomCrop, HorizontalFlip, VerticalFlip, \n",
    "    RandomBrightness, RandomContrast, RandomBrightnessContrast, Rotate, ShiftScaleRotate, Cutout, \n",
    "    IAAAdditiveGaussianNoise, Transpose\n",
    "    )\n",
    "from albumentations.pytorch import ToTensorV2\n",
    "from albumentations import ImageOnlyTransform\n",
    "\n",
    "#import timm\n",
    "import pretrainedmodels\n",
    "#from pytorchcv.model_provider import get_model as ptcv_get_model\n",
    "\n",
    "import warnings \n",
    "warnings.filterwarnings('ignore')\n",
    "\n",
    "device = torch.device('cuda' if torch.cuda.is_available() else 'cpu')"
   ]
  },
  {
   "cell_type": "markdown",
   "metadata": {
    "papermill": {
     "duration": 0.022618,
     "end_time": "2021-01-10T14:31:01.765570",
     "exception": false,
     "start_time": "2021-01-10T14:31:01.742952",
     "status": "completed"
    },
    "tags": []
   },
   "source": [
    "# Utils"
   ]
  },
  {
   "cell_type": "code",
   "execution_count": 5,
   "metadata": {
    "execution": {
     "iopub.execute_input": "2021-01-10T14:31:01.826268Z",
     "iopub.status.busy": "2021-01-10T14:31:01.825394Z",
     "iopub.status.idle": "2021-01-10T14:31:01.832263Z",
     "shell.execute_reply": "2021-01-10T14:31:01.831633Z"
    },
    "papermill": {
     "duration": 0.043938,
     "end_time": "2021-01-10T14:31:01.832381",
     "exception": false,
     "start_time": "2021-01-10T14:31:01.788443",
     "status": "completed"
    },
    "tags": []
   },
   "outputs": [],
   "source": [
    "# ====================================================\n",
    "# Utils\n",
    "# ====================================================\n",
    "def get_score(y_true, y_pred):\n",
    "    return accuracy_score(y_true, y_pred)\n",
    "\n",
    "\n",
    "@contextmanager\n",
    "def timer(name):\n",
    "    t0 = time.time()\n",
    "    LOGGER.info(f'[{name}] start')\n",
    "    yield\n",
    "    LOGGER.info(f'[{name}] done in {time.time() - t0:.0f} s.')\n",
    "\n",
    "\n",
    "def init_logger(log_file=OUTPUT_DIR+'inference.log'):\n",
    "    from logging import getLogger, INFO, FileHandler,  Formatter,  StreamHandler\n",
    "    logger = getLogger(__name__)\n",
    "    logger.setLevel(INFO)\n",
    "    handler1 = StreamHandler()\n",
    "    handler1.setFormatter(Formatter(\"%(message)s\"))\n",
    "    handler2 = FileHandler(filename=log_file)\n",
    "    handler2.setFormatter(Formatter(\"%(message)s\"))\n",
    "    logger.addHandler(handler1)\n",
    "    logger.addHandler(handler2)\n",
    "    return logger\n",
    "\n",
    "#LOGGER = init_logger()\n",
    "\n",
    "\n",
    "def seed_torch(seed=42):\n",
    "    random.seed(seed)\n",
    "    os.environ['PYTHONHASHSEED'] = str(seed)\n",
    "    np.random.seed(seed)\n",
    "    torch.manual_seed(seed)\n",
    "    torch.cuda.manual_seed(seed)\n",
    "    torch.backends.cudnn.deterministic = True\n",
    "\n",
    "seed_torch(seed=CFG.seed)"
   ]
  },
  {
   "cell_type": "markdown",
   "metadata": {
    "papermill": {
     "duration": 0.023061,
     "end_time": "2021-01-10T14:31:01.918261",
     "exception": false,
     "start_time": "2021-01-10T14:31:01.895200",
     "status": "completed"
    },
    "tags": []
   },
   "source": [
    "# Data Loading"
   ]
  },
  {
   "cell_type": "code",
   "execution_count": 6,
   "metadata": {
    "execution": {
     "iopub.execute_input": "2021-01-10T14:31:01.973999Z",
     "iopub.status.busy": "2021-01-10T14:31:01.973244Z",
     "iopub.status.idle": "2021-01-10T14:31:02.000712Z",
     "shell.execute_reply": "2021-01-10T14:31:02.001286Z"
    },
    "papermill": {
     "duration": 0.059958,
     "end_time": "2021-01-10T14:31:02.001441",
     "exception": false,
     "start_time": "2021-01-10T14:31:01.941483",
     "status": "completed"
    },
    "tags": []
   },
   "outputs": [
    {
     "data": {
      "text/html": [
       "<div>\n",
       "<style scoped>\n",
       "    .dataframe tbody tr th:only-of-type {\n",
       "        vertical-align: middle;\n",
       "    }\n",
       "\n",
       "    .dataframe tbody tr th {\n",
       "        vertical-align: top;\n",
       "    }\n",
       "\n",
       "    .dataframe thead th {\n",
       "        text-align: right;\n",
       "    }\n",
       "</style>\n",
       "<table border=\"1\" class=\"dataframe\">\n",
       "  <thead>\n",
       "    <tr style=\"text-align: right;\">\n",
       "      <th></th>\n",
       "      <th>image_id</th>\n",
       "      <th>label</th>\n",
       "    </tr>\n",
       "  </thead>\n",
       "  <tbody>\n",
       "    <tr>\n",
       "      <th>0</th>\n",
       "      <td>2216849948.jpg</td>\n",
       "      <td>4</td>\n",
       "    </tr>\n",
       "  </tbody>\n",
       "</table>\n",
       "</div>"
      ],
      "text/plain": [
       "         image_id  label\n",
       "0  2216849948.jpg      4"
      ]
     },
     "execution_count": 6,
     "metadata": {},
     "output_type": "execute_result"
    }
   ],
   "source": [
    "test = pd.read_csv('../input/cassava-leaf-disease-classification/sample_submission.csv')\n",
    "test.head()"
   ]
  },
  {
   "cell_type": "markdown",
   "metadata": {
    "papermill": {
     "duration": 0.02566,
     "end_time": "2021-01-10T14:31:02.054491",
     "exception": false,
     "start_time": "2021-01-10T14:31:02.028831",
     "status": "completed"
    },
    "tags": []
   },
   "source": [
    "# Dataset"
   ]
  },
  {
   "cell_type": "code",
   "execution_count": 7,
   "metadata": {
    "execution": {
     "iopub.execute_input": "2021-01-10T14:31:02.119635Z",
     "iopub.status.busy": "2021-01-10T14:31:02.118520Z",
     "iopub.status.idle": "2021-01-10T14:31:02.121733Z",
     "shell.execute_reply": "2021-01-10T14:31:02.121181Z"
    },
    "papermill": {
     "duration": 0.039616,
     "end_time": "2021-01-10T14:31:02.121858",
     "exception": false,
     "start_time": "2021-01-10T14:31:02.082242",
     "status": "completed"
    },
    "tags": []
   },
   "outputs": [],
   "source": [
    "# ====================================================\n",
    "# Dataset\n",
    "# ====================================================\n",
    "class TestDataset(Dataset):\n",
    "    def __init__(self, df, transform=None):\n",
    "        self.df = df\n",
    "        self.file_names = df['image_id'].values\n",
    "        self.transform = transform\n",
    "        \n",
    "    def __len__(self):\n",
    "        return len(self.df)\n",
    "\n",
    "    def __getitem__(self, idx):\n",
    "        file_name = self.file_names[idx]\n",
    "        file_path = f'{TEST_PATH}/{file_name}'\n",
    "        image = cv2.imread(file_path)\n",
    "        image = cv2.cvtColor(image, cv2.COLOR_BGR2RGB)\n",
    "        if self.transform:\n",
    "            augmented = self.transform(image=image)\n",
    "            image = augmented['image']\n",
    "        return image"
   ]
  },
  {
   "cell_type": "markdown",
   "metadata": {
    "papermill": {
     "duration": 0.025042,
     "end_time": "2021-01-10T14:31:02.171554",
     "exception": false,
     "start_time": "2021-01-10T14:31:02.146512",
     "status": "completed"
    },
    "tags": []
   },
   "source": [
    "# Transforms"
   ]
  },
  {
   "cell_type": "code",
   "execution_count": 8,
   "metadata": {
    "execution": {
     "iopub.execute_input": "2021-01-10T14:31:02.234035Z",
     "iopub.status.busy": "2021-01-10T14:31:02.232768Z",
     "iopub.status.idle": "2021-01-10T14:31:02.235628Z",
     "shell.execute_reply": "2021-01-10T14:31:02.236597Z"
    },
    "papermill": {
     "duration": 0.039872,
     "end_time": "2021-01-10T14:31:02.236798",
     "exception": false,
     "start_time": "2021-01-10T14:31:02.196926",
     "status": "completed"
    },
    "tags": []
   },
   "outputs": [],
   "source": [
    "# ====================================================\n",
    "# Transforms\n",
    "# ====================================================\n",
    "def get_transforms(*, data):\n",
    "    \n",
    "    if data == 'train':\n",
    "        return Compose([\n",
    "            #Resize(CFG.size, CFG.size),\n",
    "            RandomResizedCrop(CFG.size, CFG.size),\n",
    "            Transpose(p=0.5),\n",
    "            HorizontalFlip(p=0.5),\n",
    "            VerticalFlip(p=0.5),\n",
    "            ShiftScaleRotate(p=0.5),\n",
    "            Normalize(\n",
    "                mean=[0.485, 0.456, 0.406],\n",
    "                std=[0.229, 0.224, 0.225],\n",
    "            ),\n",
    "            ToTensorV2(),\n",
    "        ])\n",
    "\n",
    "    elif data == 'valid':\n",
    "        return Compose([\n",
    "            Resize(CFG.size, CFG.size),\n",
    "            Normalize(\n",
    "                mean=[0.485, 0.456, 0.406],\n",
    "                std=[0.229, 0.224, 0.225],\n",
    "            ),\n",
    "            ToTensorV2(),\n",
    "        ])"
   ]
  },
  {
   "cell_type": "markdown",
   "metadata": {
    "papermill": {
     "duration": 0.023672,
     "end_time": "2021-01-10T14:31:02.284906",
     "exception": false,
     "start_time": "2021-01-10T14:31:02.261234",
     "status": "completed"
    },
    "tags": []
   },
   "source": [
    "# MODEL"
   ]
  },
  {
   "cell_type": "code",
   "execution_count": 10,
   "metadata": {
    "execution": {
     "iopub.execute_input": "2021-01-10T14:31:02.427865Z",
     "iopub.status.busy": "2021-01-10T14:31:02.406933Z",
     "iopub.status.idle": "2021-01-10T14:31:02.435633Z",
     "shell.execute_reply": "2021-01-10T14:31:02.434968Z"
    },
    "papermill": {
     "duration": 0.067489,
     "end_time": "2021-01-10T14:31:02.435805",
     "exception": false,
     "start_time": "2021-01-10T14:31:02.368316",
     "status": "completed"
    },
    "tags": []
   },
   "outputs": [],
   "source": [
    "def residual_add(lhs, rhs):\n",
    "    lhs_ch, rhs_ch = lhs.shape[1], rhs.shape[1]\n",
    "    if lhs_ch < rhs_ch:\n",
    "        out = lhs + rhs[:, :lhs_ch]\n",
    "    elif lhs_ch > rhs_ch:\n",
    "        out = torch.cat([lhs[:, :rhs_ch] + rhs, lhs[:, rhs_ch:]], dim=1)\n",
    "    else:\n",
    "        out = lhs + rhs\n",
    "    return out\n",
    "\n",
    "class LazyLoadModule(nn.Module):\n",
    "    \"\"\"Lazy buffer/parameter loading using load_state_dict_pre_hook\n",
    "\n",
    "    Define all buffer/parameter in `_lazy_buffer_keys`/`_lazy_parameter_keys` and\n",
    "    save buffer with `register_buffer`/`register_parameter`\n",
    "    method, which can be outside of __init__ method.\n",
    "    Then this module can load any shape of Tensor during de-serializing.\n",
    "\n",
    "    Note that default value of lazy buffer is torch.Tensor([]), while lazy parameter is None.\n",
    "    \"\"\"\n",
    "    _lazy_buffer_keys: List[str] = []     # It needs to be override to register lazy buffer\n",
    "    _lazy_parameter_keys: List[str] = []  # It needs to be override to register lazy parameter\n",
    "\n",
    "    def __init__(self):\n",
    "        super(LazyLoadModule, self).__init__()\n",
    "        for k in self._lazy_buffer_keys:\n",
    "            self.register_buffer(k, torch.tensor([]))\n",
    "        for k in self._lazy_parameter_keys:\n",
    "            self.register_parameter(k, None)\n",
    "        self._register_load_state_dict_pre_hook(self._hook)\n",
    "\n",
    "    def _hook(self, state_dict, prefix, local_metadata, strict, missing_keys,\n",
    "             unexpected_keys, error_msgs):\n",
    "        for key in self._lazy_buffer_keys:\n",
    "            self.register_buffer(key, state_dict[prefix + key])\n",
    "\n",
    "        for key in self._lazy_parameter_keys:\n",
    "            self.register_parameter(key, Parameter(state_dict[prefix + key]))\n",
    "            \n",
    "class LazyLinear(LazyLoadModule):\n",
    "    \"\"\"Linear module with lazy input inference\n",
    "\n",
    "    `in_features` can be `None`, and it is determined at the first time of forward step dynamically.\n",
    "    \"\"\"\n",
    "\n",
    "    __constants__ = ['bias', 'in_features', 'out_features']\n",
    "    _lazy_parameter_keys = ['weight']\n",
    "\n",
    "    def __init__(self, in_features, out_features, bias=True):\n",
    "        super(LazyLinear, self).__init__()\n",
    "        self.in_features = in_features\n",
    "        self.out_features = out_features\n",
    "        if bias:\n",
    "            self.bias = Parameter(torch.Tensor(out_features))\n",
    "        else:\n",
    "            self.register_parameter('bias', None)\n",
    "\n",
    "        if in_features is not None:\n",
    "            self.weight = Parameter(torch.Tensor(out_features, in_features))\n",
    "            self.reset_parameters()\n",
    "\n",
    "    def reset_parameters(self):\n",
    "        init.kaiming_uniform_(self.weight, a=math.sqrt(5))\n",
    "        if self.bias is not None:\n",
    "            fan_in, _ = init._calculate_fan_in_and_fan_out(self.weight)\n",
    "            bound = 1 / math.sqrt(fan_in)\n",
    "            init.uniform_(self.bias, -bound, bound)\n",
    "\n",
    "    def forward(self, input):\n",
    "        if self.weight is None:\n",
    "            self.in_features = input.shape[-1]\n",
    "            self.weight = Parameter(torch.Tensor(self.out_features, self.in_features))\n",
    "            self.reset_parameters()\n",
    "\n",
    "            self.to(input.device)\n",
    "        return F.linear(input, self.weight, self.bias)\n",
    "\n",
    "    def extra_repr(self):\n",
    "        return 'in_features={}, out_features={}, bias={}'.format(\n",
    "            self.in_features, self.out_features, self.bias is not None\n",
    "        )\n",
    "    \n",
    "class LinearBlock(nn.Module):\n",
    "\n",
    "    def __init__(self, in_features, out_features, bias=True,\n",
    "                 use_bn=True, activation=F.relu, dropout_ratio=-1, residual=False,):\n",
    "        super(LinearBlock, self).__init__()\n",
    "        if in_features is None:\n",
    "            self.linear = LazyLinear(in_features, out_features, bias=bias)\n",
    "        else:\n",
    "            self.linear = nn.Linear(in_features, out_features, bias=bias)\n",
    "        if use_bn:\n",
    "            self.bn = nn.BatchNorm1d(out_features)\n",
    "        if dropout_ratio > 0.:\n",
    "            self.dropout = nn.Dropout(p=dropout_ratio)\n",
    "        else:\n",
    "            self.dropout = None\n",
    "        self.activation = activation\n",
    "        self.use_bn = use_bn\n",
    "        self.dropout_ratio = dropout_ratio\n",
    "        self.residual = residual\n",
    "\n",
    "    def __call__(self, x):\n",
    "        h = self.linear(x)\n",
    "        if self.use_bn:\n",
    "            h = self.bn(h)\n",
    "        if self.activation is not None:\n",
    "            h = self.activation(h)\n",
    "        if self.residual:\n",
    "            h = residual_add(h, x)\n",
    "        if self.dropout_ratio > 0:\n",
    "            h = self.dropout(h)\n",
    "        return h"
   ]
  },
  {
   "cell_type": "code",
   "execution_count": 11,
   "metadata": {
    "execution": {
     "iopub.execute_input": "2021-01-10T14:31:02.503482Z",
     "iopub.status.busy": "2021-01-10T14:31:02.502483Z",
     "iopub.status.idle": "2021-01-10T14:31:02.506059Z",
     "shell.execute_reply": "2021-01-10T14:31:02.505493Z"
    },
    "papermill": {
     "duration": 0.046453,
     "end_time": "2021-01-10T14:31:02.506176",
     "exception": false,
     "start_time": "2021-01-10T14:31:02.459723",
     "status": "completed"
    },
    "tags": []
   },
   "outputs": [],
   "source": [
    "class AdaptiveConcatPool2d(nn.Module):\n",
    "    def __init__(self, sz=None):\n",
    "      super().__init__()\n",
    "      sz = sz or (1, 1)\n",
    "      self.ap = nn.AdaptiveAvgPool2d(sz)\n",
    "      self.mp = nn.AdaptiveMaxPool2d(sz)\n",
    "\n",
    "    def forward(self, x): return torch.cat([self.mp(x), self.ap(x)], 1)\n",
    " \n",
    "class Lambda(nn.Module):\n",
    "    def __init__(self, f): super().__init__(); self.f = f\n",
    "\n",
    "    def forward(self, x): return self.f(x)\n",
    "\n",
    "class Mish(nn.Module):\n",
    "    def __init__(self): super().__init__()\n",
    "\n",
    "    def forward(self, x): return x*torch.tanh(F.softplus(x))\n",
    "\n",
    "class Flatten(nn.Module):\n",
    "    def __init__(self): super().__init__()\n",
    "\n",
    "    def forward(self, x): return x.view(x.size(0), -1) \n",
    "    \n",
    "sigmoid = nn.Sigmoid()\n",
    "    \n",
    "class Swish(torch.autograd.Function):\n",
    "    @staticmethod\n",
    "    def forward(ctx, i):\n",
    "        result = i * sigmoid(i)\n",
    "        ctx.save_for_backward(i)\n",
    "        return result\n",
    "    @staticmethod\n",
    "    def backward(ctx, grad_output):\n",
    "        i = ctx.saved_variables[0]\n",
    "        sigmoid_i = sigmoid(i)\n",
    "        return grad_output * (sigmoid_i * (1 + i * (1 - sigmoid_i)))\n",
    "\n",
    "class Swish_Module(nn.Module):\n",
    "    def forward(self, x):\n",
    "        return Swish.apply(x)"
   ]
  },
  {
   "cell_type": "code",
   "execution_count": 13,
   "metadata": {
    "execution": {
     "iopub.execute_input": "2021-01-10T14:31:02.626461Z",
     "iopub.status.busy": "2021-01-10T14:31:02.625658Z",
     "iopub.status.idle": "2021-01-10T14:31:02.629534Z",
     "shell.execute_reply": "2021-01-10T14:31:02.628959Z"
    },
    "papermill": {
     "duration": 0.041675,
     "end_time": "2021-01-10T14:31:02.629654",
     "exception": false,
     "start_time": "2021-01-10T14:31:02.587979",
     "status": "completed"
    },
    "tags": []
   },
   "outputs": [],
   "source": [
    "class PretrainedCNN(nn.Module):\n",
    "    def __init__(self, model_name='se_resnext101_32x4d',\n",
    "                 in_channels=3, out_dim=5, use_bn=True,\n",
    "                 pretrained='imagenet'):\n",
    "        super(PretrainedCNN, self).__init__()\n",
    "        self.conv0 = nn.Conv2d(\n",
    "            in_channels, 3, kernel_size=3, stride=1, padding=1, bias=True)\n",
    "        self.base_model = pretrainedmodels.__dict__[model_name](pretrained=None)\n",
    "\n",
    "        self.do_pooling = True\n",
    "        if self.do_pooling:\n",
    "            inch = self.base_model.last_linear.in_features\n",
    "        else:\n",
    "            inch = None\n",
    "        hdim = 256\n",
    "        self.fc = LinearBlock(inch, out_dim, use_bn=use_bn, activation=None, residual=False)\n",
    "\n",
    "    def forward(self, x):\n",
    "        h = self.conv0(x)\n",
    "        h = self.base_model.features(h)\n",
    "\n",
    "        if self.do_pooling:\n",
    "            h = torch.sum(h, dim=(-1, -2))\n",
    "        else:\n",
    "            bs, ch, height, width = h.shape\n",
    "            h = h.view(bs, ch*height*width)\n",
    "        h = self.fc(h)\n",
    "        return h"
   ]
  },
  {
   "cell_type": "code",
   "execution_count": 15,
   "metadata": {
    "execution": {
     "iopub.execute_input": "2021-01-10T14:31:02.757539Z",
     "iopub.status.busy": "2021-01-10T14:31:02.756632Z",
     "iopub.status.idle": "2021-01-10T14:31:02.761086Z",
     "shell.execute_reply": "2021-01-10T14:31:02.760462Z"
    },
    "papermill": {
     "duration": 0.043654,
     "end_time": "2021-01-10T14:31:02.761197",
     "exception": false,
     "start_time": "2021-01-10T14:31:02.717543",
     "status": "completed"
    },
    "tags": []
   },
   "outputs": [],
   "source": [
    "# class CustomEfficientNet(nn.Module):\n",
    "#     def __init__(self,in_channels=3, out_channels=5, use_bn=True, out_dim=5):\n",
    "#         super().__init__()\n",
    "#         m = ptcv_get_model(\"efficientnet_b3b\", pretrained=None)\n",
    "#         self.enc = nn.Sequential(*list(m.children())[:-1])       \n",
    "#         activation = F.leaky_relu\n",
    "#         #activation = F.relu\n",
    "#         #activation = Swish_Module()\n",
    "#         self.do_pooling = True\n",
    "#         if self.do_pooling:\n",
    "#             inch = 1536\n",
    "#         else:\n",
    "#             inch = None\n",
    "#         hdim = 512\n",
    "#         lin1 = LinearBlock(inch, hdim, use_bn=use_bn, activation=activation, residual=False)\n",
    "#         lin2 = LinearBlock(hdim, out_dim, use_bn=use_bn, activation=None, residual=False)\n",
    "#         self.lin_layers = nn.Sequential(lin1, lin2)\n",
    "        \n",
    "#     def forward(self, x):\n",
    "#         h = self.enc(x)\n",
    "        \n",
    "#         if self.do_pooling:\n",
    "#             h = torch.sum(h, dim=(-1, -2))\n",
    "#         else:\n",
    "#             bs, ch, height, width = h.shape\n",
    "#             h = h.view(bs, ch*height*width)\n",
    "#         for layer in self.lin_layers:\n",
    "#             h = layer(h)\n",
    "#         return h"
   ]
  },
  {
   "cell_type": "markdown",
   "metadata": {
    "papermill": {
     "duration": 0.024675,
     "end_time": "2021-01-10T14:31:02.810898",
     "exception": false,
     "start_time": "2021-01-10T14:31:02.786223",
     "status": "completed"
    },
    "tags": []
   },
   "source": [
    "# Helper functions"
   ]
  },
  {
   "cell_type": "code",
   "execution_count": 17,
   "metadata": {
    "execution": {
     "iopub.execute_input": "2021-01-10T14:31:02.939379Z",
     "iopub.status.busy": "2021-01-10T14:31:02.937500Z",
     "iopub.status.idle": "2021-01-10T14:31:02.940472Z",
     "shell.execute_reply": "2021-01-10T14:31:02.941051Z"
    },
    "papermill": {
     "duration": 0.04594,
     "end_time": "2021-01-10T14:31:02.941192",
     "exception": false,
     "start_time": "2021-01-10T14:31:02.895252",
     "status": "completed"
    },
    "tags": []
   },
   "outputs": [],
   "source": [
    "# ====================================================\n",
    "# Helper functions\n",
    "# ====================================================\n",
    "def inference(model, states, test_loader, device):\n",
    "    model.to(device)\n",
    "    tk0 = tqdm(enumerate(test_loader), total=len(test_loader))\n",
    "    probs = []\n",
    "    for i, (images) in tk0:\n",
    "        images = images.to(device)\n",
    "        avg_preds = []\n",
    "        for state in states:\n",
    "            model.load_state_dict(state)\n",
    "            model.eval()\n",
    "            with torch.no_grad():\n",
    "                y_preds = model(images)\n",
    "                avg_preds.append(y_preds.softmax(1).to('cpu').numpy())\n",
    "                \n",
    "                if tta:\n",
    "                    y_preds = model(torch.flip(images, dims=(2,)).contiguous())\n",
    "                    avg_preds.append(y_preds.softmax(1).to('cpu').numpy())\n",
    "\n",
    "                    y_preds = model(torch.flip(images, dims=(3,)).contiguous())\n",
    "                    avg_preds.append(y_preds.softmax(1).to('cpu').numpy())\n",
    "\n",
    "                    y_preds = model(torch.flip(images, dims=(2,3)).contiguous())\n",
    "                    avg_preds.append(y_preds.softmax(1).to('cpu').numpy())\n",
    "\n",
    "                    y_preds = model(images.permute(0,1,3,2).contiguous())\n",
    "                    avg_preds.append(y_preds.softmax(1).to('cpu').numpy())\n",
    "                \n",
    "        avg_preds = np.mean(avg_preds, axis=0)\n",
    "        probs.append(avg_preds)\n",
    "    probs = np.concatenate(probs)\n",
    "    return probs"
   ]
  },
  {
   "cell_type": "markdown",
   "metadata": {
    "papermill": {
     "duration": 0.024652,
     "end_time": "2021-01-10T14:31:02.990879",
     "exception": false,
     "start_time": "2021-01-10T14:31:02.966227",
     "status": "completed"
    },
    "tags": []
   },
   "source": [
    "# inference"
   ]
  },
  {
   "cell_type": "code",
   "execution_count": 19,
   "metadata": {
    "execution": {
     "iopub.execute_input": "2021-01-10T14:31:03.112927Z",
     "iopub.status.busy": "2021-01-10T14:31:03.111850Z",
     "iopub.status.idle": "2021-01-10T14:31:20.966009Z",
     "shell.execute_reply": "2021-01-10T14:31:20.964675Z"
    },
    "papermill": {
     "duration": 17.88982,
     "end_time": "2021-01-10T14:31:20.966136",
     "exception": false,
     "start_time": "2021-01-10T14:31:03.076316",
     "status": "completed"
    },
    "tags": []
   },
   "outputs": [
    {
     "data": {
      "application/vnd.jupyter.widget-view+json": {
       "model_id": "87bfd464f3524deba3d2f4f5d1deb161",
       "version_major": 2,
       "version_minor": 0
      },
      "text/plain": [
       "HBox(children=(FloatProgress(value=0.0, max=1.0), HTML(value='')))"
      ]
     },
     "metadata": {},
     "output_type": "display_data"
    },
    {
     "name": "stdout",
     "output_type": "stream",
     "text": [
      "\n"
     ]
    },
    {
     "data": {
      "text/html": [
       "<div>\n",
       "<style scoped>\n",
       "    .dataframe tbody tr th:only-of-type {\n",
       "        vertical-align: middle;\n",
       "    }\n",
       "\n",
       "    .dataframe tbody tr th {\n",
       "        vertical-align: top;\n",
       "    }\n",
       "\n",
       "    .dataframe thead th {\n",
       "        text-align: right;\n",
       "    }\n",
       "</style>\n",
       "<table border=\"1\" class=\"dataframe\">\n",
       "  <thead>\n",
       "    <tr style=\"text-align: right;\">\n",
       "      <th></th>\n",
       "      <th>image_id</th>\n",
       "      <th>label</th>\n",
       "    </tr>\n",
       "  </thead>\n",
       "  <tbody>\n",
       "    <tr>\n",
       "      <th>0</th>\n",
       "      <td>2216849948.jpg</td>\n",
       "      <td>4</td>\n",
       "    </tr>\n",
       "  </tbody>\n",
       "</table>\n",
       "</div>"
      ],
      "text/plain": [
       "         image_id  label\n",
       "0  2216849948.jpg      4"
      ]
     },
     "execution_count": 19,
     "metadata": {},
     "output_type": "execute_result"
    }
   ],
   "source": [
    "# ====================================================\n",
    "# inference\n",
    "# ====================================================\n",
    "model = PretrainedCNN(model_name='se_resnext101_32x4d').to(device)\n",
    "#model = CustomEfficientNet().to(device)\n",
    "states = [torch.load(MODEL_DIR+f'model_fold_{fold}.pt') for fold in CFG.trn_fold]\n",
    "test_dataset = TestDataset(test, transform=get_transforms(data='valid'))\n",
    "test_loader = DataLoader(test_dataset, batch_size=CFG.batch_size, shuffle=False, \n",
    "                         num_workers=CFG.num_workers, pin_memory=True)\n",
    "predictions = inference(model, states, test_loader, device)\n",
    "# submission\n",
    "test['label'] = predictions.argmax(1)\n",
    "test[['image_id', 'label']].to_csv(OUTPUT_DIR+'submission.csv', index=False)\n",
    "test.head()"
   ]
  }
 ],
 "metadata": {
  "kernelspec": {
   "display_name": "Python 3",
   "language": "python",
   "name": "python3"
  },
  "language_info": {
   "codemirror_mode": {
    "name": "ipython",
    "version": 3
   },
   "file_extension": ".py",
   "mimetype": "text/x-python",
   "name": "python",
   "nbconvert_exporter": "python",
   "pygments_lexer": "ipython3",
   "version": "3.6.5"
  },
  "papermill": {
   "duration": 122.863428,
   "end_time": "2021-01-10T14:31:21.503333",
   "environment_variables": {},
   "exception": null,
   "input_path": "__notebook__.ipynb",
   "output_path": "__notebook__.ipynb",
   "parameters": {},
   "start_time": "2021-01-10T14:29:18.639905",
   "version": "2.1.0"
  },
  "widgets": {
   "application/vnd.jupyter.widget-state+json": {
    "state": {
     "26b341746f384c7ca21f39178bba9a0b": {
      "model_module": "@jupyter-widgets/base",
      "model_module_version": "1.2.0",
      "model_name": "LayoutModel",
      "state": {
       "_model_module": "@jupyter-widgets/base",
       "_model_module_version": "1.2.0",
       "_model_name": "LayoutModel",
       "_view_count": null,
       "_view_module": "@jupyter-widgets/base",
       "_view_module_version": "1.2.0",
       "_view_name": "LayoutView",
       "align_content": null,
       "align_items": null,
       "align_self": null,
       "border": null,
       "bottom": null,
       "display": null,
       "flex": null,
       "flex_flow": null,
       "grid_area": null,
       "grid_auto_columns": null,
       "grid_auto_flow": null,
       "grid_auto_rows": null,
       "grid_column": null,
       "grid_gap": null,
       "grid_row": null,
       "grid_template_areas": null,
       "grid_template_columns": null,
       "grid_template_rows": null,
       "height": null,
       "justify_content": null,
       "justify_items": null,
       "left": null,
       "margin": null,
       "max_height": null,
       "max_width": null,
       "min_height": null,
       "min_width": null,
       "object_fit": null,
       "object_position": null,
       "order": null,
       "overflow": null,
       "overflow_x": null,
       "overflow_y": null,
       "padding": null,
       "right": null,
       "top": null,
       "visibility": null,
       "width": null
      }
     },
     "3af2fd84f16a4cfa81a0c7feeaf7dea5": {
      "model_module": "@jupyter-widgets/controls",
      "model_module_version": "1.5.0",
      "model_name": "FloatProgressModel",
      "state": {
       "_dom_classes": [],
       "_model_module": "@jupyter-widgets/controls",
       "_model_module_version": "1.5.0",
       "_model_name": "FloatProgressModel",
       "_view_count": null,
       "_view_module": "@jupyter-widgets/controls",
       "_view_module_version": "1.5.0",
       "_view_name": "ProgressView",
       "bar_style": "success",
       "description": "100%",
       "description_tooltip": null,
       "layout": "IPY_MODEL_26b341746f384c7ca21f39178bba9a0b",
       "max": 1,
       "min": 0,
       "orientation": "horizontal",
       "style": "IPY_MODEL_f8cabeaaee1d4ffb849bbca2a6dea06b",
       "value": 1
      }
     },
     "5ed4e59b5e174f47b65e52db1bf194d5": {
      "model_module": "@jupyter-widgets/base",
      "model_module_version": "1.2.0",
      "model_name": "LayoutModel",
      "state": {
       "_model_module": "@jupyter-widgets/base",
       "_model_module_version": "1.2.0",
       "_model_name": "LayoutModel",
       "_view_count": null,
       "_view_module": "@jupyter-widgets/base",
       "_view_module_version": "1.2.0",
       "_view_name": "LayoutView",
       "align_content": null,
       "align_items": null,
       "align_self": null,
       "border": null,
       "bottom": null,
       "display": null,
       "flex": null,
       "flex_flow": null,
       "grid_area": null,
       "grid_auto_columns": null,
       "grid_auto_flow": null,
       "grid_auto_rows": null,
       "grid_column": null,
       "grid_gap": null,
       "grid_row": null,
       "grid_template_areas": null,
       "grid_template_columns": null,
       "grid_template_rows": null,
       "height": null,
       "justify_content": null,
       "justify_items": null,
       "left": null,
       "margin": null,
       "max_height": null,
       "max_width": null,
       "min_height": null,
       "min_width": null,
       "object_fit": null,
       "object_position": null,
       "order": null,
       "overflow": null,
       "overflow_x": null,
       "overflow_y": null,
       "padding": null,
       "right": null,
       "top": null,
       "visibility": null,
       "width": null
      }
     },
     "8732fa6450374259b99777ef0496295d": {
      "model_module": "@jupyter-widgets/base",
      "model_module_version": "1.2.0",
      "model_name": "LayoutModel",
      "state": {
       "_model_module": "@jupyter-widgets/base",
       "_model_module_version": "1.2.0",
       "_model_name": "LayoutModel",
       "_view_count": null,
       "_view_module": "@jupyter-widgets/base",
       "_view_module_version": "1.2.0",
       "_view_name": "LayoutView",
       "align_content": null,
       "align_items": null,
       "align_self": null,
       "border": null,
       "bottom": null,
       "display": null,
       "flex": null,
       "flex_flow": null,
       "grid_area": null,
       "grid_auto_columns": null,
       "grid_auto_flow": null,
       "grid_auto_rows": null,
       "grid_column": null,
       "grid_gap": null,
       "grid_row": null,
       "grid_template_areas": null,
       "grid_template_columns": null,
       "grid_template_rows": null,
       "height": null,
       "justify_content": null,
       "justify_items": null,
       "left": null,
       "margin": null,
       "max_height": null,
       "max_width": null,
       "min_height": null,
       "min_width": null,
       "object_fit": null,
       "object_position": null,
       "order": null,
       "overflow": null,
       "overflow_x": null,
       "overflow_y": null,
       "padding": null,
       "right": null,
       "top": null,
       "visibility": null,
       "width": null
      }
     },
     "87bfd464f3524deba3d2f4f5d1deb161": {
      "model_module": "@jupyter-widgets/controls",
      "model_module_version": "1.5.0",
      "model_name": "HBoxModel",
      "state": {
       "_dom_classes": [],
       "_model_module": "@jupyter-widgets/controls",
       "_model_module_version": "1.5.0",
       "_model_name": "HBoxModel",
       "_view_count": null,
       "_view_module": "@jupyter-widgets/controls",
       "_view_module_version": "1.5.0",
       "_view_name": "HBoxView",
       "box_style": "",
       "children": [
        "IPY_MODEL_3af2fd84f16a4cfa81a0c7feeaf7dea5",
        "IPY_MODEL_a1f8aa5cc251438f837013d8304e7d0c"
       ],
       "layout": "IPY_MODEL_8732fa6450374259b99777ef0496295d"
      }
     },
     "a1f8aa5cc251438f837013d8304e7d0c": {
      "model_module": "@jupyter-widgets/controls",
      "model_module_version": "1.5.0",
      "model_name": "HTMLModel",
      "state": {
       "_dom_classes": [],
       "_model_module": "@jupyter-widgets/controls",
       "_model_module_version": "1.5.0",
       "_model_name": "HTMLModel",
       "_view_count": null,
       "_view_module": "@jupyter-widgets/controls",
       "_view_module_version": "1.5.0",
       "_view_name": "HTMLView",
       "description": "",
       "description_tooltip": null,
       "layout": "IPY_MODEL_5ed4e59b5e174f47b65e52db1bf194d5",
       "placeholder": "​",
       "style": "IPY_MODEL_b55ea9e471674d9abb381fb1756f04a0",
       "value": " 1/1 [00:02&lt;00:00,  2.36s/it]"
      }
     },
     "b55ea9e471674d9abb381fb1756f04a0": {
      "model_module": "@jupyter-widgets/controls",
      "model_module_version": "1.5.0",
      "model_name": "DescriptionStyleModel",
      "state": {
       "_model_module": "@jupyter-widgets/controls",
       "_model_module_version": "1.5.0",
       "_model_name": "DescriptionStyleModel",
       "_view_count": null,
       "_view_module": "@jupyter-widgets/base",
       "_view_module_version": "1.2.0",
       "_view_name": "StyleView",
       "description_width": ""
      }
     },
     "f8cabeaaee1d4ffb849bbca2a6dea06b": {
      "model_module": "@jupyter-widgets/controls",
      "model_module_version": "1.5.0",
      "model_name": "ProgressStyleModel",
      "state": {
       "_model_module": "@jupyter-widgets/controls",
       "_model_module_version": "1.5.0",
       "_model_name": "ProgressStyleModel",
       "_view_count": null,
       "_view_module": "@jupyter-widgets/base",
       "_view_module_version": "1.2.0",
       "_view_name": "StyleView",
       "bar_color": null,
       "description_width": "initial"
      }
     }
    },
    "version_major": 2,
    "version_minor": 0
   }
  }
 },
 "nbformat": 4,
 "nbformat_minor": 4
}
