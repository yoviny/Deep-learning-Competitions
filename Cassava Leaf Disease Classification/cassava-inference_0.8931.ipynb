{
 "cells": [
  {
   "cell_type": "code",
   "execution_count": 1,
   "metadata": {
    "execution": {
     "iopub.execute_input": "2021-01-16T10:23:39.015127Z",
     "iopub.status.busy": "2021-01-16T10:23:39.014233Z",
     "iopub.status.idle": "2021-01-16T10:25:08.448284Z",
     "shell.execute_reply": "2021-01-16T10:25:08.449015Z"
    },
    "papermill": {
     "duration": 89.464968,
     "end_time": "2021-01-16T10:25:08.449243",
     "exception": false,
     "start_time": "2021-01-16T10:23:38.984275",
     "status": "completed"
    },
    "tags": []
   },
   "outputs": [
    {
     "name": "stdout",
     "output_type": "stream",
     "text": [
      "CPU times: user 1.54 s, sys: 426 ms, total: 1.97 s\n",
      "Wall time: 1min 29s\n"
     ]
    }
   ],
   "source": [
    "%%time\n",
    "!pip install --quiet ../input/pretrainedmodels/pretrainedmodels-0.7.4/\n",
    "!pip install --quiet ../input/timm031/timm-0.3.1-py3-none-any.whl\n",
    "!pip install --quiet ../input/pytorchcv/pytorchcv-0.0.58-py2.py3-none-any.whl"
   ]
  },
  {
   "cell_type": "markdown",
   "metadata": {
    "papermill": {
     "duration": 0.019893,
     "end_time": "2021-01-16T10:25:08.491201",
     "exception": false,
     "start_time": "2021-01-16T10:25:08.471308",
     "status": "completed"
    },
    "tags": []
   },
   "source": [
    "# Directory settings"
   ]
  },
  {
   "cell_type": "code",
   "execution_count": 2,
   "metadata": {
    "execution": {
     "iopub.execute_input": "2021-01-16T10:25:08.539994Z",
     "iopub.status.busy": "2021-01-16T10:25:08.538119Z",
     "iopub.status.idle": "2021-01-16T10:25:08.540810Z",
     "shell.execute_reply": "2021-01-16T10:25:08.541365Z"
    },
    "papermill": {
     "duration": 0.029289,
     "end_time": "2021-01-16T10:25:08.541485",
     "exception": false,
     "start_time": "2021-01-16T10:25:08.512196",
     "status": "completed"
    },
    "tags": []
   },
   "outputs": [],
   "source": [
    "# ====================================================\n",
    "# Directory settings\n",
    "# ====================================================\n",
    "import os\n",
    "\n",
    "OUTPUT_DIR = './'\n",
    "MODEL_DIR = '../input/cassava-models/'\n",
    "if not os.path.exists(OUTPUT_DIR):\n",
    "    os.makedirs(OUTPUT_DIR)\n",
    "\n",
    "TRAIN_PATH = '../input/cassava-leaf-disease-classification/train_images'\n",
    "TEST_PATH = '../input/cassava-leaf-disease-classification/test_images'"
   ]
  },
  {
   "cell_type": "markdown",
   "metadata": {
    "papermill": {
     "duration": 0.019722,
     "end_time": "2021-01-16T10:25:08.582014",
     "exception": false,
     "start_time": "2021-01-16T10:25:08.562292",
     "status": "completed"
    },
    "tags": []
   },
   "source": [
    "# CFG"
   ]
  },
  {
   "cell_type": "code",
   "execution_count": 3,
   "metadata": {
    "execution": {
     "iopub.execute_input": "2021-01-16T10:25:08.631194Z",
     "iopub.status.busy": "2021-01-16T10:25:08.629316Z",
     "iopub.status.idle": "2021-01-16T10:25:08.632133Z",
     "shell.execute_reply": "2021-01-16T10:25:08.632788Z"
    },
    "papermill": {
     "duration": 0.030919,
     "end_time": "2021-01-16T10:25:08.632912",
     "exception": false,
     "start_time": "2021-01-16T10:25:08.601993",
     "status": "completed"
    },
    "tags": []
   },
   "outputs": [],
   "source": [
    "# ====================================================\n",
    "# CFG\n",
    "# ====================================================\n",
    "class CFG:\n",
    "    debug=False\n",
    "    num_workers=4\n",
    "    model_name='se_resnext101_32x4d'\n",
    "    size=512\n",
    "    batch_size=32\n",
    "    seed=42\n",
    "    target_size=5\n",
    "    target_col='label'\n",
    "    n_fold=3\n",
    "    trn_fold=[0, 1, 2]\n",
    "    train=False\n",
    "    inference=True\n",
    "    \n",
    "tta=True"
   ]
  },
  {
   "cell_type": "markdown",
   "metadata": {
    "papermill": {
     "duration": 0.021183,
     "end_time": "2021-01-16T10:25:08.674850",
     "exception": false,
     "start_time": "2021-01-16T10:25:08.653667",
     "status": "completed"
    },
    "tags": []
   },
   "source": [
    "# Library"
   ]
  },
  {
   "cell_type": "code",
   "execution_count": 4,
   "metadata": {
    "execution": {
     "iopub.execute_input": "2021-01-16T10:25:08.729391Z",
     "iopub.status.busy": "2021-01-16T10:25:08.728555Z",
     "iopub.status.idle": "2021-01-16T10:25:14.342927Z",
     "shell.execute_reply": "2021-01-16T10:25:14.341945Z"
    },
    "papermill": {
     "duration": 5.64739,
     "end_time": "2021-01-16T10:25:14.343056",
     "exception": false,
     "start_time": "2021-01-16T10:25:08.695666",
     "status": "completed"
    },
    "tags": []
   },
   "outputs": [],
   "source": [
    "# ====================================================\n",
    "# Library\n",
    "# ====================================================\n",
    "import sys\n",
    "#sys.path.append('../input/pytorch-image-models/pytorch-image-models-master')\n",
    "\n",
    "import os\n",
    "import math\n",
    "import time\n",
    "import random\n",
    "import shutil\n",
    "from typing import List\n",
    "from pathlib import Path\n",
    "from contextlib import contextmanager\n",
    "from collections import defaultdict, Counter\n",
    "\n",
    "import scipy as sp\n",
    "import numpy as np\n",
    "import pandas as pd\n",
    "\n",
    "from sklearn import preprocessing\n",
    "from sklearn.metrics import accuracy_score\n",
    "from sklearn.model_selection import StratifiedKFold\n",
    "\n",
    "from tqdm.auto import tqdm\n",
    "from functools import partial\n",
    "\n",
    "import cv2\n",
    "from PIL import Image\n",
    "\n",
    "import torch\n",
    "import torch.nn as nn\n",
    "import torch.nn.functional as F\n",
    "from torch.optim import Adam, SGD\n",
    "import torchvision.models as models\n",
    "from torch.nn.parameter import Parameter\n",
    "from torch.utils.data import DataLoader, Dataset\n",
    "from torch.optim.lr_scheduler import CosineAnnealingWarmRestarts, CosineAnnealingLR, ReduceLROnPlateau\n",
    "\n",
    "from albumentations import (\n",
    "    Compose, OneOf, Normalize, Resize, RandomResizedCrop, RandomCrop, HorizontalFlip, VerticalFlip, \n",
    "    RandomBrightness, RandomContrast, RandomBrightnessContrast, Rotate, ShiftScaleRotate, Cutout, \n",
    "    IAAAdditiveGaussianNoise, Transpose\n",
    "    )\n",
    "from albumentations.pytorch import ToTensorV2\n",
    "from albumentations import ImageOnlyTransform\n",
    "\n",
    "import timm\n",
    "import pretrainedmodels\n",
    "from pytorchcv.model_provider import get_model as ptcv_get_model\n",
    "\n",
    "import warnings \n",
    "warnings.filterwarnings('ignore')\n",
    "\n",
    "device = torch.device('cuda' if torch.cuda.is_available() else 'cpu')"
   ]
  },
  {
   "cell_type": "markdown",
   "metadata": {
    "papermill": {
     "duration": 0.022053,
     "end_time": "2021-01-16T10:25:14.387807",
     "exception": false,
     "start_time": "2021-01-16T10:25:14.365754",
     "status": "completed"
    },
    "tags": []
   },
   "source": [
    "# Utils"
   ]
  },
  {
   "cell_type": "code",
   "execution_count": 5,
   "metadata": {
    "execution": {
     "iopub.execute_input": "2021-01-16T10:25:14.443514Z",
     "iopub.status.busy": "2021-01-16T10:25:14.442844Z",
     "iopub.status.idle": "2021-01-16T10:25:14.449608Z",
     "shell.execute_reply": "2021-01-16T10:25:14.449027Z"
    },
    "papermill": {
     "duration": 0.040999,
     "end_time": "2021-01-16T10:25:14.449720",
     "exception": false,
     "start_time": "2021-01-16T10:25:14.408721",
     "status": "completed"
    },
    "tags": []
   },
   "outputs": [],
   "source": [
    "# ====================================================\n",
    "# Utils\n",
    "# ====================================================\n",
    "def get_score(y_true, y_pred):\n",
    "    return accuracy_score(y_true, y_pred)\n",
    "\n",
    "\n",
    "@contextmanager\n",
    "def timer(name):\n",
    "    t0 = time.time()\n",
    "    LOGGER.info(f'[{name}] start')\n",
    "    yield\n",
    "    LOGGER.info(f'[{name}] done in {time.time() - t0:.0f} s.')\n",
    "\n",
    "\n",
    "def init_logger(log_file=OUTPUT_DIR+'inference.log'):\n",
    "    from logging import getLogger, INFO, FileHandler,  Formatter,  StreamHandler\n",
    "    logger = getLogger(__name__)\n",
    "    logger.setLevel(INFO)\n",
    "    handler1 = StreamHandler()\n",
    "    handler1.setFormatter(Formatter(\"%(message)s\"))\n",
    "    handler2 = FileHandler(filename=log_file)\n",
    "    handler2.setFormatter(Formatter(\"%(message)s\"))\n",
    "    logger.addHandler(handler1)\n",
    "    logger.addHandler(handler2)\n",
    "    return logger\n",
    "\n",
    "#LOGGER = init_logger()\n",
    "\n",
    "\n",
    "def seed_torch(seed=42):\n",
    "    random.seed(seed)\n",
    "    os.environ['PYTHONHASHSEED'] = str(seed)\n",
    "    np.random.seed(seed)\n",
    "    torch.manual_seed(seed)\n",
    "    torch.cuda.manual_seed(seed)\n",
    "    torch.backends.cudnn.deterministic = True\n",
    "\n",
    "seed_torch(seed=CFG.seed)"
   ]
  },
  {
   "cell_type": "markdown",
   "metadata": {
    "papermill": {
     "duration": 0.02112,
     "end_time": "2021-01-16T10:25:14.529641",
     "exception": false,
     "start_time": "2021-01-16T10:25:14.508521",
     "status": "completed"
    },
    "tags": []
   },
   "source": [
    "# Data Loading"
   ]
  },
  {
   "cell_type": "code",
   "execution_count": 6,
   "metadata": {
    "execution": {
     "iopub.execute_input": "2021-01-16T10:25:14.582679Z",
     "iopub.status.busy": "2021-01-16T10:25:14.582012Z",
     "iopub.status.idle": "2021-01-16T10:25:14.606143Z",
     "shell.execute_reply": "2021-01-16T10:25:14.606665Z"
    },
    "papermill": {
     "duration": 0.054506,
     "end_time": "2021-01-16T10:25:14.606787",
     "exception": false,
     "start_time": "2021-01-16T10:25:14.552281",
     "status": "completed"
    },
    "tags": []
   },
   "outputs": [
    {
     "data": {
      "text/html": [
       "<div>\n",
       "<style scoped>\n",
       "    .dataframe tbody tr th:only-of-type {\n",
       "        vertical-align: middle;\n",
       "    }\n",
       "\n",
       "    .dataframe tbody tr th {\n",
       "        vertical-align: top;\n",
       "    }\n",
       "\n",
       "    .dataframe thead th {\n",
       "        text-align: right;\n",
       "    }\n",
       "</style>\n",
       "<table border=\"1\" class=\"dataframe\">\n",
       "  <thead>\n",
       "    <tr style=\"text-align: right;\">\n",
       "      <th></th>\n",
       "      <th>image_id</th>\n",
       "      <th>label</th>\n",
       "    </tr>\n",
       "  </thead>\n",
       "  <tbody>\n",
       "    <tr>\n",
       "      <th>0</th>\n",
       "      <td>2216849948.jpg</td>\n",
       "      <td>4</td>\n",
       "    </tr>\n",
       "  </tbody>\n",
       "</table>\n",
       "</div>"
      ],
      "text/plain": [
       "         image_id  label\n",
       "0  2216849948.jpg      4"
      ]
     },
     "execution_count": 6,
     "metadata": {},
     "output_type": "execute_result"
    }
   ],
   "source": [
    "test = pd.read_csv('../input/cassava-leaf-disease-classification/sample_submission.csv')\n",
    "test.head()"
   ]
  },
  {
   "cell_type": "markdown",
   "metadata": {
    "papermill": {
     "duration": 0.022784,
     "end_time": "2021-01-16T10:25:14.651762",
     "exception": false,
     "start_time": "2021-01-16T10:25:14.628978",
     "status": "completed"
    },
    "tags": []
   },
   "source": [
    "# Dataset"
   ]
  },
  {
   "cell_type": "code",
   "execution_count": 7,
   "metadata": {
    "execution": {
     "iopub.execute_input": "2021-01-16T10:25:14.706959Z",
     "iopub.status.busy": "2021-01-16T10:25:14.706150Z",
     "iopub.status.idle": "2021-01-16T10:25:14.711475Z",
     "shell.execute_reply": "2021-01-16T10:25:14.710830Z"
    },
    "papermill": {
     "duration": 0.035929,
     "end_time": "2021-01-16T10:25:14.711603",
     "exception": false,
     "start_time": "2021-01-16T10:25:14.675674",
     "status": "completed"
    },
    "tags": []
   },
   "outputs": [],
   "source": [
    "# ====================================================\n",
    "# Dataset\n",
    "# ====================================================\n",
    "class TestDataset(Dataset):\n",
    "    def __init__(self, df, transform=None):\n",
    "        self.df = df\n",
    "        self.file_names = df['image_id'].values\n",
    "        self.transform = transform\n",
    "        \n",
    "    def __len__(self):\n",
    "        return len(self.df)\n",
    "\n",
    "    def __getitem__(self, idx):\n",
    "        file_name = self.file_names[idx]\n",
    "        file_path = f'{TEST_PATH}/{file_name}'\n",
    "        image = cv2.imread(file_path)\n",
    "        image = cv2.cvtColor(image, cv2.COLOR_BGR2RGB)\n",
    "        if self.transform:\n",
    "            augmented = self.transform(image=image)\n",
    "            image = augmented['image']\n",
    "        return image"
   ]
  },
  {
   "cell_type": "markdown",
   "metadata": {
    "papermill": {
     "duration": 0.022475,
     "end_time": "2021-01-16T10:25:14.756234",
     "exception": false,
     "start_time": "2021-01-16T10:25:14.733759",
     "status": "completed"
    },
    "tags": []
   },
   "source": [
    "# Transforms"
   ]
  },
  {
   "cell_type": "code",
   "execution_count": 8,
   "metadata": {
    "execution": {
     "iopub.execute_input": "2021-01-16T10:25:14.815520Z",
     "iopub.status.busy": "2021-01-16T10:25:14.813561Z",
     "iopub.status.idle": "2021-01-16T10:25:14.816203Z",
     "shell.execute_reply": "2021-01-16T10:25:14.816685Z"
    },
    "papermill": {
     "duration": 0.03769,
     "end_time": "2021-01-16T10:25:14.816805",
     "exception": false,
     "start_time": "2021-01-16T10:25:14.779115",
     "status": "completed"
    },
    "tags": []
   },
   "outputs": [],
   "source": [
    "# ====================================================\n",
    "# Transforms\n",
    "# ====================================================\n",
    "def get_transforms(*, data):\n",
    "    \n",
    "    if data == 'train':\n",
    "        return Compose([\n",
    "            #Resize(CFG.size, CFG.size),\n",
    "            RandomResizedCrop(CFG.size, CFG.size),\n",
    "            Transpose(p=0.5),\n",
    "            HorizontalFlip(p=0.5),\n",
    "            VerticalFlip(p=0.5),\n",
    "            ShiftScaleRotate(p=0.5),\n",
    "            Normalize(\n",
    "                mean=[0.485, 0.456, 0.406],\n",
    "                std=[0.229, 0.224, 0.225],\n",
    "            ),\n",
    "            ToTensorV2(),\n",
    "        ])\n",
    "\n",
    "    elif data == 'valid':\n",
    "        return Compose([\n",
    "            Resize(CFG.size, CFG.size),\n",
    "            Normalize(\n",
    "                mean=[0.485, 0.456, 0.406],\n",
    "                std=[0.229, 0.224, 0.225],\n",
    "            ),\n",
    "            ToTensorV2(),\n",
    "        ])"
   ]
  },
  {
   "cell_type": "markdown",
   "metadata": {
    "papermill": {
     "duration": 0.021307,
     "end_time": "2021-01-16T10:25:14.859698",
     "exception": false,
     "start_time": "2021-01-16T10:25:14.838391",
     "status": "completed"
    },
    "tags": []
   },
   "source": [
    "# MODEL"
   ]
  },
  {
   "cell_type": "code",
   "execution_count": 10,
   "metadata": {
    "execution": {
     "iopub.execute_input": "2021-01-16T10:25:14.986782Z",
     "iopub.status.busy": "2021-01-16T10:25:14.981515Z",
     "iopub.status.idle": "2021-01-16T10:25:14.996772Z",
     "shell.execute_reply": "2021-01-16T10:25:14.997215Z"
    },
    "papermill": {
     "duration": 0.060371,
     "end_time": "2021-01-16T10:25:14.997347",
     "exception": false,
     "start_time": "2021-01-16T10:25:14.936976",
     "status": "completed"
    },
    "tags": []
   },
   "outputs": [],
   "source": [
    "def residual_add(lhs, rhs):\n",
    "    lhs_ch, rhs_ch = lhs.shape[1], rhs.shape[1]\n",
    "    if lhs_ch < rhs_ch:\n",
    "        out = lhs + rhs[:, :lhs_ch]\n",
    "    elif lhs_ch > rhs_ch:\n",
    "        out = torch.cat([lhs[:, :rhs_ch] + rhs, lhs[:, rhs_ch:]], dim=1)\n",
    "    else:\n",
    "        out = lhs + rhs\n",
    "    return out\n",
    "\n",
    "class LazyLoadModule(nn.Module):\n",
    "    \"\"\"Lazy buffer/parameter loading using load_state_dict_pre_hook\n",
    "\n",
    "    Define all buffer/parameter in `_lazy_buffer_keys`/`_lazy_parameter_keys` and\n",
    "    save buffer with `register_buffer`/`register_parameter`\n",
    "    method, which can be outside of __init__ method.\n",
    "    Then this module can load any shape of Tensor during de-serializing.\n",
    "\n",
    "    Note that default value of lazy buffer is torch.Tensor([]), while lazy parameter is None.\n",
    "    \"\"\"\n",
    "    _lazy_buffer_keys: List[str] = []     # It needs to be override to register lazy buffer\n",
    "    _lazy_parameter_keys: List[str] = []  # It needs to be override to register lazy parameter\n",
    "\n",
    "    def __init__(self):\n",
    "        super(LazyLoadModule, self).__init__()\n",
    "        for k in self._lazy_buffer_keys:\n",
    "            self.register_buffer(k, torch.tensor([]))\n",
    "        for k in self._lazy_parameter_keys:\n",
    "            self.register_parameter(k, None)\n",
    "        self._register_load_state_dict_pre_hook(self._hook)\n",
    "\n",
    "    def _hook(self, state_dict, prefix, local_metadata, strict, missing_keys,\n",
    "             unexpected_keys, error_msgs):\n",
    "        for key in self._lazy_buffer_keys:\n",
    "            self.register_buffer(key, state_dict[prefix + key])\n",
    "\n",
    "        for key in self._lazy_parameter_keys:\n",
    "            self.register_parameter(key, Parameter(state_dict[prefix + key]))\n",
    "            \n",
    "class LazyLinear(LazyLoadModule):\n",
    "    \"\"\"Linear module with lazy input inference\n",
    "\n",
    "    `in_features` can be `None`, and it is determined at the first time of forward step dynamically.\n",
    "    \"\"\"\n",
    "\n",
    "    __constants__ = ['bias', 'in_features', 'out_features']\n",
    "    _lazy_parameter_keys = ['weight']\n",
    "\n",
    "    def __init__(self, in_features, out_features, bias=True):\n",
    "        super(LazyLinear, self).__init__()\n",
    "        self.in_features = in_features\n",
    "        self.out_features = out_features\n",
    "        if bias:\n",
    "            self.bias = Parameter(torch.Tensor(out_features))\n",
    "        else:\n",
    "            self.register_parameter('bias', None)\n",
    "\n",
    "        if in_features is not None:\n",
    "            self.weight = Parameter(torch.Tensor(out_features, in_features))\n",
    "            self.reset_parameters()\n",
    "\n",
    "    def reset_parameters(self):\n",
    "        init.kaiming_uniform_(self.weight, a=math.sqrt(5))\n",
    "        if self.bias is not None:\n",
    "            fan_in, _ = init._calculate_fan_in_and_fan_out(self.weight)\n",
    "            bound = 1 / math.sqrt(fan_in)\n",
    "            init.uniform_(self.bias, -bound, bound)\n",
    "\n",
    "    def forward(self, input):\n",
    "        if self.weight is None:\n",
    "            self.in_features = input.shape[-1]\n",
    "            self.weight = Parameter(torch.Tensor(self.out_features, self.in_features))\n",
    "            self.reset_parameters()\n",
    "\n",
    "            self.to(input.device)\n",
    "        return F.linear(input, self.weight, self.bias)\n",
    "\n",
    "    def extra_repr(self):\n",
    "        return 'in_features={}, out_features={}, bias={}'.format(\n",
    "            self.in_features, self.out_features, self.bias is not None\n",
    "        )\n",
    "    \n",
    "class LinearBlock(nn.Module):\n",
    "\n",
    "    def __init__(self, in_features, out_features, bias=True,\n",
    "                 use_bn=True, activation=F.relu, dropout_ratio=-1, residual=False,):\n",
    "        super(LinearBlock, self).__init__()\n",
    "        if in_features is None:\n",
    "            self.linear = LazyLinear(in_features, out_features, bias=bias)\n",
    "        else:\n",
    "            self.linear = nn.Linear(in_features, out_features, bias=bias)\n",
    "        if use_bn:\n",
    "            self.bn = nn.BatchNorm1d(out_features)\n",
    "        if dropout_ratio > 0.:\n",
    "            self.dropout = nn.Dropout(p=dropout_ratio)\n",
    "        else:\n",
    "            self.dropout = None\n",
    "        self.activation = activation\n",
    "        self.use_bn = use_bn\n",
    "        self.dropout_ratio = dropout_ratio\n",
    "        self.residual = residual\n",
    "\n",
    "    def __call__(self, x):\n",
    "        h = self.linear(x)\n",
    "        if self.use_bn:\n",
    "            h = self.bn(h)\n",
    "        if self.activation is not None:\n",
    "            h = self.activation(h)\n",
    "        if self.residual:\n",
    "            h = residual_add(h, x)\n",
    "        if self.dropout_ratio > 0:\n",
    "            h = self.dropout(h)\n",
    "        return h"
   ]
  },
  {
   "cell_type": "code",
   "execution_count": 11,
   "metadata": {
    "execution": {
     "iopub.execute_input": "2021-01-16T10:25:15.058753Z",
     "iopub.status.busy": "2021-01-16T10:25:15.057825Z",
     "iopub.status.idle": "2021-01-16T10:25:15.060688Z",
     "shell.execute_reply": "2021-01-16T10:25:15.060096Z"
    },
    "papermill": {
     "duration": 0.041109,
     "end_time": "2021-01-16T10:25:15.060804",
     "exception": false,
     "start_time": "2021-01-16T10:25:15.019695",
     "status": "completed"
    },
    "tags": []
   },
   "outputs": [],
   "source": [
    "class AdaptiveConcatPool2d(nn.Module):\n",
    "    def __init__(self, sz=None):\n",
    "      super().__init__()\n",
    "      sz = sz or (1, 1)\n",
    "      self.ap = nn.AdaptiveAvgPool2d(sz)\n",
    "      self.mp = nn.AdaptiveMaxPool2d(sz)\n",
    "\n",
    "    def forward(self, x): return torch.cat([self.mp(x), self.ap(x)], 1)\n",
    " \n",
    "class Lambda(nn.Module):\n",
    "    def __init__(self, f): super().__init__(); self.f = f\n",
    "\n",
    "    def forward(self, x): return self.f(x)\n",
    "\n",
    "class Mish(nn.Module):\n",
    "    def __init__(self): super().__init__()\n",
    "\n",
    "    def forward(self, x): return x*torch.tanh(F.softplus(x))\n",
    "\n",
    "class Flatten(nn.Module):\n",
    "    def __init__(self): super().__init__()\n",
    "\n",
    "    def forward(self, x): return x.view(x.size(0), -1) \n",
    "    \n",
    "sigmoid = nn.Sigmoid()\n",
    "    \n",
    "class Swish(torch.autograd.Function):\n",
    "    @staticmethod\n",
    "    def forward(ctx, i):\n",
    "        result = i * sigmoid(i)\n",
    "        ctx.save_for_backward(i)\n",
    "        return result\n",
    "    @staticmethod\n",
    "    def backward(ctx, grad_output):\n",
    "        i = ctx.saved_variables[0]\n",
    "        sigmoid_i = sigmoid(i)\n",
    "        return grad_output * (sigmoid_i * (1 + i * (1 - sigmoid_i)))\n",
    "\n",
    "class Swish_Module(nn.Module):\n",
    "    def forward(self, x):\n",
    "        return Swish.apply(x)"
   ]
  },
  {
   "cell_type": "code",
   "execution_count": 13,
   "metadata": {
    "execution": {
     "iopub.execute_input": "2021-01-16T10:25:15.173523Z",
     "iopub.status.busy": "2021-01-16T10:25:15.172515Z",
     "iopub.status.idle": "2021-01-16T10:25:15.175661Z",
     "shell.execute_reply": "2021-01-16T10:25:15.175024Z"
    },
    "papermill": {
     "duration": 0.040473,
     "end_time": "2021-01-16T10:25:15.175771",
     "exception": false,
     "start_time": "2021-01-16T10:25:15.135298",
     "status": "completed"
    },
    "tags": []
   },
   "outputs": [],
   "source": [
    "class PretrainedCNN(nn.Module):\n",
    "    def __init__(self, model_name='se_resnext101_32x4d',\n",
    "                 in_channels=3, out_dim=5, use_bn=True,\n",
    "                 pretrained='imagenet'):\n",
    "        super(PretrainedCNN, self).__init__()\n",
    "        self.conv0 = nn.Conv2d(\n",
    "            in_channels, 3, kernel_size=3, stride=1, padding=1, bias=True)\n",
    "        self.base_model = pretrainedmodels.__dict__[model_name](pretrained=None)\n",
    "\n",
    "        self.do_pooling = True\n",
    "        if self.do_pooling:\n",
    "            inch = self.base_model.last_linear.in_features\n",
    "        else:\n",
    "            inch = None\n",
    "        hdim = 256\n",
    "        self.fc = LinearBlock(inch, out_dim, use_bn=use_bn, activation=None, residual=False)\n",
    "\n",
    "    def forward(self, x):\n",
    "        #h = x.repeat(1,3,1,1)\n",
    "        h = self.conv0(x)\n",
    "        h = self.base_model.features(h)\n",
    "\n",
    "        if self.do_pooling:\n",
    "            h = torch.sum(h, dim=(-1, -2))\n",
    "        else:\n",
    "            bs, ch, height, width = h.shape\n",
    "            h = h.view(bs, ch*height*width)\n",
    "        h = self.fc(h)\n",
    "        return h"
   ]
  },
  {
   "cell_type": "code",
   "execution_count": 15,
   "metadata": {
    "execution": {
     "iopub.execute_input": "2021-01-16T10:25:15.291476Z",
     "iopub.status.busy": "2021-01-16T10:25:15.290489Z",
     "iopub.status.idle": "2021-01-16T10:25:15.293436Z",
     "shell.execute_reply": "2021-01-16T10:25:15.292924Z"
    },
    "papermill": {
     "duration": 0.037072,
     "end_time": "2021-01-16T10:25:15.293587",
     "exception": false,
     "start_time": "2021-01-16T10:25:15.256515",
     "status": "completed"
    },
    "tags": []
   },
   "outputs": [],
   "source": [
    "class CustomEfficientNet(nn.Module):\n",
    "    def __init__(self,in_channels=3, out_channels=5, use_bn=True, out_dim=5):\n",
    "        super().__init__()\n",
    "        m = ptcv_get_model(\"efficientnet_b3b\", pretrained=None)\n",
    "        self.enc = nn.Sequential(*list(m.children())[:-1])       \n",
    "        activation = F.leaky_relu\n",
    "        #activation = F.relu\n",
    "        #activation = Swish_Module()\n",
    "        self.do_pooling = True\n",
    "        if self.do_pooling:\n",
    "            inch = 1536\n",
    "        else:\n",
    "            inch = None\n",
    "        hdim = 512\n",
    "        lin1 = LinearBlock(inch, hdim, use_bn=use_bn, activation=activation, residual=False)\n",
    "        lin2 = LinearBlock(hdim, out_dim, use_bn=use_bn, activation=None, residual=False)\n",
    "        self.lin_layers = nn.Sequential(lin1, lin2)\n",
    "        \n",
    "    def forward(self, x):\n",
    "        h = self.enc(x)\n",
    "        \n",
    "        if self.do_pooling:\n",
    "            h = torch.sum(h, dim=(-1, -2))\n",
    "        else:\n",
    "            bs, ch, height, width = h.shape\n",
    "            h = h.view(bs, ch*height*width)\n",
    "        for layer in self.lin_layers:\n",
    "            h = layer(h)\n",
    "        return h"
   ]
  },
  {
   "cell_type": "markdown",
   "metadata": {
    "papermill": {
     "duration": 0.022016,
     "end_time": "2021-01-16T10:25:15.337879",
     "exception": false,
     "start_time": "2021-01-16T10:25:15.315863",
     "status": "completed"
    },
    "tags": []
   },
   "source": [
    "# Helper functions"
   ]
  },
  {
   "cell_type": "code",
   "execution_count": 17,
   "metadata": {
    "execution": {
     "iopub.execute_input": "2021-01-16T10:25:15.454195Z",
     "iopub.status.busy": "2021-01-16T10:25:15.452143Z",
     "iopub.status.idle": "2021-01-16T10:25:15.455071Z",
     "shell.execute_reply": "2021-01-16T10:25:15.455644Z"
    },
    "papermill": {
     "duration": 0.041934,
     "end_time": "2021-01-16T10:25:15.455786",
     "exception": false,
     "start_time": "2021-01-16T10:25:15.413852",
     "status": "completed"
    },
    "tags": []
   },
   "outputs": [],
   "source": [
    "# ====================================================\n",
    "# Helper functions\n",
    "# ====================================================\n",
    "def inference(model, states, test_loader, device):\n",
    "    model.to(device)\n",
    "    tk0 = tqdm(enumerate(test_loader), total=len(test_loader))\n",
    "    probs = []\n",
    "    for i, (images) in tk0:\n",
    "        images = images.to(device)\n",
    "        avg_preds = []\n",
    "        for state in states:\n",
    "            model.load_state_dict(state)\n",
    "            model.eval()\n",
    "            with torch.no_grad():\n",
    "                y_preds = model(images)\n",
    "                avg_preds.append(y_preds.softmax(1).to('cpu').numpy())\n",
    "                \n",
    "                if tta:\n",
    "                    y_preds = model(torch.flip(images, dims=(2,)).contiguous())\n",
    "                    avg_preds.append(y_preds.softmax(1).to('cpu').numpy())\n",
    "\n",
    "                    y_preds = model(torch.flip(images, dims=(3,)).contiguous())\n",
    "                    avg_preds.append(y_preds.softmax(1).to('cpu').numpy())\n",
    "\n",
    "                    y_preds = model(torch.flip(images, dims=(2,3)).contiguous())\n",
    "                    avg_preds.append(y_preds.softmax(1).to('cpu').numpy())\n",
    "\n",
    "                    y_preds = model(images.permute(0,1,3,2).contiguous())\n",
    "                    avg_preds.append(y_preds.softmax(1).to('cpu').numpy())\n",
    "                \n",
    "        avg_preds = np.mean(avg_preds, axis=0)\n",
    "        probs.append(avg_preds)\n",
    "    probs = np.concatenate(probs)\n",
    "    return probs"
   ]
  },
  {
   "cell_type": "markdown",
   "metadata": {
    "papermill": {
     "duration": 0.021927,
     "end_time": "2021-01-16T10:25:15.500930",
     "exception": false,
     "start_time": "2021-01-16T10:25:15.479003",
     "status": "completed"
    },
    "tags": []
   },
   "source": [
    "# inference"
   ]
  },
  {
   "cell_type": "code",
   "execution_count": 19,
   "metadata": {
    "execution": {
     "iopub.execute_input": "2021-01-16T10:25:15.613639Z",
     "iopub.status.busy": "2021-01-16T10:25:15.612736Z",
     "iopub.status.idle": "2021-01-16T10:25:26.420674Z",
     "shell.execute_reply": "2021-01-16T10:25:26.419136Z"
    },
    "papermill": {
     "duration": 10.838458,
     "end_time": "2021-01-16T10:25:26.420797",
     "exception": false,
     "start_time": "2021-01-16T10:25:15.582339",
     "status": "completed"
    },
    "tags": []
   },
   "outputs": [
    {
     "data": {
      "application/vnd.jupyter.widget-view+json": {
       "model_id": "d8108386f4c54bd195cdd208e8298299",
       "version_major": 2,
       "version_minor": 0
      },
      "text/plain": [
       "HBox(children=(FloatProgress(value=0.0, max=1.0), HTML(value='')))"
      ]
     },
     "metadata": {},
     "output_type": "display_data"
    },
    {
     "name": "stdout",
     "output_type": "stream",
     "text": [
      "\n"
     ]
    },
    {
     "data": {
      "text/html": [
       "<div>\n",
       "<style scoped>\n",
       "    .dataframe tbody tr th:only-of-type {\n",
       "        vertical-align: middle;\n",
       "    }\n",
       "\n",
       "    .dataframe tbody tr th {\n",
       "        vertical-align: top;\n",
       "    }\n",
       "\n",
       "    .dataframe thead th {\n",
       "        text-align: right;\n",
       "    }\n",
       "</style>\n",
       "<table border=\"1\" class=\"dataframe\">\n",
       "  <thead>\n",
       "    <tr style=\"text-align: right;\">\n",
       "      <th></th>\n",
       "      <th>image_id</th>\n",
       "      <th>label</th>\n",
       "    </tr>\n",
       "  </thead>\n",
       "  <tbody>\n",
       "    <tr>\n",
       "      <th>0</th>\n",
       "      <td>2216849948.jpg</td>\n",
       "      <td>4</td>\n",
       "    </tr>\n",
       "  </tbody>\n",
       "</table>\n",
       "</div>"
      ],
      "text/plain": [
       "         image_id  label\n",
       "0  2216849948.jpg      4"
      ]
     },
     "execution_count": 19,
     "metadata": {},
     "output_type": "execute_result"
    }
   ],
   "source": [
    "# ====================================================\n",
    "# inference\n",
    "# ====================================================\n",
    "#model = PretrainedCNN(model_name='se_resnext101_32x4d').to(device)\n",
    "model = CustomEfficientNet().to(device)\n",
    "states = [torch.load(MODEL_DIR+f'model_fold_{fold}.pt') for fold in CFG.trn_fold]\n",
    "test_dataset = TestDataset(test, transform=get_transforms(data='valid'))\n",
    "test_loader = DataLoader(test_dataset, batch_size=CFG.batch_size, shuffle=False, \n",
    "                         num_workers=CFG.num_workers, pin_memory=True)\n",
    "predictions = inference(model, states, test_loader, device)\n",
    "# submission\n",
    "test['label'] = predictions.argmax(1)\n",
    "test[['image_id', 'label']].to_csv(OUTPUT_DIR+'submission.csv', index=False)\n",
    "test.head()"
   ]
  }
 ],
 "metadata": {
  "kernelspec": {
   "display_name": "Python 3",
   "language": "python",
   "name": "python3"
  },
  "language_info": {
   "codemirror_mode": {
    "name": "ipython",
    "version": 3
   },
   "file_extension": ".py",
   "mimetype": "text/x-python",
   "name": "python",
   "nbconvert_exporter": "python",
   "pygments_lexer": "ipython3",
   "version": "3.6.5"
  },
  "papermill": {
   "duration": 112.455546,
   "end_time": "2021-01-16T10:25:26.960618",
   "environment_variables": {},
   "exception": null,
   "input_path": "__notebook__.ipynb",
   "output_path": "__notebook__.ipynb",
   "parameters": {},
   "start_time": "2021-01-16T10:23:34.505072",
   "version": "2.1.0"
  },
  "widgets": {
   "application/vnd.jupyter.widget-state+json": {
    "state": {
     "01e8d87076e74ed283f4d92a5b119c7e": {
      "model_module": "@jupyter-widgets/base",
      "model_module_version": "1.2.0",
      "model_name": "LayoutModel",
      "state": {
       "_model_module": "@jupyter-widgets/base",
       "_model_module_version": "1.2.0",
       "_model_name": "LayoutModel",
       "_view_count": null,
       "_view_module": "@jupyter-widgets/base",
       "_view_module_version": "1.2.0",
       "_view_name": "LayoutView",
       "align_content": null,
       "align_items": null,
       "align_self": null,
       "border": null,
       "bottom": null,
       "display": null,
       "flex": null,
       "flex_flow": null,
       "grid_area": null,
       "grid_auto_columns": null,
       "grid_auto_flow": null,
       "grid_auto_rows": null,
       "grid_column": null,
       "grid_gap": null,
       "grid_row": null,
       "grid_template_areas": null,
       "grid_template_columns": null,
       "grid_template_rows": null,
       "height": null,
       "justify_content": null,
       "justify_items": null,
       "left": null,
       "margin": null,
       "max_height": null,
       "max_width": null,
       "min_height": null,
       "min_width": null,
       "object_fit": null,
       "object_position": null,
       "order": null,
       "overflow": null,
       "overflow_x": null,
       "overflow_y": null,
       "padding": null,
       "right": null,
       "top": null,
       "visibility": null,
       "width": null
      }
     },
     "038401a48d1745aea5a8830227915553": {
      "model_module": "@jupyter-widgets/controls",
      "model_module_version": "1.5.0",
      "model_name": "FloatProgressModel",
      "state": {
       "_dom_classes": [],
       "_model_module": "@jupyter-widgets/controls",
       "_model_module_version": "1.5.0",
       "_model_name": "FloatProgressModel",
       "_view_count": null,
       "_view_module": "@jupyter-widgets/controls",
       "_view_module_version": "1.5.0",
       "_view_name": "ProgressView",
       "bar_style": "success",
       "description": "100%",
       "description_tooltip": null,
       "layout": "IPY_MODEL_ec05546ad47244e9926071f2552391ef",
       "max": 1,
       "min": 0,
       "orientation": "horizontal",
       "style": "IPY_MODEL_0f9be3abf53e433d9791b828a62545ba",
       "value": 1
      }
     },
     "0f9be3abf53e433d9791b828a62545ba": {
      "model_module": "@jupyter-widgets/controls",
      "model_module_version": "1.5.0",
      "model_name": "ProgressStyleModel",
      "state": {
       "_model_module": "@jupyter-widgets/controls",
       "_model_module_version": "1.5.0",
       "_model_name": "ProgressStyleModel",
       "_view_count": null,
       "_view_module": "@jupyter-widgets/base",
       "_view_module_version": "1.2.0",
       "_view_name": "StyleView",
       "bar_color": null,
       "description_width": "initial"
      }
     },
     "17ed6fdb8315468bbe4374b5bbcf356a": {
      "model_module": "@jupyter-widgets/controls",
      "model_module_version": "1.5.0",
      "model_name": "DescriptionStyleModel",
      "state": {
       "_model_module": "@jupyter-widgets/controls",
       "_model_module_version": "1.5.0",
       "_model_name": "DescriptionStyleModel",
       "_view_count": null,
       "_view_module": "@jupyter-widgets/base",
       "_view_module_version": "1.2.0",
       "_view_name": "StyleView",
       "description_width": ""
      }
     },
     "8f27222763894303a3cbc73f57828175": {
      "model_module": "@jupyter-widgets/base",
      "model_module_version": "1.2.0",
      "model_name": "LayoutModel",
      "state": {
       "_model_module": "@jupyter-widgets/base",
       "_model_module_version": "1.2.0",
       "_model_name": "LayoutModel",
       "_view_count": null,
       "_view_module": "@jupyter-widgets/base",
       "_view_module_version": "1.2.0",
       "_view_name": "LayoutView",
       "align_content": null,
       "align_items": null,
       "align_self": null,
       "border": null,
       "bottom": null,
       "display": null,
       "flex": null,
       "flex_flow": null,
       "grid_area": null,
       "grid_auto_columns": null,
       "grid_auto_flow": null,
       "grid_auto_rows": null,
       "grid_column": null,
       "grid_gap": null,
       "grid_row": null,
       "grid_template_areas": null,
       "grid_template_columns": null,
       "grid_template_rows": null,
       "height": null,
       "justify_content": null,
       "justify_items": null,
       "left": null,
       "margin": null,
       "max_height": null,
       "max_width": null,
       "min_height": null,
       "min_width": null,
       "object_fit": null,
       "object_position": null,
       "order": null,
       "overflow": null,
       "overflow_x": null,
       "overflow_y": null,
       "padding": null,
       "right": null,
       "top": null,
       "visibility": null,
       "width": null
      }
     },
     "cb02d563f03e4df199e0526a9f9965d4": {
      "model_module": "@jupyter-widgets/controls",
      "model_module_version": "1.5.0",
      "model_name": "HTMLModel",
      "state": {
       "_dom_classes": [],
       "_model_module": "@jupyter-widgets/controls",
       "_model_module_version": "1.5.0",
       "_model_name": "HTMLModel",
       "_view_count": null,
       "_view_module": "@jupyter-widgets/controls",
       "_view_module_version": "1.5.0",
       "_view_name": "HTMLView",
       "description": "",
       "description_tooltip": null,
       "layout": "IPY_MODEL_01e8d87076e74ed283f4d92a5b119c7e",
       "placeholder": "​",
       "style": "IPY_MODEL_17ed6fdb8315468bbe4374b5bbcf356a",
       "value": " 1/1 [00:01&lt;00:00,  1.75s/it]"
      }
     },
     "d8108386f4c54bd195cdd208e8298299": {
      "model_module": "@jupyter-widgets/controls",
      "model_module_version": "1.5.0",
      "model_name": "HBoxModel",
      "state": {
       "_dom_classes": [],
       "_model_module": "@jupyter-widgets/controls",
       "_model_module_version": "1.5.0",
       "_model_name": "HBoxModel",
       "_view_count": null,
       "_view_module": "@jupyter-widgets/controls",
       "_view_module_version": "1.5.0",
       "_view_name": "HBoxView",
       "box_style": "",
       "children": [
        "IPY_MODEL_038401a48d1745aea5a8830227915553",
        "IPY_MODEL_cb02d563f03e4df199e0526a9f9965d4"
       ],
       "layout": "IPY_MODEL_8f27222763894303a3cbc73f57828175"
      }
     },
     "ec05546ad47244e9926071f2552391ef": {
      "model_module": "@jupyter-widgets/base",
      "model_module_version": "1.2.0",
      "model_name": "LayoutModel",
      "state": {
       "_model_module": "@jupyter-widgets/base",
       "_model_module_version": "1.2.0",
       "_model_name": "LayoutModel",
       "_view_count": null,
       "_view_module": "@jupyter-widgets/base",
       "_view_module_version": "1.2.0",
       "_view_name": "LayoutView",
       "align_content": null,
       "align_items": null,
       "align_self": null,
       "border": null,
       "bottom": null,
       "display": null,
       "flex": null,
       "flex_flow": null,
       "grid_area": null,
       "grid_auto_columns": null,
       "grid_auto_flow": null,
       "grid_auto_rows": null,
       "grid_column": null,
       "grid_gap": null,
       "grid_row": null,
       "grid_template_areas": null,
       "grid_template_columns": null,
       "grid_template_rows": null,
       "height": null,
       "justify_content": null,
       "justify_items": null,
       "left": null,
       "margin": null,
       "max_height": null,
       "max_width": null,
       "min_height": null,
       "min_width": null,
       "object_fit": null,
       "object_position": null,
       "order": null,
       "overflow": null,
       "overflow_x": null,
       "overflow_y": null,
       "padding": null,
       "right": null,
       "top": null,
       "visibility": null,
       "width": null
      }
     }
    },
    "version_major": 2,
    "version_minor": 0
   }
  }
 },
 "nbformat": 4,
 "nbformat_minor": 4
}
