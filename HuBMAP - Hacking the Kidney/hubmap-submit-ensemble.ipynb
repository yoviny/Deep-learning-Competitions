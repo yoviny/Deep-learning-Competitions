{
 "cells": [
  {
   "cell_type": "code",
   "execution_count": 1,
   "metadata": {
    "execution": {
     "iopub.execute_input": "2021-05-10T11:51:29.130072Z",
     "iopub.status.busy": "2021-05-10T11:51:29.129447Z",
     "iopub.status.idle": "2021-05-10T11:53:17.948593Z",
     "shell.execute_reply": "2021-05-10T11:53:17.949217Z"
    },
    "papermill": {
     "duration": 108.838149,
     "end_time": "2021-05-10T11:53:17.949591",
     "exception": false,
     "start_time": "2021-05-10T11:51:29.111442",
     "status": "completed"
    },
    "tags": []
   },
   "outputs": [
    {
     "name": "stdout",
     "output_type": "stream",
     "text": [
      "CPU times: user 1.76 s, sys: 567 ms, total: 2.33 s\n",
      "Wall time: 1min 48s\n"
     ]
    }
   ],
   "source": [
    "%%time\n",
    "!pip install --quiet ../input/pytorch-offline-libs/efficientnet_pytorch-0.6.3/efficientnet_pytorch-0.6.3/\n",
    "!pip install --quiet ../input/pytorch-offline-libs/pretrainedmodels-0.7.4/pretrainedmodels-0.7.4/\n",
    "!pip install --quiet ../input/pytorch-offline-libs/timm-0.3.2-py3-none-any.whl\n",
    "!pip install --quiet ../input/pytorch-offline-libs/segmentation_models_pytorch-0.1.3-py3-none-any.whl"
   ]
  },
  {
   "cell_type": "code",
   "execution_count": 2,
   "metadata": {
    "_cell_guid": "b1076dfc-b9ad-4769-8c92-a6c4dae69d19",
    "_kg_hide-input": true,
    "_uuid": "8f2839f25d086af736a60e9eeb907d3b93b6e0e5",
    "execution": {
     "iopub.execute_input": "2021-05-10T11:53:17.974862Z",
     "iopub.status.busy": "2021-05-10T11:53:17.974143Z",
     "iopub.status.idle": "2021-05-10T11:53:23.226078Z",
     "shell.execute_reply": "2021-05-10T11:53:23.227265Z"
    },
    "papermill": {
     "duration": 5.267855,
     "end_time": "2021-05-10T11:53:23.227480",
     "exception": false,
     "start_time": "2021-05-10T11:53:17.959625",
     "status": "completed"
    },
    "tags": []
   },
   "outputs": [],
   "source": [
    "import os\n",
    "import gc\n",
    "import sys\n",
    "import cv2\n",
    "import rasterio\n",
    "import numpy as np\n",
    "import pandas as pd\n",
    "import tifffile as tiff\n",
    "import matplotlib.pyplot as plt\n",
    "from PIL import Image\n",
    "from tqdm.notebook import tqdm\n",
    "from rasterio.windows import Window\n",
    "\n",
    "import timm\n",
    "import segmentation_models_pytorch as smp\n",
    "from fastai.vision.all import *\n",
    "from torch.utils.data import Dataset, DataLoader\n",
    "\n",
    "import warnings\n",
    "warnings.filterwarnings(\"ignore\")"
   ]
  },
  {
   "cell_type": "code",
   "execution_count": 3,
   "metadata": {
    "execution": {
     "iopub.execute_input": "2021-05-10T11:53:23.273868Z",
     "iopub.status.busy": "2021-05-10T11:53:23.271466Z",
     "iopub.status.idle": "2021-05-10T11:53:23.325667Z",
     "shell.execute_reply": "2021-05-10T11:53:23.326615Z"
    },
    "papermill": {
     "duration": 0.080994,
     "end_time": "2021-05-10T11:53:23.326819",
     "exception": false,
     "start_time": "2021-05-10T11:53:23.245825",
     "status": "completed"
    },
    "tags": []
   },
   "outputs": [
    {
     "data": {
      "text/plain": [
       "['../input/256-bce-unext50-my-preds/model_fold_0.pt',\n",
       " '../input/256-bce-unext50-my-preds/model_fold_1.pt',\n",
       " '../input/256-bce-unext50-my-preds/model_fold_2.pt',\n",
       " '../input/256-bce-unext50-my-preds/model_fold_3.pt',\n",
       " '../input/256-bce-unext50-my-preds/model_fold_4.pt']"
      ]
     },
     "metadata": {},
     "output_type": "display_data"
    },
    {
     "data": {
      "text/plain": [
       "['../input/model-256x256-bce-my-preds/model_fold_0.pt',\n",
       " '../input/model-256x256-bce-my-preds/model_fold_1.pt',\n",
       " '../input/model-256x256-bce-my-preds/model_fold_2.pt',\n",
       " '../input/model-256x256-bce-my-preds/model_fold_3.pt',\n",
       " '../input/model-256x256-bce-my-preds/model_fold_4.pt']"
      ]
     },
     "metadata": {},
     "output_type": "display_data"
    },
    {
     "data": {
      "text/plain": [
       "['../input/model-256x256-bce-0935-preds/model_fold_0.pt',\n",
       " '../input/model-256x256-bce-0935-preds/model_fold_1.pt',\n",
       " '../input/model-256x256-bce-0935-preds/model_fold_2.pt',\n",
       " '../input/model-256x256-bce-0935-preds/model_fold_3.pt',\n",
       " '../input/model-256x256-bce-0935-preds/model_fold_4.pt']"
      ]
     },
     "metadata": {},
     "output_type": "display_data"
    }
   ],
   "source": [
    "sz = 256   #the size of tiles\n",
    "reduce = 4 #reduce the original images by 4 times\n",
    "\n",
    "DATA = '../input/hubmap-kidney-segmentation/test/'\n",
    "df_sample = pd.read_csv('../input/hubmap-kidney-segmentation/sample_submission.csv')\n",
    "\n",
    "unext50_model_dir = '../input/256-bce-unext50-my-preds/'\n",
    "unetplusplus_model_dir_1 = '../input/model-256x256-bce-my-preds/'\n",
    "unetplusplus_model_dir_2 = '../input/model-256x256-bce-0935-preds/'\n",
    "\n",
    "MODELS, MODELS_1, MODELS_2 = [], [], []\n",
    "\n",
    "def load_model_paths(model_dir, model_list):\n",
    "    for filename in os.listdir(model_dir):\n",
    "        if filename.endswith(\".pt\"): \n",
    "            model_list.append(os.path.join(model_dir, filename))\n",
    "            \n",
    "load_model_paths(unext50_model_dir, MODELS)\n",
    "load_model_paths(unetplusplus_model_dir_1, MODELS_1)\n",
    "load_model_paths(unetplusplus_model_dir_2, MODELS_2)\n",
    "       \n",
    "MODELS = sorted([item for item in MODELS if 'model' in item])\n",
    "MODELS_1 = sorted([item for item in MODELS_1 if 'model' in item])\n",
    "MODELS_2 = sorted([item for item in MODELS_2 if 'model' in item])\n",
    "\n",
    "display(MODELS)\n",
    "display(MODELS_1)\n",
    "display(MODELS_2)\n",
    "\n",
    "bs = 32\n",
    "device = torch.device('cuda' if torch.cuda.is_available() else 'cpu')"
   ]
  },
  {
   "cell_type": "markdown",
   "metadata": {
    "papermill": {
     "duration": 0.017278,
     "end_time": "2021-05-10T11:53:23.362402",
     "exception": false,
     "start_time": "2021-05-10T11:53:23.345124",
     "status": "completed"
    },
    "tags": []
   },
   "source": [
    "# Data"
   ]
  },
  {
   "cell_type": "code",
   "execution_count": 4,
   "metadata": {
    "_kg_hide-input": true,
    "execution": {
     "iopub.execute_input": "2021-05-10T11:53:23.408155Z",
     "iopub.status.busy": "2021-05-10T11:53:23.407316Z",
     "iopub.status.idle": "2021-05-10T11:53:23.417639Z",
     "shell.execute_reply": "2021-05-10T11:53:23.418661Z"
    },
    "papermill": {
     "duration": 0.039005,
     "end_time": "2021-05-10T11:53:23.418846",
     "exception": false,
     "start_time": "2021-05-10T11:53:23.379841",
     "status": "completed"
    },
    "tags": []
   },
   "outputs": [],
   "source": [
    "#functions to convert encoding to mask and mask to encoding\n",
    "def enc2mask(encs, shape):\n",
    "    img = np.zeros(shape[0]*shape[1], dtype=np.uint8)\n",
    "    for m,enc in enumerate(encs):\n",
    "        if isinstance(enc,np.float) and np.isnan(enc): continue\n",
    "        s = enc.split()\n",
    "        for i in range(len(s)//2):\n",
    "            start = int(s[2*i]) - 1\n",
    "            length = int(s[2*i+1])\n",
    "            img[start:start+length] = 1 + m\n",
    "    return img.reshape(shape).T\n",
    "\n",
    "def mask2enc(mask, n=1):\n",
    "    pixels = mask.T.flatten()\n",
    "    encs = []\n",
    "    for i in range(1,n+1):\n",
    "        p = (pixels == i).astype(np.int8)\n",
    "        if p.sum() == 0: encs.append(np.nan)\n",
    "        else:\n",
    "            p = np.concatenate([[0], p, [0]])\n",
    "            runs = np.where(p[1:] != p[:-1])[0] + 1\n",
    "            runs[1::2] -= runs[::2]\n",
    "            encs.append(' '.join(str(x) for x in runs))\n",
    "    return encs\n",
    "\n",
    "#https://www.kaggle.com/bguberfain/memory-aware-rle-encoding\n",
    "#with transposed mask\n",
    "def rle_encode_less_memory(img):\n",
    "    #the image should be transposed\n",
    "    pixels = img.T.flatten()\n",
    "    \n",
    "    # This simplified method requires first and last pixel to be zero\n",
    "    pixels[0] = 0\n",
    "    pixels[-1] = 0\n",
    "    runs = np.where(pixels[1:] != pixels[:-1])[0] + 2\n",
    "    runs[1::2] -= runs[::2]\n",
    "    \n",
    "    return ' '.join(str(x) for x in runs)"
   ]
  },
  {
   "cell_type": "code",
   "execution_count": 5,
   "metadata": {
    "execution": {
     "iopub.execute_input": "2021-05-10T11:53:23.464066Z",
     "iopub.status.busy": "2021-05-10T11:53:23.463285Z",
     "iopub.status.idle": "2021-05-10T11:53:23.487061Z",
     "shell.execute_reply": "2021-05-10T11:53:23.488028Z"
    },
    "papermill": {
     "duration": 0.051512,
     "end_time": "2021-05-10T11:53:23.488213",
     "exception": false,
     "start_time": "2021-05-10T11:53:23.436701",
     "status": "completed"
    },
    "tags": []
   },
   "outputs": [],
   "source": [
    "# https://www.kaggle.com/iafoss/256x256-images\n",
    "\n",
    "mean=np.asarray([0.485, 0.456, 0.406])\n",
    "std=np.asarray([0.229, 0.224, 0.225])\n",
    "\n",
    "s_th = 40  #saturation blancking threshold\n",
    "p_th = 1000*(sz//256)**2 #threshold for the minimum number of pixels\n",
    "identity = rasterio.Affine(1, 0, 0, 0, 1, 0)\n",
    "\n",
    "def img2tensor(img,dtype:np.dtype=np.float32):\n",
    "    if img.ndim==2 : img = np.expand_dims(img,2)\n",
    "    img = np.transpose(img,(2,0,1))\n",
    "    return torch.from_numpy(img.astype(dtype, copy=False))\n",
    "\n",
    "class HuBMAPDataset(Dataset):\n",
    "    def __init__(self, idx, sz=sz, reduce=reduce):\n",
    "        self.data = rasterio.open(os.path.join(DATA,idx+'.tiff'), transform = identity,\n",
    "                                 num_threads='all_cpus')\n",
    "        # some images have issues with their format \n",
    "        # and must be saved correctly before reading with rasterio\n",
    "        if self.data.count != 3:\n",
    "            subdatasets = self.data.subdatasets\n",
    "            self.layers = []\n",
    "            if len(subdatasets) > 0:\n",
    "                for i, subdataset in enumerate(subdatasets, 0):\n",
    "                    self.layers.append(rasterio.open(subdataset))\n",
    "        self.shape = self.data.shape\n",
    "        self.reduce = reduce\n",
    "        self.sz = reduce*sz\n",
    "        self.pad0 = (self.sz - self.shape[0]%self.sz)%self.sz\n",
    "        self.pad1 = (self.sz - self.shape[1]%self.sz)%self.sz\n",
    "        self.n0max = (self.shape[0] + self.pad0)//self.sz\n",
    "        self.n1max = (self.shape[1] + self.pad1)//self.sz\n",
    "        \n",
    "    def __len__(self):\n",
    "        return self.n0max*self.n1max\n",
    "    \n",
    "    def __getitem__(self, idx):\n",
    "        # the code below may be a little bit difficult to understand,\n",
    "        # but the thing it does is mapping the original image to\n",
    "        # tiles created with adding padding, as done in\n",
    "        # https://www.kaggle.com/iafoss/256x256-images ,\n",
    "        # and then the tiles are loaded with rasterio\n",
    "        # n0,n1 - are the x and y index of the tile (idx = n0*self.n1max + n1)\n",
    "        n0,n1 = idx//self.n1max, idx%self.n1max\n",
    "        # x0,y0 - are the coordinates of the lower left corner of the tile in the image\n",
    "        # negative numbers correspond to padding (which must not be loaded)\n",
    "        x0,y0 = -self.pad0//2 + n0*self.sz, -self.pad1//2 + n1*self.sz\n",
    "        # make sure that the region to read is within the image\n",
    "        p00,p01 = max(0,x0), min(x0+self.sz,self.shape[0])\n",
    "        p10,p11 = max(0,y0), min(y0+self.sz,self.shape[1])\n",
    "        img = np.zeros((self.sz,self.sz,3),np.uint8)\n",
    "        # mapping the loade region to the tile\n",
    "        if self.data.count == 3:\n",
    "            img[(p00-x0):(p01-x0),(p10-y0):(p11-y0)] = np.moveaxis(self.data.read([1,2,3],\n",
    "                window=Window.from_slices((p00,p01),(p10,p11))), 0, -1)\n",
    "        else:\n",
    "            for i,layer in enumerate(self.layers):\n",
    "                img[(p00-x0):(p01-x0),(p10-y0):(p11-y0),i] =\\\n",
    "                  layer.read(1,window=Window.from_slices((p00,p01),(p10,p11)))\n",
    "        \n",
    "        if self.reduce != 1:\n",
    "            img = cv2.resize(img,(self.sz//reduce,self.sz//reduce),\n",
    "                             interpolation = cv2.INTER_AREA)\n",
    "                \n",
    "        #check for empty imges\n",
    "        hsv = cv2.cvtColor(img, cv2.COLOR_BGR2HSV)\n",
    "        h,s,v = cv2.split(hsv)\n",
    "        if (s>s_th).sum() <= p_th or img.sum() <= p_th:\n",
    "            #images with -1 will be skipped\n",
    "            return img2tensor((img/255.0 - mean)/std), -1\n",
    "        else: return img2tensor((img/255.0 - mean)/std), idx"
   ]
  },
  {
   "cell_type": "markdown",
   "metadata": {
    "papermill": {
     "duration": 0.017962,
     "end_time": "2021-05-10T11:53:23.523304",
     "exception": false,
     "start_time": "2021-05-10T11:53:23.505342",
     "status": "completed"
    },
    "tags": []
   },
   "source": [
    "# Model"
   ]
  },
  {
   "cell_type": "code",
   "execution_count": 6,
   "metadata": {
    "_kg_hide-input": true,
    "execution": {
     "iopub.execute_input": "2021-05-10T11:53:23.581466Z",
     "iopub.status.busy": "2021-05-10T11:53:23.579903Z",
     "iopub.status.idle": "2021-05-10T11:53:23.582470Z",
     "shell.execute_reply": "2021-05-10T11:53:23.582861Z"
    },
    "papermill": {
     "duration": 0.041243,
     "end_time": "2021-05-10T11:53:23.583014",
     "exception": false,
     "start_time": "2021-05-10T11:53:23.541771",
     "status": "completed"
    },
    "tags": []
   },
   "outputs": [],
   "source": [
    "class FPN(nn.Module):\n",
    "    def __init__(self, input_channels:list, output_channels:list):\n",
    "        super().__init__()\n",
    "        self.convs = nn.ModuleList(\n",
    "            [nn.Sequential(nn.Conv2d(in_ch, out_ch*2, kernel_size=3, padding=1),\n",
    "             nn.ReLU(inplace=True), nn.BatchNorm2d(out_ch*2),\n",
    "             nn.Conv2d(out_ch*2, out_ch, kernel_size=3, padding=1))\n",
    "            for in_ch, out_ch in zip(input_channels, output_channels)])\n",
    "        \n",
    "    def forward(self, xs:list, last_layer):\n",
    "        hcs = [F.interpolate(c(x),scale_factor=2**(len(self.convs)-i),mode='bilinear') \n",
    "               for i,(c,x) in enumerate(zip(self.convs, xs))]\n",
    "        hcs.append(last_layer)\n",
    "        return torch.cat(hcs, dim=1)\n",
    "\n",
    "class UnetBlock(Module):\n",
    "    def __init__(self, up_in_c:int, x_in_c:int, nf:int=None, blur:bool=False,\n",
    "                 self_attention:bool=False, **kwargs):\n",
    "        super().__init__()\n",
    "        self.shuf = PixelShuffle_ICNR(up_in_c, up_in_c//2, blur=blur, **kwargs)\n",
    "        self.bn = nn.BatchNorm2d(x_in_c)\n",
    "        ni = up_in_c//2 + x_in_c\n",
    "        nf = nf if nf is not None else max(up_in_c//2,32)\n",
    "        self.conv1 = ConvLayer(ni, nf, norm_type=None, **kwargs)\n",
    "        self.conv2 = ConvLayer(nf, nf, norm_type=None,\n",
    "            xtra=SelfAttention(nf) if self_attention else None, **kwargs)\n",
    "        self.relu = nn.ReLU(inplace=True)\n",
    "\n",
    "    def forward(self, up_in:Tensor, left_in:Tensor) -> Tensor:\n",
    "        s = left_in\n",
    "        up_out = self.shuf(up_in)\n",
    "        cat_x = self.relu(torch.cat([up_out, self.bn(s)], dim=1))\n",
    "        return self.conv2(self.conv1(cat_x))\n",
    "        \n",
    "class _ASPPModule(nn.Module):\n",
    "    def __init__(self, inplanes, planes, kernel_size, padding, dilation, groups=1):\n",
    "        super().__init__()\n",
    "        self.atrous_conv = nn.Conv2d(inplanes, planes, kernel_size=kernel_size,\n",
    "                stride=1, padding=padding, dilation=dilation, bias=False, groups=groups)\n",
    "        self.bn = nn.BatchNorm2d(planes)\n",
    "        self.relu = nn.ReLU()\n",
    "\n",
    "        self._init_weight()\n",
    "\n",
    "    def forward(self, x):\n",
    "        x = self.atrous_conv(x)\n",
    "        x = self.bn(x)\n",
    "\n",
    "        return self.relu(x)\n",
    "\n",
    "    def _init_weight(self):\n",
    "        for m in self.modules():\n",
    "            if isinstance(m, nn.Conv2d):\n",
    "                torch.nn.init.kaiming_normal_(m.weight)\n",
    "            elif isinstance(m, nn.BatchNorm2d):\n",
    "                m.weight.data.fill_(1)\n",
    "                m.bias.data.zero_()\n",
    "\n",
    "class ASPP(nn.Module):\n",
    "    def __init__(self, inplanes=512, mid_c=256, dilations=[6, 12, 18, 24], out_c=None):\n",
    "        super().__init__()\n",
    "        self.aspps = [_ASPPModule(inplanes, mid_c, 1, padding=0, dilation=1)] + \\\n",
    "            [_ASPPModule(inplanes, mid_c, 3, padding=d, dilation=d,groups=4) for d in dilations]\n",
    "        self.aspps = nn.ModuleList(self.aspps)\n",
    "        self.global_pool = nn.Sequential(nn.AdaptiveMaxPool2d((1, 1)),\n",
    "                        nn.Conv2d(inplanes, mid_c, 1, stride=1, bias=False),\n",
    "                        nn.BatchNorm2d(mid_c), nn.ReLU())\n",
    "        out_c = out_c if out_c is not None else mid_c\n",
    "        self.out_conv = nn.Sequential(nn.Conv2d(mid_c*(2+len(dilations)), out_c, 1, bias=False),\n",
    "                                    nn.BatchNorm2d(out_c), nn.ReLU(inplace=True))\n",
    "        self.conv1 = nn.Conv2d(mid_c*(2+len(dilations)), out_c, 1, bias=False)\n",
    "        self._init_weight()\n",
    "\n",
    "    def forward(self, x):\n",
    "        x0 = self.global_pool(x)\n",
    "        xs = [aspp(x) for aspp in self.aspps]\n",
    "        x0 = F.interpolate(x0, size=xs[0].size()[2:], mode='bilinear', align_corners=True)\n",
    "        x = torch.cat([x0] + xs, dim=1)\n",
    "        return self.out_conv(x)\n",
    "    \n",
    "    def _init_weight(self):\n",
    "        for m in self.modules():\n",
    "            if isinstance(m, nn.Conv2d):\n",
    "                torch.nn.init.kaiming_normal_(m.weight)\n",
    "            elif isinstance(m, nn.BatchNorm2d):\n",
    "                m.weight.data.fill_(1)\n",
    "                m.bias.data.zero_()"
   ]
  },
  {
   "cell_type": "code",
   "execution_count": 7,
   "metadata": {
    "execution": {
     "iopub.execute_input": "2021-05-10T11:53:23.623781Z",
     "iopub.status.busy": "2021-05-10T11:53:23.622153Z",
     "iopub.status.idle": "2021-05-10T11:53:23.624808Z",
     "shell.execute_reply": "2021-05-10T11:53:23.625224Z"
    },
    "papermill": {
     "duration": 0.030179,
     "end_time": "2021-05-10T11:53:23.625350",
     "exception": false,
     "start_time": "2021-05-10T11:53:23.595171",
     "status": "completed"
    },
    "tags": []
   },
   "outputs": [],
   "source": [
    "class UneXt50(nn.Module):\n",
    "    def __init__(self, stride=1, **kwargs):\n",
    "        super().__init__()\n",
    "        #encoder\n",
    "        self.m = timm.create_model('seresnext50_32x4d', pretrained=False)\n",
    "        self.enc0 = nn.Sequential(self.m.conv1, self.m.bn1, nn.ReLU(inplace=True))\n",
    "        self.enc1 = nn.Sequential(nn.MaxPool2d(kernel_size=3, stride=2, padding=1, dilation=1),\n",
    "                            self.m.layer1) #256\n",
    "        self.enc2 = self.m.layer2 #512\n",
    "        self.enc3 = self.m.layer3 #1024\n",
    "        self.enc4 = self.m.layer4 #2048\n",
    "        #aspp with customized dilatations\n",
    "        self.aspp = ASPP(2048,256,out_c=512,dilations=[stride*1,stride*2,stride*3,stride*4])\n",
    "        self.drop_aspp = nn.Dropout2d(0.5)\n",
    "        #decoder\n",
    "        self.dec4 = UnetBlock(512,1024,256)\n",
    "        self.dec3 = UnetBlock(256,512,128)\n",
    "        self.dec2 = UnetBlock(128,256,64)\n",
    "        self.dec1 = UnetBlock(64,64,32)\n",
    "        self.fpn = FPN([512,256,128,64],[16]*4)\n",
    "        self.drop = nn.Dropout2d(0.1)\n",
    "        self.final_conv = ConvLayer(32+16*4, 1, ks=1, norm_type=None, act_cls=None)\n",
    "        \n",
    "    def forward(self, x):\n",
    "        enc0 = self.enc0(x)\n",
    "        enc1 = self.enc1(enc0)\n",
    "        enc2 = self.enc2(enc1)\n",
    "        enc3 = self.enc3(enc2)\n",
    "        enc4 = self.enc4(enc3)\n",
    "        enc5 = self.aspp(enc4)\n",
    "        dec3 = self.dec4(self.drop_aspp(enc5),enc3)\n",
    "        dec2 = self.dec3(dec3,enc2)\n",
    "        dec1 = self.dec2(dec2,enc1)\n",
    "        dec0 = self.dec1(dec1,enc0)\n",
    "        x = self.fpn([enc5, dec3, dec2, dec1], dec0)\n",
    "        x = self.final_conv(self.drop(x))\n",
    "        x = F.interpolate(x,scale_factor=2,mode='bilinear')\n",
    "        return x\n",
    "\n",
    "#split the model to encoder and decoder for fast.ai\n",
    "split_layers = lambda m: [list(m.enc0.parameters())+list(m.enc1.parameters())+\n",
    "                list(m.enc2.parameters())+list(m.enc3.parameters())+\n",
    "                list(m.enc4.parameters()),\n",
    "                list(m.aspp.parameters())+list(m.dec4.parameters())+\n",
    "                list(m.dec3.parameters())+list(m.dec2.parameters())+\n",
    "                list(m.dec1.parameters())+list(m.fpn.parameters())+\n",
    "                list(m.final_conv.parameters())]"
   ]
  },
  {
   "cell_type": "code",
   "execution_count": 8,
   "metadata": {
    "execution": {
     "iopub.execute_input": "2021-05-10T11:53:23.655193Z",
     "iopub.status.busy": "2021-05-10T11:53:23.653456Z",
     "iopub.status.idle": "2021-05-10T11:53:23.656208Z",
     "shell.execute_reply": "2021-05-10T11:53:23.656619Z"
    },
    "papermill": {
     "duration": 0.020234,
     "end_time": "2021-05-10T11:53:23.656738",
     "exception": false,
     "start_time": "2021-05-10T11:53:23.636504",
     "status": "completed"
    },
    "tags": []
   },
   "outputs": [],
   "source": [
    "def load_models(MODEL_PATHS, arch='UNEXT50'):\n",
    "    models = []\n",
    "    for path in MODEL_PATHS:\n",
    "        print(path)\n",
    "        state_dict = torch.load(path,map_location=torch.device('cpu'))\n",
    "        if arch=='UNETPLUSPLUS':\n",
    "            model = smp.UnetPlusPlus('efficientnet-b4', encoder_weights=None, decoder_attention_type=None, classes=1)\n",
    "        elif arch=='UNEXT50':\n",
    "            model = UneXt50()\n",
    "        model.load_state_dict(state_dict)\n",
    "        model.float()\n",
    "        model.eval()\n",
    "        model.to(device)\n",
    "        models.append(model)\n",
    "\n",
    "    del state_dict\n",
    "    return models"
   ]
  },
  {
   "cell_type": "code",
   "execution_count": 9,
   "metadata": {
    "execution": {
     "iopub.execute_input": "2021-05-10T11:53:23.691170Z",
     "iopub.status.busy": "2021-05-10T11:53:23.689892Z",
     "iopub.status.idle": "2021-05-10T11:53:23.692484Z",
     "shell.execute_reply": "2021-05-10T11:53:23.692940Z"
    },
    "papermill": {
     "duration": 0.025319,
     "end_time": "2021-05-10T11:53:23.693082",
     "exception": false,
     "start_time": "2021-05-10T11:53:23.667763",
     "status": "completed"
    },
    "tags": []
   },
   "outputs": [],
   "source": [
    "#iterator like wrapper that returns predicted masks\n",
    "class Model_pred:\n",
    "    def __init__(self, models, dl, tta:bool=True, half:bool=False):\n",
    "        self.models = models\n",
    "        self.dl = dl\n",
    "        self.tta = tta\n",
    "        self.half = half\n",
    "        \n",
    "    def __iter__(self):\n",
    "        count=0\n",
    "        with torch.no_grad():\n",
    "            for x,y in iter(self.dl):\n",
    "                if ((y>=0).sum() > 0): #exclude empty images\n",
    "                    x = x[y>=0].to(device)\n",
    "                    y = y[y>=0]\n",
    "                    if self.half: x = x.half()\n",
    "                    py = None\n",
    "                    for model in self.models:\n",
    "                        p = model(x)\n",
    "                        p = torch.sigmoid(p).detach()\n",
    "                        if py is None: py = p\n",
    "                        else: py += p\n",
    "                    if self.tta:\n",
    "                        #x,y,xy flips as TTA\n",
    "                        flips = [[-1],[-2],[-2,-1]]\n",
    "                        for f in flips:\n",
    "                            xf = torch.flip(x,f)\n",
    "                            for model in self.models:\n",
    "                                p = model(xf)\n",
    "                                p = torch.flip(p,f)\n",
    "                                py += torch.sigmoid(p).detach()\n",
    "                        py /= (1+len(flips))        \n",
    "                    py /= len(self.models)\n",
    "\n",
    "                    py = F.upsample(py, scale_factor=reduce, mode=\"bilinear\")\n",
    "                    py = py.permute(0,2,3,1).float().cpu()\n",
    "                    \n",
    "                    batch_size = len(py)\n",
    "                    for i in range(batch_size):\n",
    "                        yield py[i],y[i]\n",
    "                        count += 1\n",
    "                    \n",
    "    def __len__(self):\n",
    "        return len(self.dl.dataset)"
   ]
  },
  {
   "cell_type": "markdown",
   "metadata": {
    "papermill": {
     "duration": 0.010659,
     "end_time": "2021-05-10T11:53:23.714925",
     "exception": false,
     "start_time": "2021-05-10T11:53:23.704266",
     "status": "completed"
    },
    "tags": []
   },
   "source": [
    "# Prediction"
   ]
  },
  {
   "cell_type": "code",
   "execution_count": 10,
   "metadata": {
    "execution": {
     "iopub.execute_input": "2021-05-10T11:53:23.746126Z",
     "iopub.status.busy": "2021-05-10T11:53:23.745410Z",
     "iopub.status.idle": "2021-05-10T11:53:23.748782Z",
     "shell.execute_reply": "2021-05-10T11:53:23.748299Z"
    },
    "papermill": {
     "duration": 0.023624,
     "end_time": "2021-05-10T11:53:23.748887",
     "exception": false,
     "start_time": "2021-05-10T11:53:23.725263",
     "status": "completed"
    },
    "tags": []
   },
   "outputs": [],
   "source": [
    "def test_loop(model_paths_1, model_paths_2, model_paths_3):\n",
    "    \n",
    "    models = load_models(model_paths_1, arch='UNEXT50')\n",
    "    models.extend(load_models(model_paths_2, arch='UNETPLUSPLUS'))\n",
    "    models.extend(load_models(model_paths_3, arch='UNETPLUSPLUS'))\n",
    "    \n",
    "    TH = (0.446+0.452+0.442)/3.0\n",
    "    print(\"Threshold: \", TH)\n",
    "    \n",
    "    names,preds = [],[]\n",
    "    for idx,row in tqdm(df_sample.iterrows(),total=len(df_sample)):\n",
    "        idx = row['id']\n",
    "        ds = HuBMAPDataset(idx)\n",
    "        #rasterio cannot be used with multiple workers\n",
    "        dl = DataLoader(ds,bs,num_workers=0,shuffle=False,pin_memory=True)\n",
    "        mp = Model_pred(models,dl)\n",
    "        \n",
    "        #generate masks\n",
    "        mask = torch.zeros(len(ds),ds.sz,ds.sz,dtype=torch.int8)\n",
    "        for p,i in iter(mp): mask[i.item()] = p.squeeze(-1) > TH\n",
    "\n",
    "        #reshape tiled masks into a single mask and crop padding\n",
    "        mask = mask.view(ds.n0max,ds.n1max,ds.sz,ds.sz).\\\n",
    "            permute(0,2,1,3).reshape(ds.n0max*ds.sz,ds.n1max*ds.sz)\n",
    "        mask = mask[ds.pad0//2:-(ds.pad0-ds.pad0//2) if ds.pad0 > 0 else ds.n0max*ds.sz,\n",
    "            ds.pad1//2:-(ds.pad1-ds.pad1//2) if ds.pad1 > 0 else ds.n1max*ds.sz]\n",
    "        \n",
    "        #convert to rle\n",
    "        #https://www.kaggle.com/bguberfain/memory-aware-rle-encoding\n",
    "        rle = rle_encode_less_memory(mask.numpy())\n",
    "\n",
    "        names.append(idx)\n",
    "        preds.append(rle)\n",
    "        del mask, ds, dl\n",
    "        gc.collect()\n",
    "    return names, preds"
   ]
  },
  {
   "cell_type": "code",
   "execution_count": 11,
   "metadata": {
    "execution": {
     "iopub.execute_input": "2021-05-10T11:53:23.774267Z",
     "iopub.status.busy": "2021-05-10T11:53:23.773700Z",
     "iopub.status.idle": "2021-05-10T12:21:31.318441Z",
     "shell.execute_reply": "2021-05-10T12:21:31.317026Z"
    },
    "papermill": {
     "duration": 1687.558673,
     "end_time": "2021-05-10T12:21:31.318621",
     "exception": false,
     "start_time": "2021-05-10T11:53:23.759948",
     "status": "completed"
    },
    "tags": []
   },
   "outputs": [
    {
     "name": "stdout",
     "output_type": "stream",
     "text": [
      "../input/256-bce-unext50-my-preds/model_fold_0.pt\n",
      "../input/256-bce-unext50-my-preds/model_fold_1.pt\n",
      "../input/256-bce-unext50-my-preds/model_fold_2.pt\n",
      "../input/256-bce-unext50-my-preds/model_fold_3.pt\n",
      "../input/256-bce-unext50-my-preds/model_fold_4.pt\n",
      "../input/model-256x256-bce-my-preds/model_fold_0.pt\n",
      "../input/model-256x256-bce-my-preds/model_fold_1.pt\n",
      "../input/model-256x256-bce-my-preds/model_fold_2.pt\n",
      "../input/model-256x256-bce-my-preds/model_fold_3.pt\n",
      "../input/model-256x256-bce-my-preds/model_fold_4.pt\n",
      "../input/model-256x256-bce-0935-preds/model_fold_0.pt\n",
      "../input/model-256x256-bce-0935-preds/model_fold_1.pt\n",
      "../input/model-256x256-bce-0935-preds/model_fold_2.pt\n",
      "../input/model-256x256-bce-0935-preds/model_fold_3.pt\n",
      "../input/model-256x256-bce-0935-preds/model_fold_4.pt\n",
      "Threshold:  0.4466666666666667\n"
     ]
    },
    {
     "data": {
      "application/vnd.jupyter.widget-view+json": {
       "model_id": "9323aed1ac384c90b61911430b405f1e",
       "version_major": 2,
       "version_minor": 0
      },
      "text/plain": [
       "  0%|          | 0/5 [00:00<?, ?it/s]"
      ]
     },
     "metadata": {},
     "output_type": "display_data"
    }
   ],
   "source": [
    "names, preds = test_loop(MODELS, MODELS_1, MODELS_2)"
   ]
  },
  {
   "cell_type": "code",
   "execution_count": 12,
   "metadata": {
    "execution": {
     "iopub.execute_input": "2021-05-10T12:21:31.356225Z",
     "iopub.status.busy": "2021-05-10T12:21:31.355635Z",
     "iopub.status.idle": "2021-05-10T12:21:31.826716Z",
     "shell.execute_reply": "2021-05-10T12:21:31.827415Z"
    },
    "papermill": {
     "duration": 0.492989,
     "end_time": "2021-05-10T12:21:31.827629",
     "exception": false,
     "start_time": "2021-05-10T12:21:31.334640",
     "status": "completed"
    },
    "tags": []
   },
   "outputs": [],
   "source": [
    "df = pd.DataFrame({'id':names,'predicted':preds})\n",
    "df.to_csv('submission.csv',index=False)"
   ]
  }
 ],
 "metadata": {
  "kernelspec": {
   "display_name": "Python 3",
   "language": "python",
   "name": "python3"
  },
  "language_info": {
   "codemirror_mode": {
    "name": "ipython",
    "version": 3
   },
   "file_extension": ".py",
   "mimetype": "text/x-python",
   "name": "python",
   "nbconvert_exporter": "python",
   "pygments_lexer": "ipython3",
   "version": "3.6.5"
  },
  "papermill": {
   "default_parameters": {},
   "duration": 1810.288668,
   "end_time": "2021-05-10T12:21:34.351636",
   "environment_variables": {},
   "exception": null,
   "input_path": "__notebook__.ipynb",
   "output_path": "__notebook__.ipynb",
   "parameters": {},
   "start_time": "2021-05-10T11:51:24.062968",
   "version": "2.2.2"
  },
  "widgets": {
   "application/vnd.jupyter.widget-state+json": {
    "state": {
     "1e3b76731fed43da9034e404ba3b5daf": {
      "model_module": "@jupyter-widgets/controls",
      "model_module_version": "1.5.0",
      "model_name": "FloatProgressModel",
      "state": {
       "_dom_classes": [],
       "_model_module": "@jupyter-widgets/controls",
       "_model_module_version": "1.5.0",
       "_model_name": "FloatProgressModel",
       "_view_count": null,
       "_view_module": "@jupyter-widgets/controls",
       "_view_module_version": "1.5.0",
       "_view_name": "ProgressView",
       "bar_style": "success",
       "description": "",
       "description_tooltip": null,
       "layout": "IPY_MODEL_52893b10cf534f8d92d99b0fbba05ed3",
       "max": 5,
       "min": 0,
       "orientation": "horizontal",
       "style": "IPY_MODEL_f9477824e3a841559da79e4038ea4868",
       "value": 5
      }
     },
     "2fdcddc8957346fbb63a7e6db4c3902d": {
      "model_module": "@jupyter-widgets/base",
      "model_module_version": "1.2.0",
      "model_name": "LayoutModel",
      "state": {
       "_model_module": "@jupyter-widgets/base",
       "_model_module_version": "1.2.0",
       "_model_name": "LayoutModel",
       "_view_count": null,
       "_view_module": "@jupyter-widgets/base",
       "_view_module_version": "1.2.0",
       "_view_name": "LayoutView",
       "align_content": null,
       "align_items": null,
       "align_self": null,
       "border": null,
       "bottom": null,
       "display": null,
       "flex": null,
       "flex_flow": null,
       "grid_area": null,
       "grid_auto_columns": null,
       "grid_auto_flow": null,
       "grid_auto_rows": null,
       "grid_column": null,
       "grid_gap": null,
       "grid_row": null,
       "grid_template_areas": null,
       "grid_template_columns": null,
       "grid_template_rows": null,
       "height": null,
       "justify_content": null,
       "justify_items": null,
       "left": null,
       "margin": null,
       "max_height": null,
       "max_width": null,
       "min_height": null,
       "min_width": null,
       "object_fit": null,
       "object_position": null,
       "order": null,
       "overflow": null,
       "overflow_x": null,
       "overflow_y": null,
       "padding": null,
       "right": null,
       "top": null,
       "visibility": null,
       "width": null
      }
     },
     "3a401b022f9940b5b421f7756701fec4": {
      "model_module": "@jupyter-widgets/controls",
      "model_module_version": "1.5.0",
      "model_name": "HTMLModel",
      "state": {
       "_dom_classes": [],
       "_model_module": "@jupyter-widgets/controls",
       "_model_module_version": "1.5.0",
       "_model_name": "HTMLModel",
       "_view_count": null,
       "_view_module": "@jupyter-widgets/controls",
       "_view_module_version": "1.5.0",
       "_view_name": "HTMLView",
       "description": "",
       "description_tooltip": null,
       "layout": "IPY_MODEL_cdad276b0a334019ad9f44f99ffd3453",
       "placeholder": "​",
       "style": "IPY_MODEL_8e93d6a166e44184aa708b8243939c83",
       "value": "100%"
      }
     },
     "52893b10cf534f8d92d99b0fbba05ed3": {
      "model_module": "@jupyter-widgets/base",
      "model_module_version": "1.2.0",
      "model_name": "LayoutModel",
      "state": {
       "_model_module": "@jupyter-widgets/base",
       "_model_module_version": "1.2.0",
       "_model_name": "LayoutModel",
       "_view_count": null,
       "_view_module": "@jupyter-widgets/base",
       "_view_module_version": "1.2.0",
       "_view_name": "LayoutView",
       "align_content": null,
       "align_items": null,
       "align_self": null,
       "border": null,
       "bottom": null,
       "display": null,
       "flex": null,
       "flex_flow": null,
       "grid_area": null,
       "grid_auto_columns": null,
       "grid_auto_flow": null,
       "grid_auto_rows": null,
       "grid_column": null,
       "grid_gap": null,
       "grid_row": null,
       "grid_template_areas": null,
       "grid_template_columns": null,
       "grid_template_rows": null,
       "height": null,
       "justify_content": null,
       "justify_items": null,
       "left": null,
       "margin": null,
       "max_height": null,
       "max_width": null,
       "min_height": null,
       "min_width": null,
       "object_fit": null,
       "object_position": null,
       "order": null,
       "overflow": null,
       "overflow_x": null,
       "overflow_y": null,
       "padding": null,
       "right": null,
       "top": null,
       "visibility": null,
       "width": null
      }
     },
     "8e93d6a166e44184aa708b8243939c83": {
      "model_module": "@jupyter-widgets/controls",
      "model_module_version": "1.5.0",
      "model_name": "DescriptionStyleModel",
      "state": {
       "_model_module": "@jupyter-widgets/controls",
       "_model_module_version": "1.5.0",
       "_model_name": "DescriptionStyleModel",
       "_view_count": null,
       "_view_module": "@jupyter-widgets/base",
       "_view_module_version": "1.2.0",
       "_view_name": "StyleView",
       "description_width": ""
      }
     },
     "9323aed1ac384c90b61911430b405f1e": {
      "model_module": "@jupyter-widgets/controls",
      "model_module_version": "1.5.0",
      "model_name": "HBoxModel",
      "state": {
       "_dom_classes": [],
       "_model_module": "@jupyter-widgets/controls",
       "_model_module_version": "1.5.0",
       "_model_name": "HBoxModel",
       "_view_count": null,
       "_view_module": "@jupyter-widgets/controls",
       "_view_module_version": "1.5.0",
       "_view_name": "HBoxView",
       "box_style": "",
       "children": [
        "IPY_MODEL_3a401b022f9940b5b421f7756701fec4",
        "IPY_MODEL_1e3b76731fed43da9034e404ba3b5daf",
        "IPY_MODEL_d19f27271f4146ac9b1a0fc808f63d39"
       ],
       "layout": "IPY_MODEL_2fdcddc8957346fbb63a7e6db4c3902d"
      }
     },
     "9aaad0c1d0d84db3becf637ef497c013": {
      "model_module": "@jupyter-widgets/base",
      "model_module_version": "1.2.0",
      "model_name": "LayoutModel",
      "state": {
       "_model_module": "@jupyter-widgets/base",
       "_model_module_version": "1.2.0",
       "_model_name": "LayoutModel",
       "_view_count": null,
       "_view_module": "@jupyter-widgets/base",
       "_view_module_version": "1.2.0",
       "_view_name": "LayoutView",
       "align_content": null,
       "align_items": null,
       "align_self": null,
       "border": null,
       "bottom": null,
       "display": null,
       "flex": null,
       "flex_flow": null,
       "grid_area": null,
       "grid_auto_columns": null,
       "grid_auto_flow": null,
       "grid_auto_rows": null,
       "grid_column": null,
       "grid_gap": null,
       "grid_row": null,
       "grid_template_areas": null,
       "grid_template_columns": null,
       "grid_template_rows": null,
       "height": null,
       "justify_content": null,
       "justify_items": null,
       "left": null,
       "margin": null,
       "max_height": null,
       "max_width": null,
       "min_height": null,
       "min_width": null,
       "object_fit": null,
       "object_position": null,
       "order": null,
       "overflow": null,
       "overflow_x": null,
       "overflow_y": null,
       "padding": null,
       "right": null,
       "top": null,
       "visibility": null,
       "width": null
      }
     },
     "cdad276b0a334019ad9f44f99ffd3453": {
      "model_module": "@jupyter-widgets/base",
      "model_module_version": "1.2.0",
      "model_name": "LayoutModel",
      "state": {
       "_model_module": "@jupyter-widgets/base",
       "_model_module_version": "1.2.0",
       "_model_name": "LayoutModel",
       "_view_count": null,
       "_view_module": "@jupyter-widgets/base",
       "_view_module_version": "1.2.0",
       "_view_name": "LayoutView",
       "align_content": null,
       "align_items": null,
       "align_self": null,
       "border": null,
       "bottom": null,
       "display": null,
       "flex": null,
       "flex_flow": null,
       "grid_area": null,
       "grid_auto_columns": null,
       "grid_auto_flow": null,
       "grid_auto_rows": null,
       "grid_column": null,
       "grid_gap": null,
       "grid_row": null,
       "grid_template_areas": null,
       "grid_template_columns": null,
       "grid_template_rows": null,
       "height": null,
       "justify_content": null,
       "justify_items": null,
       "left": null,
       "margin": null,
       "max_height": null,
       "max_width": null,
       "min_height": null,
       "min_width": null,
       "object_fit": null,
       "object_position": null,
       "order": null,
       "overflow": null,
       "overflow_x": null,
       "overflow_y": null,
       "padding": null,
       "right": null,
       "top": null,
       "visibility": null,
       "width": null
      }
     },
     "d19f27271f4146ac9b1a0fc808f63d39": {
      "model_module": "@jupyter-widgets/controls",
      "model_module_version": "1.5.0",
      "model_name": "HTMLModel",
      "state": {
       "_dom_classes": [],
       "_model_module": "@jupyter-widgets/controls",
       "_model_module_version": "1.5.0",
       "_model_name": "HTMLModel",
       "_view_count": null,
       "_view_module": "@jupyter-widgets/controls",
       "_view_module_version": "1.5.0",
       "_view_name": "HTMLView",
       "description": "",
       "description_tooltip": null,
       "layout": "IPY_MODEL_9aaad0c1d0d84db3becf637ef497c013",
       "placeholder": "​",
       "style": "IPY_MODEL_d5f614cffc0a44ac931a96a3c71ce325",
       "value": " 5/5 [27:34&lt;00:00, 342.12s/it]"
      }
     },
     "d5f614cffc0a44ac931a96a3c71ce325": {
      "model_module": "@jupyter-widgets/controls",
      "model_module_version": "1.5.0",
      "model_name": "DescriptionStyleModel",
      "state": {
       "_model_module": "@jupyter-widgets/controls",
       "_model_module_version": "1.5.0",
       "_model_name": "DescriptionStyleModel",
       "_view_count": null,
       "_view_module": "@jupyter-widgets/base",
       "_view_module_version": "1.2.0",
       "_view_name": "StyleView",
       "description_width": ""
      }
     },
     "f9477824e3a841559da79e4038ea4868": {
      "model_module": "@jupyter-widgets/controls",
      "model_module_version": "1.5.0",
      "model_name": "ProgressStyleModel",
      "state": {
       "_model_module": "@jupyter-widgets/controls",
       "_model_module_version": "1.5.0",
       "_model_name": "ProgressStyleModel",
       "_view_count": null,
       "_view_module": "@jupyter-widgets/base",
       "_view_module_version": "1.2.0",
       "_view_name": "StyleView",
       "bar_color": null,
       "description_width": ""
      }
     }
    },
    "version_major": 2,
    "version_minor": 0
   }
  }
 },
 "nbformat": 4,
 "nbformat_minor": 4
}
