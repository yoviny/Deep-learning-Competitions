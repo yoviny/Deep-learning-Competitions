{
 "cells": [
  {
   "cell_type": "code",
   "execution_count": 1,
   "metadata": {
    "_cell_guid": "b1076dfc-b9ad-4769-8c92-a6c4dae69d19",
    "_uuid": "8f2839f25d086af736a60e9eeb907d3b93b6e0e5",
    "execution": {
     "iopub.execute_input": "2021-05-10T05:30:45.148483Z",
     "iopub.status.busy": "2021-05-10T05:30:45.147754Z",
     "iopub.status.idle": "2021-05-10T05:30:46.883927Z",
     "shell.execute_reply": "2021-05-10T05:30:46.884464Z"
    },
    "papermill": {
     "duration": 1.762658,
     "end_time": "2021-05-10T05:30:46.884677",
     "exception": false,
     "start_time": "2021-05-10T05:30:45.122019",
     "status": "completed"
    },
    "tags": []
   },
   "outputs": [],
   "source": [
    "import os\n",
    "import gc\n",
    "import cv2\n",
    "import rasterio\n",
    "import zipfile\n",
    "import numpy as np\n",
    "import pandas as pd\n",
    "import tifffile as tiff\n",
    "import matplotlib.pyplot as plt\n",
    "from PIL import Image\n",
    "from tqdm.notebook import tqdm\n",
    "from multiprocessing import Pool\n",
    "from rasterio.windows import Window\n",
    "from torch.utils.data import Dataset"
   ]
  },
  {
   "cell_type": "code",
   "execution_count": 2,
   "metadata": {
    "execution": {
     "iopub.execute_input": "2021-05-10T05:30:46.929151Z",
     "iopub.status.busy": "2021-05-10T05:30:46.928356Z",
     "iopub.status.idle": "2021-05-10T05:30:46.932859Z",
     "shell.execute_reply": "2021-05-10T05:30:46.932130Z"
    },
    "papermill": {
     "duration": 0.030508,
     "end_time": "2021-05-10T05:30:46.932980",
     "exception": false,
     "start_time": "2021-05-10T05:30:46.902472",
     "status": "completed"
    },
    "tags": []
   },
   "outputs": [],
   "source": [
    "sz = 256   #the size of tiles\n",
    "reduce = 4 #reduce the original images by 4 times \n",
    "MASKS = '../input/hubmap-kidney-segmentation/train.csv'\n",
    "\n",
    "#TEST_MASK = '../input/hubmap-best-preds/hubmap_best_submission.csv'\n",
    "#TEST_MASK = '../input/hubmap-0935-preds/hubmap_0.935_sub.csv'\n",
    "TEST_MASK = '../input/256-bce-0931-my-preds-5-fold/5_fold_my_preds_0931.csv'\n",
    "\n",
    "DATA = '../input/hubmap-kidney-segmentation/train/'\n",
    "TEST_DATA = '../input/hubmap-kidney-segmentation/test/'\n",
    "\n",
    "save_img_dir = \"/kaggle/train_images/\"\n",
    "save_mask_dir = \"/kaggle/train_masks/\"\n",
    "os.makedirs(save_img_dir, exist_ok=True)\n",
    "os.makedirs(save_mask_dir, exist_ok=True)"
   ]
  },
  {
   "cell_type": "code",
   "execution_count": 3,
   "metadata": {
    "execution": {
     "iopub.execute_input": "2021-05-10T05:30:46.978525Z",
     "iopub.status.busy": "2021-05-10T05:30:46.977850Z",
     "iopub.status.idle": "2021-05-10T05:30:47.489333Z",
     "shell.execute_reply": "2021-05-10T05:30:47.488544Z"
    },
    "papermill": {
     "duration": 0.537966,
     "end_time": "2021-05-10T05:30:47.489452",
     "exception": false,
     "start_time": "2021-05-10T05:30:46.951486",
     "status": "completed"
    },
    "tags": []
   },
   "outputs": [
    {
     "data": {
      "text/html": [
       "<div>\n",
       "<style scoped>\n",
       "    .dataframe tbody tr th:only-of-type {\n",
       "        vertical-align: middle;\n",
       "    }\n",
       "\n",
       "    .dataframe tbody tr th {\n",
       "        vertical-align: top;\n",
       "    }\n",
       "\n",
       "    .dataframe thead th {\n",
       "        text-align: right;\n",
       "    }\n",
       "</style>\n",
       "<table border=\"1\" class=\"dataframe\">\n",
       "  <thead>\n",
       "    <tr style=\"text-align: right;\">\n",
       "      <th></th>\n",
       "      <th>encoding</th>\n",
       "    </tr>\n",
       "    <tr>\n",
       "      <th>id</th>\n",
       "      <th></th>\n",
       "    </tr>\n",
       "  </thead>\n",
       "  <tbody>\n",
       "    <tr>\n",
       "      <th>2f6ecfcdf</th>\n",
       "      <td>296084587 4 296115835 6 296115859 14 296147109...</td>\n",
       "    </tr>\n",
       "    <tr>\n",
       "      <th>8242609fa</th>\n",
       "      <td>96909968 56 96941265 60 96972563 64 97003861 6...</td>\n",
       "    </tr>\n",
       "    <tr>\n",
       "      <th>aaa6a05cc</th>\n",
       "      <td>30989109 59 31007591 64 31026074 68 31044556 7...</td>\n",
       "    </tr>\n",
       "    <tr>\n",
       "      <th>cb2d976f4</th>\n",
       "      <td>78144363 5 78179297 15 78214231 25 78249165 35...</td>\n",
       "    </tr>\n",
       "    <tr>\n",
       "      <th>b9a3865fc</th>\n",
       "      <td>61271840 4 61303134 13 61334428 22 61365722 30...</td>\n",
       "    </tr>\n",
       "  </tbody>\n",
       "</table>\n",
       "</div>"
      ],
      "text/plain": [
       "                                                    encoding\n",
       "id                                                          \n",
       "2f6ecfcdf  296084587 4 296115835 6 296115859 14 296147109...\n",
       "8242609fa  96909968 56 96941265 60 96972563 64 97003861 6...\n",
       "aaa6a05cc  30989109 59 31007591 64 31026074 68 31044556 7...\n",
       "cb2d976f4  78144363 5 78179297 15 78214231 25 78249165 35...\n",
       "b9a3865fc  61271840 4 61303134 13 61334428 22 61365722 30..."
      ]
     },
     "execution_count": 3,
     "metadata": {},
     "output_type": "execute_result"
    }
   ],
   "source": [
    "df_masks = pd.read_csv(MASKS).set_index('id')\n",
    "df_masks.head()"
   ]
  },
  {
   "cell_type": "code",
   "execution_count": 4,
   "metadata": {
    "execution": {
     "iopub.execute_input": "2021-05-10T05:30:47.535972Z",
     "iopub.status.busy": "2021-05-10T05:30:47.535123Z",
     "iopub.status.idle": "2021-05-10T05:30:47.539973Z",
     "shell.execute_reply": "2021-05-10T05:30:47.539283Z"
    },
    "papermill": {
     "duration": 0.031346,
     "end_time": "2021-05-10T05:30:47.540107",
     "exception": false,
     "start_time": "2021-05-10T05:30:47.508761",
     "status": "completed"
    },
    "tags": []
   },
   "outputs": [
    {
     "name": "stdout",
     "output_type": "stream",
     "text": [
      "Number of train images: 15\n"
     ]
    }
   ],
   "source": [
    "print(f\"Number of train images: {df_masks.shape[0]}\")"
   ]
  },
  {
   "cell_type": "code",
   "execution_count": 5,
   "metadata": {
    "execution": {
     "iopub.execute_input": "2021-05-10T05:30:47.628794Z",
     "iopub.status.busy": "2021-05-10T05:30:47.627855Z",
     "iopub.status.idle": "2021-05-10T05:30:47.633349Z",
     "shell.execute_reply": "2021-05-10T05:30:47.632368Z"
    },
    "papermill": {
     "duration": 0.073142,
     "end_time": "2021-05-10T05:30:47.633477",
     "exception": false,
     "start_time": "2021-05-10T05:30:47.560335",
     "status": "completed"
    },
    "tags": []
   },
   "outputs": [
    {
     "data": {
      "text/html": [
       "<div>\n",
       "<style scoped>\n",
       "    .dataframe tbody tr th:only-of-type {\n",
       "        vertical-align: middle;\n",
       "    }\n",
       "\n",
       "    .dataframe tbody tr th {\n",
       "        vertical-align: top;\n",
       "    }\n",
       "\n",
       "    .dataframe thead th {\n",
       "        text-align: right;\n",
       "    }\n",
       "</style>\n",
       "<table border=\"1\" class=\"dataframe\">\n",
       "  <thead>\n",
       "    <tr style=\"text-align: right;\">\n",
       "      <th></th>\n",
       "      <th>encoding</th>\n",
       "    </tr>\n",
       "    <tr>\n",
       "      <th>id</th>\n",
       "      <th></th>\n",
       "    </tr>\n",
       "  </thead>\n",
       "  <tbody>\n",
       "    <tr>\n",
       "      <th>2f6ecfcdf</th>\n",
       "      <td>296084587 4 296115835 6 296115859 14 296147109...</td>\n",
       "    </tr>\n",
       "    <tr>\n",
       "      <th>8242609fa</th>\n",
       "      <td>96909968 56 96941265 60 96972563 64 97003861 6...</td>\n",
       "    </tr>\n",
       "    <tr>\n",
       "      <th>aaa6a05cc</th>\n",
       "      <td>30989109 59 31007591 64 31026074 68 31044556 7...</td>\n",
       "    </tr>\n",
       "    <tr>\n",
       "      <th>cb2d976f4</th>\n",
       "      <td>78144363 5 78179297 15 78214231 25 78249165 35...</td>\n",
       "    </tr>\n",
       "    <tr>\n",
       "      <th>b9a3865fc</th>\n",
       "      <td>61271840 4 61303134 13 61334428 22 61365722 30...</td>\n",
       "    </tr>\n",
       "  </tbody>\n",
       "</table>\n",
       "</div>"
      ],
      "text/plain": [
       "                                                    encoding\n",
       "id                                                          \n",
       "2f6ecfcdf  296084587 4 296115835 6 296115859 14 296147109...\n",
       "8242609fa  96909968 56 96941265 60 96972563 64 97003861 6...\n",
       "aaa6a05cc  30989109 59 31007591 64 31026074 68 31044556 7...\n",
       "cb2d976f4  78144363 5 78179297 15 78214231 25 78249165 35...\n",
       "b9a3865fc  61271840 4 61303134 13 61334428 22 61365722 30..."
      ]
     },
     "execution_count": 5,
     "metadata": {},
     "output_type": "execute_result"
    }
   ],
   "source": [
    "df_masks.head()"
   ]
  },
  {
   "cell_type": "code",
   "execution_count": 6,
   "metadata": {
    "execution": {
     "iopub.execute_input": "2021-05-10T05:30:47.686018Z",
     "iopub.status.busy": "2021-05-10T05:30:47.685240Z",
     "iopub.status.idle": "2021-05-10T05:30:47.861629Z",
     "shell.execute_reply": "2021-05-10T05:30:47.862286Z"
    },
    "papermill": {
     "duration": 0.208685,
     "end_time": "2021-05-10T05:30:47.862468",
     "exception": false,
     "start_time": "2021-05-10T05:30:47.653783",
     "status": "completed"
    },
    "tags": []
   },
   "outputs": [
    {
     "name": "stdout",
     "output_type": "stream",
     "text": [
      "Number of test images: 5\n"
     ]
    },
    {
     "data": {
      "text/html": [
       "<div>\n",
       "<style scoped>\n",
       "    .dataframe tbody tr th:only-of-type {\n",
       "        vertical-align: middle;\n",
       "    }\n",
       "\n",
       "    .dataframe tbody tr th {\n",
       "        vertical-align: top;\n",
       "    }\n",
       "\n",
       "    .dataframe thead th {\n",
       "        text-align: right;\n",
       "    }\n",
       "</style>\n",
       "<table border=\"1\" class=\"dataframe\">\n",
       "  <thead>\n",
       "    <tr style=\"text-align: right;\">\n",
       "      <th></th>\n",
       "      <th>predicted</th>\n",
       "    </tr>\n",
       "    <tr>\n",
       "      <th>id</th>\n",
       "      <th></th>\n",
       "    </tr>\n",
       "  </thead>\n",
       "  <tbody>\n",
       "    <tr>\n",
       "      <th>2ec3f1bb9</th>\n",
       "      <td>60714325 7 60738299 37 60762282 49 60786267 58...</td>\n",
       "    </tr>\n",
       "    <tr>\n",
       "      <th>3589adb90</th>\n",
       "      <td>68600101 50 68629523 66 68658952 72 68688382 7...</td>\n",
       "    </tr>\n",
       "    <tr>\n",
       "      <th>d488c759a</th>\n",
       "      <td>548342233 15 548388883 36 548435537 49 5484821...</td>\n",
       "    </tr>\n",
       "    <tr>\n",
       "      <th>aa05346ff</th>\n",
       "      <td>52856695 27 52887405 44 52918117 57 52948831 6...</td>\n",
       "    </tr>\n",
       "    <tr>\n",
       "      <th>57512b7f1</th>\n",
       "      <td>281028083 1 281061321 6 281094560 13 281127799...</td>\n",
       "    </tr>\n",
       "  </tbody>\n",
       "</table>\n",
       "</div>"
      ],
      "text/plain": [
       "                                                   predicted\n",
       "id                                                          \n",
       "2ec3f1bb9  60714325 7 60738299 37 60762282 49 60786267 58...\n",
       "3589adb90  68600101 50 68629523 66 68658952 72 68688382 7...\n",
       "d488c759a  548342233 15 548388883 36 548435537 49 5484821...\n",
       "aa05346ff  52856695 27 52887405 44 52918117 57 52948831 6...\n",
       "57512b7f1  281028083 1 281061321 6 281094560 13 281127799..."
      ]
     },
     "execution_count": 6,
     "metadata": {},
     "output_type": "execute_result"
    }
   ],
   "source": [
    "df_test = pd.read_csv(TEST_MASK).set_index('id')\n",
    "print(f\"Number of test images: {df_test.shape[0]}\")\n",
    "df_test.head()"
   ]
  },
  {
   "cell_type": "code",
   "execution_count": 7,
   "metadata": {
    "execution": {
     "iopub.execute_input": "2021-05-10T05:30:47.920706Z",
     "iopub.status.busy": "2021-05-10T05:30:47.916305Z",
     "iopub.status.idle": "2021-05-10T05:30:47.924291Z",
     "shell.execute_reply": "2021-05-10T05:30:47.923514Z"
    },
    "papermill": {
     "duration": 0.041017,
     "end_time": "2021-05-10T05:30:47.924414",
     "exception": false,
     "start_time": "2021-05-10T05:30:47.883397",
     "status": "completed"
    },
    "tags": []
   },
   "outputs": [],
   "source": [
    "#functions to convert encoding to mask and mask to encoding\n",
    "def enc2mask(encs, shape):\n",
    "    img = np.zeros(shape[0]*shape[1], dtype=np.uint8)\n",
    "    for m,enc in enumerate(encs):\n",
    "        if isinstance(enc,np.float) and np.isnan(enc): continue\n",
    "        s = enc.split()\n",
    "        for i in range(len(s)//2):\n",
    "            start = int(s[2*i]) - 1\n",
    "            length = int(s[2*i+1])\n",
    "            img[start:start+length] = 1 + m\n",
    "    return img.reshape(shape).T\n",
    "\n",
    "def mask2enc(mask, shape, n=1):\n",
    "    pixels = mask.T.flatten()\n",
    "    encs = []\n",
    "    for i in range(1,n+1):\n",
    "        p = (pixels == i).astype(np.int8)\n",
    "        if p.sum() == 0: encs.append(np.nan)\n",
    "        else:\n",
    "            p = np.concatenate([[0], p, [0]])\n",
    "            runs = np.where(p[1:] != p[:-1])[0] + 1\n",
    "            runs[1::2] -= runs[::2]\n",
    "            encs.append(' '.join(str(x) for x in runs))\n",
    "    return encs\n"
   ]
  },
  {
   "cell_type": "code",
   "execution_count": 10,
   "metadata": {
    "execution": {
     "iopub.execute_input": "2021-05-10T05:30:48.090743Z",
     "iopub.status.busy": "2021-05-10T05:30:48.089980Z",
     "iopub.status.idle": "2021-05-10T05:30:48.109172Z",
     "shell.execute_reply": "2021-05-10T05:30:48.108587Z"
    },
    "papermill": {
     "duration": 0.059884,
     "end_time": "2021-05-10T05:30:48.109300",
     "exception": false,
     "start_time": "2021-05-10T05:30:48.049416",
     "status": "completed"
    },
    "tags": []
   },
   "outputs": [],
   "source": [
    "#https://www.kaggle.com/iafoss/256x256-images\n",
    "\n",
    "s_th = 40  #saturation blancking threshold\n",
    "p_th = 1000*(sz//256)**2 #threshold for the minimum number of pixels\n",
    "\n",
    "class KidneyDataset(Dataset):\n",
    "    def __init__(self, idx, reduce=reduce, encs=None, folder=DATA):\n",
    "        self.data = rasterio.open(os.path.join(folder,idx+'.tiff'),num_threads='all_cpus')\n",
    "        \n",
    "        if self.data.count != 3:\n",
    "            subdatasets = self.data.subdatasets\n",
    "            self.layers = []\n",
    "            if len(subdatasets) > 0:\n",
    "                for i, subdataset in enumerate(subdatasets, 0):\n",
    "                    self.layers.append(rasterio.open(subdataset))\n",
    "        self.shape = self.data.shape\n",
    "        self.reduce = reduce\n",
    "        self.sz = reduce*sz\n",
    "        self.pad0 = (self.sz - self.shape[0]%self.sz)%self.sz\n",
    "        self.pad1 = (self.sz - self.shape[1]%self.sz)%self.sz\n",
    "        self.n0max = (self.shape[0] + self.pad0)//self.sz\n",
    "        self.n1max = (self.shape[1] + self.pad1)//self.sz\n",
    "        self.mask = enc2mask(encs,(self.shape[1],self.shape[0])) if encs is not None else None\n",
    "        \n",
    "    def __len__(self):\n",
    "        return self.n0max*self.n1max\n",
    "    \n",
    "    def __getitem__(self, idx):\n",
    "        # the code below may be a little bit difficult to understand,\n",
    "        # but the thing it does is mapping the original image to\n",
    "        # tiles created with adding padding (like in the previous version of the kernel)\n",
    "        # then the tiles are loaded with rasterio\n",
    "        # n0,n1 - are the x and y index of the tile (idx = n0*self.n1max + n1)\n",
    "        n0,n1 = idx//self.n1max, idx%self.n1max\n",
    "        # x0,y0 - are the coordinates of the lower left corner of the tile in the image\n",
    "        # negative numbers correspond to padding (which must not be loaded)\n",
    "        x0,y0 = -self.pad0//2 + n0*self.sz, -self.pad1//2 + n1*self.sz\n",
    "\n",
    "        # make sure that the region to read is within the image\n",
    "        p00,p01 = max(0,x0), min(x0+self.sz,self.shape[0])\n",
    "        p10,p11 = max(0,y0), min(y0+self.sz,self.shape[1])\n",
    "        img = np.zeros((self.sz,self.sz,3),np.uint8)\n",
    "        mask = np.zeros((self.sz,self.sz),np.uint8)\n",
    "        # mapping the loade region to the tile\n",
    "        if self.data.count == 3:\n",
    "            img[(p00-x0):(p01-x0),(p10-y0):(p11-y0)] = np.moveaxis(self.data.read([1,2,3],\n",
    "                window=Window.from_slices((p00,p01),(p10,p11))), 0, -1)\n",
    "        else:\n",
    "            for i,layer in enumerate(self.layers):\n",
    "                img[(p00-x0):(p01-x0),(p10-y0):(p11-y0),i] =\\\n",
    "                  layer.read(1,window=Window.from_slices((p00,p01),(p10,p11)))\n",
    "        if self.mask is not None: mask[(p00-x0):(p01-x0),(p10-y0):(p11-y0)] = self.mask[p00:p01,p10:p11]\n",
    "        \n",
    "        if self.reduce != 1:\n",
    "            img = cv2.resize(img,(self.sz//reduce,self.sz//reduce),\n",
    "                             interpolation = cv2.INTER_AREA)\n",
    "            mask = cv2.resize(mask,(self.sz//reduce,self.sz//reduce),\n",
    "                             interpolation = cv2.INTER_NEAREST)\n",
    "        else:\n",
    "            img = cv2.resize(img,(self.sz,self.sz),\n",
    "                             interpolation = cv2.INTER_AREA)\n",
    "            mask = cv2.resize(mask,(self.sz,self.sz),\n",
    "                             interpolation = cv2.INTER_NEAREST)\n",
    "            \n",
    "        #check for empty imges\n",
    "        hsv = cv2.cvtColor(img, cv2.COLOR_BGR2HSV)\n",
    "        h,s,v = cv2.split(hsv)\n",
    "        #return -1 for empty images\n",
    "        return img, mask, (-1 if (s>s_th).sum() <= p_th or img.sum() <= p_th else idx)"
   ]
  },
  {
   "cell_type": "code",
   "execution_count": 12,
   "metadata": {
    "execution": {
     "iopub.execute_input": "2021-05-10T05:30:48.216400Z",
     "iopub.status.busy": "2021-05-10T05:30:48.215669Z",
     "iopub.status.idle": "2021-05-10T05:44:24.425823Z",
     "shell.execute_reply": "2021-05-10T05:44:24.420280Z"
    },
    "papermill": {
     "duration": 816.241159,
     "end_time": "2021-05-10T05:44:24.426133",
     "exception": false,
     "start_time": "2021-05-10T05:30:48.184974",
     "status": "completed"
    },
    "tags": []
   },
   "outputs": [
    {
     "data": {
      "application/vnd.jupyter.widget-view+json": {
       "model_id": "31f1dcda554c4fc391da691399444775",
       "version_major": 2,
       "version_minor": 0
      },
      "text/plain": [
       "HBox(children=(FloatProgress(value=0.0, max=15.0), HTML(value='')))"
      ]
     },
     "metadata": {},
     "output_type": "display_data"
    },
    {
     "name": "stderr",
     "output_type": "stream",
     "text": [
      "/opt/conda/lib/python3.7/site-packages/rasterio/__init__.py:221: NotGeoreferencedWarning: Dataset has no geotransform set. The identity matrix may be returned.\n",
      "  s = DatasetReader(path, driver=driver, sharing=sharing, **kwargs)\n"
     ]
    },
    {
     "name": "stdout",
     "output_type": "stream",
     "text": [
      "\n"
     ]
    }
   ],
   "source": [
    "for image_id, encs in tqdm(df_masks.iterrows(),total=len(df_masks)):\n",
    "    ds = KidneyDataset(image_id, encs=encs, folder=DATA)\n",
    "    for i in range(len(ds)):\n",
    "        im,m,idx = ds[i]\n",
    "        save_image = save_img_dir + image_id + '_' + str(idx) + '.png'\n",
    "        save_mask = save_mask_dir + image_id + '_' + str(idx) + '_mask' + '.npy'\n",
    "        if idx < 0: continue\n",
    "            \n",
    "        im = cv2.cvtColor(im, cv2.COLOR_RGB2BGR)\n",
    "        cv2.imwrite(save_image, im)\n",
    "        np.save(save_mask, m)"
   ]
  },
  {
   "cell_type": "code",
   "execution_count": 13,
   "metadata": {
    "execution": {
     "iopub.execute_input": "2021-05-10T05:44:24.484712Z",
     "iopub.status.busy": "2021-05-10T05:44:24.484001Z",
     "iopub.status.idle": "2021-05-10T05:48:48.053468Z",
     "shell.execute_reply": "2021-05-10T05:48:48.049965Z"
    },
    "papermill": {
     "duration": 263.601747,
     "end_time": "2021-05-10T05:48:48.053649",
     "exception": false,
     "start_time": "2021-05-10T05:44:24.451902",
     "status": "completed"
    },
    "tags": []
   },
   "outputs": [
    {
     "data": {
      "application/vnd.jupyter.widget-view+json": {
       "model_id": "4bf9f9795daa435d8a740fda99ffd855",
       "version_major": 2,
       "version_minor": 0
      },
      "text/plain": [
       "HBox(children=(FloatProgress(value=0.0, max=5.0), HTML(value='')))"
      ]
     },
     "metadata": {},
     "output_type": "display_data"
    },
    {
     "name": "stdout",
     "output_type": "stream",
     "text": [
      "\n"
     ]
    }
   ],
   "source": [
    "for image_id, encs in tqdm(df_test.iterrows(),total=len(df_test)):\n",
    "    ds = KidneyDataset(image_id, encs=encs, folder=TEST_DATA)\n",
    "    for i in range(len(ds)):\n",
    "        im,m,idx = ds[i]\n",
    "        save_image = save_img_dir + image_id + '_' + str(idx) + '.png'\n",
    "        save_mask = save_mask_dir + image_id + '_' + str(idx) + '_mask' + '.npy'\n",
    "        if idx < 0: continue\n",
    "            \n",
    "        im = cv2.cvtColor(im, cv2.COLOR_RGB2BGR)\n",
    "        cv2.imwrite(save_image, im)\n",
    "        np.save(save_mask, m)"
   ]
  },
  {
   "cell_type": "code",
   "execution_count": 14,
   "metadata": {
    "execution": {
     "iopub.execute_input": "2021-05-10T05:48:48.108185Z",
     "iopub.status.busy": "2021-05-10T05:48:48.107253Z",
     "iopub.status.idle": "2021-05-10T05:48:48.110429Z",
     "shell.execute_reply": "2021-05-10T05:48:48.111001Z"
    },
    "papermill": {
     "duration": 0.0341,
     "end_time": "2021-05-10T05:48:48.111149",
     "exception": false,
     "start_time": "2021-05-10T05:48:48.077049",
     "status": "completed"
    },
    "tags": []
   },
   "outputs": [
    {
     "name": "stdout",
     "output_type": "stream",
     "text": [
      "1419\n"
     ]
    }
   ],
   "source": [
    "print(len(ds))"
   ]
  },
  {
   "cell_type": "code",
   "execution_count": 16,
   "metadata": {
    "execution": {
     "iopub.execute_input": "2021-05-10T05:48:48.343290Z",
     "iopub.status.busy": "2021-05-10T05:48:48.342549Z",
     "iopub.status.idle": "2021-05-10T05:48:48.720385Z",
     "shell.execute_reply": "2021-05-10T05:48:48.721116Z"
    },
    "papermill": {
     "duration": 0.411623,
     "end_time": "2021-05-10T05:48:48.721280",
     "exception": false,
     "start_time": "2021-05-10T05:48:48.309657",
     "status": "completed"
    },
    "tags": []
   },
   "outputs": [
    {
     "name": "stdout",
     "output_type": "stream",
     "text": [
      "(256, 256, 3)\n",
      "(256, 256)\n"
     ]
    },
    {
     "data": {
      "text/plain": [
       "<matplotlib.image.AxesImage at 0x7f9b9e68bc10>"
      ]
     },
     "execution_count": 16,
     "metadata": {},
     "output_type": "execute_result"
    },
    {
     "data": {
      "image/png": "[encoded data removed]",
      "text/plain": [
       "<Figure size 432x288 with 2 Axes>"
      ]
     },
     "metadata": {
      "needs_background": "light"
     },
     "output_type": "display_data"
    }
   ],
   "source": [
    "slice_num = 337\n",
    "\n",
    "image = cv2.imread(f'/kaggle/train_images/d488c759a_{slice_num}.png')\n",
    "print(image.shape)\n",
    "m = np.load(f'/kaggle/train_masks/d488c759a_{slice_num}_mask.npy')\n",
    "print(m.shape)\n",
    "f, axarr = plt.subplots(1,2)\n",
    "axarr[0].imshow(image)\n",
    "axarr[1].imshow(m)"
   ]
  },
  {
   "cell_type": "code",
   "execution_count": 17,
   "metadata": {
    "execution": {
     "iopub.execute_input": "2021-05-10T05:48:48.782710Z",
     "iopub.status.busy": "2021-05-10T05:48:48.781697Z",
     "iopub.status.idle": "2021-05-10T05:48:48.806500Z",
     "shell.execute_reply": "2021-05-10T05:48:48.805953Z"
    },
    "papermill": {
     "duration": 0.057728,
     "end_time": "2021-05-10T05:48:48.806647",
     "exception": false,
     "start_time": "2021-05-10T05:48:48.748919",
     "status": "completed"
    },
    "tags": []
   },
   "outputs": [
    {
     "name": "stdout",
     "output_type": "stream",
     "text": [
      "13137\n",
      "13137\n"
     ]
    }
   ],
   "source": [
    "print(len(os.listdir('/kaggle/train_images/')))\n",
    "print(len(os.listdir('/kaggle/train_masks/')))"
   ]
  },
  {
   "cell_type": "code",
   "execution_count": 18,
   "metadata": {
    "execution": {
     "iopub.execute_input": "2021-05-10T05:48:48.868293Z",
     "iopub.status.busy": "2021-05-10T05:48:48.867603Z",
     "iopub.status.idle": "2021-05-10T05:48:49.869453Z",
     "shell.execute_reply": "2021-05-10T05:48:49.868819Z"
    },
    "papermill": {
     "duration": 1.03493,
     "end_time": "2021-05-10T05:48:49.869595",
     "exception": false,
     "start_time": "2021-05-10T05:48:48.834665",
     "status": "completed"
    },
    "tags": []
   },
   "outputs": [
    {
     "name": "stdout",
     "output_type": "stream",
     "text": [
      "1.7G\t/kaggle/train_images/\n"
     ]
    }
   ],
   "source": [
    "!du -h /kaggle/train_images/"
   ]
  },
  {
   "cell_type": "code",
   "execution_count": 19,
   "metadata": {
    "execution": {
     "iopub.execute_input": "2021-05-10T05:48:49.933868Z",
     "iopub.status.busy": "2021-05-10T05:48:49.933120Z",
     "iopub.status.idle": "2021-05-10T05:48:50.794683Z",
     "shell.execute_reply": "2021-05-10T05:48:50.793831Z"
    },
    "papermill": {
     "duration": 0.895916,
     "end_time": "2021-05-10T05:48:50.794820",
     "exception": false,
     "start_time": "2021-05-10T05:48:49.898904",
     "status": "completed"
    },
    "tags": []
   },
   "outputs": [
    {
     "name": "stdout",
     "output_type": "stream",
     "text": [
      "873M\t/kaggle/train_masks/\n"
     ]
    }
   ],
   "source": [
    "!du -h /kaggle/train_masks/"
   ]
  },
  {
   "cell_type": "code",
   "execution_count": 20,
   "metadata": {
    "execution": {
     "iopub.execute_input": "2021-05-10T05:48:50.859426Z",
     "iopub.status.busy": "2021-05-10T05:48:50.858718Z",
     "iopub.status.idle": "2021-05-10T05:50:14.346397Z",
     "shell.execute_reply": "2021-05-10T05:50:14.347094Z"
    },
    "papermill": {
     "duration": 83.523635,
     "end_time": "2021-05-10T05:50:14.347307",
     "exception": false,
     "start_time": "2021-05-10T05:48:50.823672",
     "status": "completed"
    },
    "tags": []
   },
   "outputs": [
    {
     "name": "stdout",
     "output_type": "stream",
     "text": [
      "tar: Removing leading `/' from member names\n"
     ]
    }
   ],
   "source": [
    "!tar -czf train_images.tar.gz /kaggle/train_images/"
   ]
  },
  {
   "cell_type": "code",
   "execution_count": 21,
   "metadata": {
    "execution": {
     "iopub.execute_input": "2021-05-10T05:50:14.415927Z",
     "iopub.status.busy": "2021-05-10T05:50:14.415076Z",
     "iopub.status.idle": "2021-05-10T05:50:28.900082Z",
     "shell.execute_reply": "2021-05-10T05:50:28.899346Z"
    },
    "papermill": {
     "duration": 14.520432,
     "end_time": "2021-05-10T05:50:28.900212",
     "exception": false,
     "start_time": "2021-05-10T05:50:14.379780",
     "status": "completed"
    },
    "tags": []
   },
   "outputs": [
    {
     "name": "stdout",
     "output_type": "stream",
     "text": [
      "tar: Removing leading `/' from member names\n"
     ]
    }
   ],
   "source": [
    "!tar -czf train_masks.tar.gz /kaggle/train_masks/"
   ]
  }
 ],
 "metadata": {
  "kernelspec": {
   "display_name": "Python 3",
   "language": "python",
   "name": "python3"
  },
  "language_info": {
   "codemirror_mode": {
    "name": "ipython",
    "version": 3
   },
   "file_extension": ".py",
   "mimetype": "text/x-python",
   "name": "python",
   "nbconvert_exporter": "python",
   "pygments_lexer": "ipython3",
   "version": "3.6.5"
  },
  "papermill": {
   "duration": 1189.362235,
   "end_time": "2021-05-10T05:50:29.230954",
   "environment_variables": {},
   "exception": null,
   "input_path": "__notebook__.ipynb",
   "output_path": "__notebook__.ipynb",
   "parameters": {},
   "start_time": "2021-05-10T05:30:39.868719",
   "version": "2.1.0"
  },
  "widgets": {
   "application/vnd.jupyter.widget-state+json": {
    "state": {
     "21609b86705d44e997b31a971c53f0de": {
      "model_module": "@jupyter-widgets/base",
      "model_module_version": "1.2.0",
      "model_name": "LayoutModel",
      "state": {
       "_model_module": "@jupyter-widgets/base",
       "_model_module_version": "1.2.0",
       "_model_name": "LayoutModel",
       "_view_count": null,
       "_view_module": "@jupyter-widgets/base",
       "_view_module_version": "1.2.0",
       "_view_name": "LayoutView",
       "align_content": null,
       "align_items": null,
       "align_self": null,
       "border": null,
       "bottom": null,
       "display": null,
       "flex": null,
       "flex_flow": null,
       "grid_area": null,
       "grid_auto_columns": null,
       "grid_auto_flow": null,
       "grid_auto_rows": null,
       "grid_column": null,
       "grid_gap": null,
       "grid_row": null,
       "grid_template_areas": null,
       "grid_template_columns": null,
       "grid_template_rows": null,
       "height": null,
       "justify_content": null,
       "justify_items": null,
       "left": null,
       "margin": null,
       "max_height": null,
       "max_width": null,
       "min_height": null,
       "min_width": null,
       "object_fit": null,
       "object_position": null,
       "order": null,
       "overflow": null,
       "overflow_x": null,
       "overflow_y": null,
       "padding": null,
       "right": null,
       "top": null,
       "visibility": null,
       "width": null
      }
     },
     "31f1dcda554c4fc391da691399444775": {
      "model_module": "@jupyter-widgets/controls",
      "model_module_version": "1.5.0",
      "model_name": "HBoxModel",
      "state": {
       "_dom_classes": [],
       "_model_module": "@jupyter-widgets/controls",
       "_model_module_version": "1.5.0",
       "_model_name": "HBoxModel",
       "_view_count": null,
       "_view_module": "@jupyter-widgets/controls",
       "_view_module_version": "1.5.0",
       "_view_name": "HBoxView",
       "box_style": "",
       "children": [
        "IPY_MODEL_567343984b3345c195be09e2e7ffb742",
        "IPY_MODEL_455b59caa1ae480c9453728f01d42f99"
       ],
       "layout": "IPY_MODEL_36c526515b974ac48e7b4563400a5f67"
      }
     },
     "36c526515b974ac48e7b4563400a5f67": {
      "model_module": "@jupyter-widgets/base",
      "model_module_version": "1.2.0",
      "model_name": "LayoutModel",
      "state": {
       "_model_module": "@jupyter-widgets/base",
       "_model_module_version": "1.2.0",
       "_model_name": "LayoutModel",
       "_view_count": null,
       "_view_module": "@jupyter-widgets/base",
       "_view_module_version": "1.2.0",
       "_view_name": "LayoutView",
       "align_content": null,
       "align_items": null,
       "align_self": null,
       "border": null,
       "bottom": null,
       "display": null,
       "flex": null,
       "flex_flow": null,
       "grid_area": null,
       "grid_auto_columns": null,
       "grid_auto_flow": null,
       "grid_auto_rows": null,
       "grid_column": null,
       "grid_gap": null,
       "grid_row": null,
       "grid_template_areas": null,
       "grid_template_columns": null,
       "grid_template_rows": null,
       "height": null,
       "justify_content": null,
       "justify_items": null,
       "left": null,
       "margin": null,
       "max_height": null,
       "max_width": null,
       "min_height": null,
       "min_width": null,
       "object_fit": null,
       "object_position": null,
       "order": null,
       "overflow": null,
       "overflow_x": null,
       "overflow_y": null,
       "padding": null,
       "right": null,
       "top": null,
       "visibility": null,
       "width": null
      }
     },
     "455b59caa1ae480c9453728f01d42f99": {
      "model_module": "@jupyter-widgets/controls",
      "model_module_version": "1.5.0",
      "model_name": "HTMLModel",
      "state": {
       "_dom_classes": [],
       "_model_module": "@jupyter-widgets/controls",
       "_model_module_version": "1.5.0",
       "_model_name": "HTMLModel",
       "_view_count": null,
       "_view_module": "@jupyter-widgets/controls",
       "_view_module_version": "1.5.0",
       "_view_name": "HTMLView",
       "description": "",
       "description_tooltip": null,
       "layout": "IPY_MODEL_c6a1728113e5432f91f05dd1cf88b189",
       "placeholder": "​",
       "style": "IPY_MODEL_88d21a5799cc4aa69b6d5d2398bde66d",
       "value": " 15/15 [13:36&lt;00:00, 54.41s/it]"
      }
     },
     "4944568f07144a17bdb5309b6ec4ae28": {
      "model_module": "@jupyter-widgets/base",
      "model_module_version": "1.2.0",
      "model_name": "LayoutModel",
      "state": {
       "_model_module": "@jupyter-widgets/base",
       "_model_module_version": "1.2.0",
       "_model_name": "LayoutModel",
       "_view_count": null,
       "_view_module": "@jupyter-widgets/base",
       "_view_module_version": "1.2.0",
       "_view_name": "LayoutView",
       "align_content": null,
       "align_items": null,
       "align_self": null,
       "border": null,
       "bottom": null,
       "display": null,
       "flex": null,
       "flex_flow": null,
       "grid_area": null,
       "grid_auto_columns": null,
       "grid_auto_flow": null,
       "grid_auto_rows": null,
       "grid_column": null,
       "grid_gap": null,
       "grid_row": null,
       "grid_template_areas": null,
       "grid_template_columns": null,
       "grid_template_rows": null,
       "height": null,
       "justify_content": null,
       "justify_items": null,
       "left": null,
       "margin": null,
       "max_height": null,
       "max_width": null,
       "min_height": null,
       "min_width": null,
       "object_fit": null,
       "object_position": null,
       "order": null,
       "overflow": null,
       "overflow_x": null,
       "overflow_y": null,
       "padding": null,
       "right": null,
       "top": null,
       "visibility": null,
       "width": null
      }
     },
     "4bf9f9795daa435d8a740fda99ffd855": {
      "model_module": "@jupyter-widgets/controls",
      "model_module_version": "1.5.0",
      "model_name": "HBoxModel",
      "state": {
       "_dom_classes": [],
       "_model_module": "@jupyter-widgets/controls",
       "_model_module_version": "1.5.0",
       "_model_name": "HBoxModel",
       "_view_count": null,
       "_view_module": "@jupyter-widgets/controls",
       "_view_module_version": "1.5.0",
       "_view_name": "HBoxView",
       "box_style": "",
       "children": [
        "IPY_MODEL_bf293a51604c4687bc89c53a1a417a0f",
        "IPY_MODEL_bb82aee7e0fc41578722c7a7d40e30bf"
       ],
       "layout": "IPY_MODEL_21609b86705d44e997b31a971c53f0de"
      }
     },
     "567343984b3345c195be09e2e7ffb742": {
      "model_module": "@jupyter-widgets/controls",
      "model_module_version": "1.5.0",
      "model_name": "FloatProgressModel",
      "state": {
       "_dom_classes": [],
       "_model_module": "@jupyter-widgets/controls",
       "_model_module_version": "1.5.0",
       "_model_name": "FloatProgressModel",
       "_view_count": null,
       "_view_module": "@jupyter-widgets/controls",
       "_view_module_version": "1.5.0",
       "_view_name": "ProgressView",
       "bar_style": "success",
       "description": "100%",
       "description_tooltip": null,
       "layout": "IPY_MODEL_e4e03ae254614dd487f5ce14aad66f18",
       "max": 15,
       "min": 0,
       "orientation": "horizontal",
       "style": "IPY_MODEL_e6eac0c080154cd2b91aca2b51e63c0e",
       "value": 15
      }
     },
     "567c1de698ad4f299fb5b9574a727751": {
      "model_module": "@jupyter-widgets/controls",
      "model_module_version": "1.5.0",
      "model_name": "DescriptionStyleModel",
      "state": {
       "_model_module": "@jupyter-widgets/controls",
       "_model_module_version": "1.5.0",
       "_model_name": "DescriptionStyleModel",
       "_view_count": null,
       "_view_module": "@jupyter-widgets/base",
       "_view_module_version": "1.2.0",
       "_view_name": "StyleView",
       "description_width": ""
      }
     },
     "88d21a5799cc4aa69b6d5d2398bde66d": {
      "model_module": "@jupyter-widgets/controls",
      "model_module_version": "1.5.0",
      "model_name": "DescriptionStyleModel",
      "state": {
       "_model_module": "@jupyter-widgets/controls",
       "_model_module_version": "1.5.0",
       "_model_name": "DescriptionStyleModel",
       "_view_count": null,
       "_view_module": "@jupyter-widgets/base",
       "_view_module_version": "1.2.0",
       "_view_name": "StyleView",
       "description_width": ""
      }
     },
     "bb82aee7e0fc41578722c7a7d40e30bf": {
      "model_module": "@jupyter-widgets/controls",
      "model_module_version": "1.5.0",
      "model_name": "HTMLModel",
      "state": {
       "_dom_classes": [],
       "_model_module": "@jupyter-widgets/controls",
       "_model_module_version": "1.5.0",
       "_model_name": "HTMLModel",
       "_view_count": null,
       "_view_module": "@jupyter-widgets/controls",
       "_view_module_version": "1.5.0",
       "_view_name": "HTMLView",
       "description": "",
       "description_tooltip": null,
       "layout": "IPY_MODEL_de11c5c30a8448bab3d77e2198f09bb4",
       "placeholder": "​",
       "style": "IPY_MODEL_567c1de698ad4f299fb5b9574a727751",
       "value": " 5/5 [04:23&lt;00:00, 52.74s/it]"
      }
     },
     "bf293a51604c4687bc89c53a1a417a0f": {
      "model_module": "@jupyter-widgets/controls",
      "model_module_version": "1.5.0",
      "model_name": "FloatProgressModel",
      "state": {
       "_dom_classes": [],
       "_model_module": "@jupyter-widgets/controls",
       "_model_module_version": "1.5.0",
       "_model_name": "FloatProgressModel",
       "_view_count": null,
       "_view_module": "@jupyter-widgets/controls",
       "_view_module_version": "1.5.0",
       "_view_name": "ProgressView",
       "bar_style": "success",
       "description": "100%",
       "description_tooltip": null,
       "layout": "IPY_MODEL_4944568f07144a17bdb5309b6ec4ae28",
       "max": 5,
       "min": 0,
       "orientation": "horizontal",
       "style": "IPY_MODEL_d3f6fc1cc26c459e97152a483a6be627",
       "value": 5
      }
     },
     "c6a1728113e5432f91f05dd1cf88b189": {
      "model_module": "@jupyter-widgets/base",
      "model_module_version": "1.2.0",
      "model_name": "LayoutModel",
      "state": {
       "_model_module": "@jupyter-widgets/base",
       "_model_module_version": "1.2.0",
       "_model_name": "LayoutModel",
       "_view_count": null,
       "_view_module": "@jupyter-widgets/base",
       "_view_module_version": "1.2.0",
       "_view_name": "LayoutView",
       "align_content": null,
       "align_items": null,
       "align_self": null,
       "border": null,
       "bottom": null,
       "display": null,
       "flex": null,
       "flex_flow": null,
       "grid_area": null,
       "grid_auto_columns": null,
       "grid_auto_flow": null,
       "grid_auto_rows": null,
       "grid_column": null,
       "grid_gap": null,
       "grid_row": null,
       "grid_template_areas": null,
       "grid_template_columns": null,
       "grid_template_rows": null,
       "height": null,
       "justify_content": null,
       "justify_items": null,
       "left": null,
       "margin": null,
       "max_height": null,
       "max_width": null,
       "min_height": null,
       "min_width": null,
       "object_fit": null,
       "object_position": null,
       "order": null,
       "overflow": null,
       "overflow_x": null,
       "overflow_y": null,
       "padding": null,
       "right": null,
       "top": null,
       "visibility": null,
       "width": null
      }
     },
     "d3f6fc1cc26c459e97152a483a6be627": {
      "model_module": "@jupyter-widgets/controls",
      "model_module_version": "1.5.0",
      "model_name": "ProgressStyleModel",
      "state": {
       "_model_module": "@jupyter-widgets/controls",
       "_model_module_version": "1.5.0",
       "_model_name": "ProgressStyleModel",
       "_view_count": null,
       "_view_module": "@jupyter-widgets/base",
       "_view_module_version": "1.2.0",
       "_view_name": "StyleView",
       "bar_color": null,
       "description_width": "initial"
      }
     },
     "de11c5c30a8448bab3d77e2198f09bb4": {
      "model_module": "@jupyter-widgets/base",
      "model_module_version": "1.2.0",
      "model_name": "LayoutModel",
      "state": {
       "_model_module": "@jupyter-widgets/base",
       "_model_module_version": "1.2.0",
       "_model_name": "LayoutModel",
       "_view_count": null,
       "_view_module": "@jupyter-widgets/base",
       "_view_module_version": "1.2.0",
       "_view_name": "LayoutView",
       "align_content": null,
       "align_items": null,
       "align_self": null,
       "border": null,
       "bottom": null,
       "display": null,
       "flex": null,
       "flex_flow": null,
       "grid_area": null,
       "grid_auto_columns": null,
       "grid_auto_flow": null,
       "grid_auto_rows": null,
       "grid_column": null,
       "grid_gap": null,
       "grid_row": null,
       "grid_template_areas": null,
       "grid_template_columns": null,
       "grid_template_rows": null,
       "height": null,
       "justify_content": null,
       "justify_items": null,
       "left": null,
       "margin": null,
       "max_height": null,
       "max_width": null,
       "min_height": null,
       "min_width": null,
       "object_fit": null,
       "object_position": null,
       "order": null,
       "overflow": null,
       "overflow_x": null,
       "overflow_y": null,
       "padding": null,
       "right": null,
       "top": null,
       "visibility": null,
       "width": null
      }
     },
     "e4e03ae254614dd487f5ce14aad66f18": {
      "model_module": "@jupyter-widgets/base",
      "model_module_version": "1.2.0",
      "model_name": "LayoutModel",
      "state": {
       "_model_module": "@jupyter-widgets/base",
       "_model_module_version": "1.2.0",
       "_model_name": "LayoutModel",
       "_view_count": null,
       "_view_module": "@jupyter-widgets/base",
       "_view_module_version": "1.2.0",
       "_view_name": "LayoutView",
       "align_content": null,
       "align_items": null,
       "align_self": null,
       "border": null,
       "bottom": null,
       "display": null,
       "flex": null,
       "flex_flow": null,
       "grid_area": null,
       "grid_auto_columns": null,
       "grid_auto_flow": null,
       "grid_auto_rows": null,
       "grid_column": null,
       "grid_gap": null,
       "grid_row": null,
       "grid_template_areas": null,
       "grid_template_columns": null,
       "grid_template_rows": null,
       "height": null,
       "justify_content": null,
       "justify_items": null,
       "left": null,
       "margin": null,
       "max_height": null,
       "max_width": null,
       "min_height": null,
       "min_width": null,
       "object_fit": null,
       "object_position": null,
       "order": null,
       "overflow": null,
       "overflow_x": null,
       "overflow_y": null,
       "padding": null,
       "right": null,
       "top": null,
       "visibility": null,
       "width": null
      }
     },
     "e6eac0c080154cd2b91aca2b51e63c0e": {
      "model_module": "@jupyter-widgets/controls",
      "model_module_version": "1.5.0",
      "model_name": "ProgressStyleModel",
      "state": {
       "_model_module": "@jupyter-widgets/controls",
       "_model_module_version": "1.5.0",
       "_model_name": "ProgressStyleModel",
       "_view_count": null,
       "_view_module": "@jupyter-widgets/base",
       "_view_module_version": "1.2.0",
       "_view_name": "StyleView",
       "bar_color": null,
       "description_width": "initial"
      }
     }
    },
    "version_major": 2,
    "version_minor": 0
   }
  }
 },
 "nbformat": 4,
 "nbformat_minor": 4
}
